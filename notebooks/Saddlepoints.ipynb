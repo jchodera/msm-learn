{
 "metadata": {
  "name": "",
  "signature": "sha256:8d1c6cf7483e2f76d4a31706bbe11a9d8baef04f4b622dc082aa9c1dea7ab6fe"
 },
 "nbformat": 3,
 "nbformat_minor": 0,
 "worksheets": [
  {
   "cells": [
    {
     "cell_type": "markdown",
     "metadata": {},
     "source": [
      "> Can any local geometric features of the potential predict kinetic features of a configuration?\n",
      "\n",
      "Related work: Weinan E and colleagues identify the index-1 saddle points of the potential with transition states in their work on \"gentlest ascent dynamics.\" They can then construct a simple dynamical system (given a potential function that is guaranteed to have the index-1 saddle points of the potential function as its set of invariant points.\n",
      "- does this work for more complicated potentials?\n",
      "    - alanine dipeptide, etc. -- the progression of test problems in MSMbuilder\n",
      "- are there other features of interest?\n",
      "    - distance to nearest saddlepoint / minimum?\n",
      "- how can we recover kinetic features if we use altered dynamics?\n",
      "    - transition path sampling: use this new dynamics to find the metastable states efficiently, then compute determine their transition rates separately\n",
      "\n",
      "Concrete steps:\n",
      "- Plot saddlepoint index of $U(x)$ vs. kinetic properties of $x$ (e.g. stationarity, committor function)\n",
      "    - committor function!"
     ]
    },
    {
     "cell_type": "markdown",
     "metadata": {},
     "source": []
    },
    {
     "cell_type": "code",
     "collapsed": false,
     "input": [
      "from __future__ import print_function\n",
      "import numpy as np\n",
      "from matplotlib import pyplot as plt\n",
      "from matplotlib.colors import LogNorm\n",
      "\n",
      "from msmbuilder.decomposition import tICA\n",
      "from msmbuilder.example_datasets import fetch_met_enkephalin\n",
      "from msmbuilder.featurizer import AtomPairsFeaturizer\n",
      "from sklearn.pipeline import Pipeline\n",
      "\n",
      "%matplotlib inline"
     ],
     "language": "python",
     "metadata": {},
     "outputs": [],
     "prompt_number": 1
    },
    {
     "cell_type": "code",
     "collapsed": false,
     "input": [
      "dataset = fetch_met_enkephalin()\n",
      "print(dataset.DESCR)"
     ],
     "language": "python",
     "metadata": {},
     "outputs": [
      {
       "output_type": "stream",
       "stream": "stdout",
       "text": [
        "The dataset consists of ten ~50 ns molecular dynamics (MD) simulation\n",
        "trajectories of the 5 residue Met-enkaphalin peptide. The aggregate\n",
        "sampling is 499.58 ns. Simulations were performed starting from the 1st\n",
        "model in the 1PLX PDB file, solvated with 832 TIP3P water molecules using\n",
        "OpenMM 6.0. The coordinates (protein only -- the water was stripped)\n",
        "are saved every 5 picoseconds. Each of the ten trajectories is roughly\n",
        "50 ns long and contains about 10,000 snapshots.\n",
        "\n",
        "Forcefield: amber99sb-ildn; water: tip3p; nonbonded method: PME; cutoffs:\n",
        "1nm; bonds to hydrogen were constrained; integrator: langevin dynamics;\n",
        "temperature: 300K; friction coefficient: 1.0/ps; pressure control: Monte\n",
        "Carlo barostat (interval of 25 steps); timestep 2 fs.\n",
        "\n",
        "The dataset is available on figshare at\n",
        "\n",
        "http://dx.doi.org/10.6084/m9.figshare.1026324\n",
        "\n"
       ]
      }
     ],
     "prompt_number": 2
    },
    {
     "cell_type": "code",
     "collapsed": false,
     "input": [
      "from itertools import combinations\n",
      "heavy_atoms = dataset.trajectories[0].topology.select_atom_indices('heavy')\n",
      "heavy_pairs = list(combinations(heavy_atoms, 2))"
     ],
     "language": "python",
     "metadata": {},
     "outputs": [],
     "prompt_number": 3
    },
    {
     "cell_type": "code",
     "collapsed": false,
     "input": [
      "traj = dataset.trajectories"
     ],
     "language": "python",
     "metadata": {},
     "outputs": [],
     "prompt_number": 4
    },
    {
     "cell_type": "code",
     "collapsed": false,
     "input": [
      "feat = AtomPairsFeaturizer(heavy_pairs)\n",
      "featurized = feat.fit_transform(traj)"
     ],
     "language": "python",
     "metadata": {},
     "outputs": [],
     "prompt_number": 5
    },
    {
     "cell_type": "code",
     "collapsed": false,
     "input": [
      "feat_stack = np.vstack(featurized)"
     ],
     "language": "python",
     "metadata": {},
     "outputs": [],
     "prompt_number": 6
    },
    {
     "cell_type": "code",
     "collapsed": false,
     "input": [
      "import msmbuilder"
     ],
     "language": "python",
     "metadata": {},
     "outputs": [],
     "prompt_number": 7
    },
    {
     "cell_type": "code",
     "collapsed": false,
     "input": [
      "msmbuilder.featurizer."
     ],
     "language": "python",
     "metadata": {},
     "outputs": []
    },
    {
     "cell_type": "code",
     "collapsed": false,
     "input": [
      "from simtk import openmm\n",
      "from simtk.openmm import app"
     ],
     "language": "python",
     "metadata": {},
     "outputs": [],
     "prompt_number": 15
    },
    {
     "cell_type": "code",
     "collapsed": false,
     "input": [
      "b = openmm.AmoebaBondForce()"
     ],
     "language": "python",
     "metadata": {},
     "outputs": [],
     "prompt_number": 16
    },
    {
     "cell_type": "code",
     "collapsed": false,
     "input": [
      "forcefield = app.ForceField('amber99sb.xml', 'tip3p.xml')"
     ],
     "language": "python",
     "metadata": {},
     "outputs": [],
     "prompt_number": 18
    },
    {
     "cell_type": "code",
     "collapsed": false,
     "input": [
      "t = traj[0][0]"
     ],
     "language": "python",
     "metadata": {},
     "outputs": [],
     "prompt_number": 21
    },
    {
     "cell_type": "code",
     "collapsed": false,
     "input": [
      "t.topology.to_openmm()"
     ],
     "language": "python",
     "metadata": {},
     "outputs": [
      {
       "metadata": {},
       "output_type": "pyout",
       "prompt_number": 26,
       "text": [
        "<simtk.openmm.app.topology.Topology at 0x1412853d0>"
       ]
      }
     ],
     "prompt_number": 26
    },
    {
     "cell_type": "code",
     "collapsed": false,
     "input": [
      "f = forcefield.createSystem(traj[0][0].topology.to_openmm())"
     ],
     "language": "python",
     "metadata": {},
     "outputs": [],
     "prompt_number": 31
    },
    {
     "cell_type": "code",
     "collapsed": false,
     "input": [],
     "language": "python",
     "metadata": {},
     "outputs": []
    },
    {
     "cell_type": "code",
     "collapsed": false,
     "input": [
      "forces = f.getForces()\n",
      "forces"
     ],
     "language": "python",
     "metadata": {},
     "outputs": [
      {
       "metadata": {},
       "output_type": "pyout",
       "prompt_number": 34,
       "text": [
        "[<simtk.openmm.openmm.HarmonicBondForce; proxy of <Swig Object of type 'OpenMM::HarmonicBondForce *' at 0x14121ca20> >,\n",
        " <simtk.openmm.openmm.HarmonicAngleForce; proxy of <Swig Object of type 'OpenMM::HarmonicAngleForce *' at 0x14121c510> >,\n",
        " <simtk.openmm.openmm.PeriodicTorsionForce; proxy of <Swig Object of type 'OpenMM::PeriodicTorsionForce *' at 0x14121c780> >,\n",
        " <simtk.openmm.openmm.NonbondedForce; proxy of <Swig Object of type 'OpenMM::NonbondedForce *' at 0x14121c4b0> >,\n",
        " <simtk.openmm.openmm.CMMotionRemover; proxy of <Swig Object of type 'OpenMM::CMMotionRemover *' at 0x14121c600> >]"
       ]
      }
     ],
     "prompt_number": 34
    },
    {
     "cell_type": "code",
     "collapsed": false,
     "input": [
      "f0 = forces[0]\n",
      "f0"
     ],
     "language": "python",
     "metadata": {},
     "outputs": [
      {
       "metadata": {},
       "output_type": "pyout",
       "prompt_number": 37,
       "text": [
        "<simtk.openmm.openmm.HarmonicBondForce; proxy of <Swig Object of type 'OpenMM::HarmonicBondForce *' at 0x14121ca20> >"
       ]
      }
     ],
     "prompt_number": 37
    },
    {
     "cell_type": "code",
     "collapsed": false,
     "input": [],
     "language": "python",
     "metadata": {},
     "outputs": []
    }
   ],
   "metadata": {}
  }
 ]
}