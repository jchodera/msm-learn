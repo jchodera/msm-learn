{
 "metadata": {
  "name": ""
 },
 "nbformat": 3,
 "nbformat_minor": 0,
 "worksheets": [
  {
   "cells": [
    {
     "cell_type": "code",
     "collapsed": false,
     "input": [
      "# following: http://nbviewer.ipython.org/url/jakevdp.github.com/downloads/notebooks/memview_bench.ipynb"
     ],
     "language": "python",
     "metadata": {},
     "outputs": [],
     "prompt_number": 1
    },
    {
     "cell_type": "code",
     "collapsed": false,
     "input": [
      "%load_ext cythonmagic"
     ],
     "language": "python",
     "metadata": {},
     "outputs": [],
     "prompt_number": 1
    },
    {
     "cell_type": "code",
     "collapsed": false,
     "input": [
      "import numpy as np\n",
      "import numpy.random as npr\n",
      "from numpy.linalg import det"
     ],
     "language": "python",
     "metadata": {},
     "outputs": [],
     "prompt_number": 2
    },
    {
     "cell_type": "code",
     "collapsed": false,
     "input": [
      "X = npr.randn(1000,3)"
     ],
     "language": "python",
     "metadata": {},
     "outputs": [],
     "prompt_number": 23
    },
    {
     "cell_type": "code",
     "collapsed": false,
     "input": [
      "## 0. Python-only version\n",
      "\n",
      "def euclidean(x1,x2):\n",
      "    return np.sqrt(sum((x1-x2)**2))\n",
      "\n",
      "def pairwise_v1(X,metric=euclidean):\n",
      "    n,dim = X.shape\n",
      "    D = np.zeros((n,n))\n",
      "    \n",
      "    for i in range(n):\n",
      "        for j in range(n):\n",
      "            D[i,j] = metric(X[i],X[j])\n",
      "    return D"
     ],
     "language": "python",
     "metadata": {},
     "outputs": [],
     "prompt_number": 24
    },
    {
     "cell_type": "code",
     "collapsed": false,
     "input": [
      "%timeit pairwise_v1(X)"
     ],
     "language": "python",
     "metadata": {},
     "outputs": [
      {
       "output_type": "stream",
       "stream": "stdout",
       "text": [
        "1 loops, best of 3: 8.13 s per loop\n"
       ]
      }
     ],
     "prompt_number": 25
    },
    {
     "cell_type": "code",
     "collapsed": false,
     "input": [
      "%%cython\n",
      "\n",
      "import numpy as np\n",
      "\n",
      "cimport numpy as np\n",
      "from libc.math cimport sqrt\n",
      "cimport cython\n",
      "\n",
      "# a function pointer to a metric\n",
      "ctypedef double (*metric_ptr)(np.ndarray,np.ndarray)\n",
      "\n",
      "@cython.boundscheck(False)\n",
      "@cython.wraparound(False)\n",
      "cdef double euclidean(np.ndarray[double,ndim=1,mode='c'] x1,\n",
      "                      np.ndarray[double,ndim=1,mode='c'] x2):\n",
      "    cdef double tmp,d\n",
      "    cdef np.intp_t i,N\n",
      "    \n",
      "    d = 0\n",
      "    N = x1.shape[0]\n",
      "    \n",
      "    for i in range(N):\n",
      "        tmp = x1[i] - x2[i]\n",
      "        d+=tmp*tmp\n",
      "    return sqrt(d)\n",
      "\n",
      "@cython.boundscheck(False)\n",
      "@cython.wraparound(False)\n",
      "def pairwise_v2(np.ndarray[double, ndim=2, mode='c'] X not None,\n",
      "                metric = 'euclidean'):\n",
      "    cdef metric_ptr dist_func\n",
      "    if metric == 'euclidean':\n",
      "        dist_func = &euclidean\n",
      "    else:\n",
      "        raise ValueError(\"unrecognized metric\")\n",
      "\n",
      "    cdef np.intp_t i, j, n\n",
      "    n = X.shape[0]\n",
      "\n",
      "    cdef np.ndarray[double, ndim=2, mode='c'] D = np.empty((n,\n",
      "                                                            n))\n",
      "    for i in range(n):\n",
      "        for j in range(n):\n",
      "            D[i, j] = dist_func(X[i], X[j])\n",
      "\n",
      "    return D"
     ],
     "language": "python",
     "metadata": {},
     "outputs": [],
     "prompt_number": 28
    },
    {
     "cell_type": "code",
     "collapsed": false,
     "input": [
      "%timeit pairwise_v1(X)"
     ],
     "language": "python",
     "metadata": {},
     "outputs": [
      {
       "output_type": "stream",
       "stream": "stdout",
       "text": [
        "1 loops, best of 3: 8.15 s per loop\n"
       ]
      }
     ],
     "prompt_number": 29
    },
    {
     "cell_type": "code",
     "collapsed": false,
     "input": [
      "%timeit pairwise_v2(X)"
     ],
     "language": "python",
     "metadata": {},
     "outputs": [
      {
       "output_type": "stream",
       "stream": "stdout",
       "text": [
        "1 loops, best of 3: 2.26 s per loop\n"
       ]
      }
     ],
     "prompt_number": 30
    },
    {
     "cell_type": "code",
     "collapsed": false,
     "input": [
      "%%cython\n",
      "import numpy as np\n",
      "\n",
      "cimport numpy as np\n",
      "from libc.math cimport sqrt\n",
      "cimport cython\n",
      "\n",
      "ctypedef double (*metric_ptr)(double[::1], double[::1])\n",
      "\n",
      "cdef double euclidean(double[::1] x1,\n",
      "                      double[::1] x2):\n",
      "    cdef double tmp,d\n",
      "    cdef np.intp_t i,N\n",
      "    \n",
      "    d = 0\n",
      "    N = x1.shape[0]\n",
      "    \n",
      "    for i in range(N):\n",
      "        tmp = x1[i] - x2[i]\n",
      "        d+=tmp*tmp\n",
      "    return sqrt(d)\n",
      "\n",
      "\n",
      "def pairwise_v3(double[:, ::1] X not None,\n",
      "                metric = 'euclidean'):\n",
      "    cdef metric_ptr dist_func\n",
      "    if metric == 'euclidean':\n",
      "        dist_func = &euclidean\n",
      "    else:\n",
      "        raise ValueError(\"unrecognized metric\")\n",
      "\n",
      "    cdef np.intp_t i, j, n_samples\n",
      "    n_samples = X.shape[0]\n",
      "\n",
      "    cdef double[:, ::1] D = np.empty((n_samples, n_samples))\n",
      "\n",
      "    for i in range(n_samples):\n",
      "        for j in range(n_samples):\n",
      "            D[i, j] = dist_func(X[i], X[j])\n",
      "\n",
      "    return D"
     ],
     "language": "python",
     "metadata": {},
     "outputs": [],
     "prompt_number": 31
    },
    {
     "cell_type": "code",
     "collapsed": false,
     "input": [
      "%timeit pairwise_v3(X)"
     ],
     "language": "python",
     "metadata": {},
     "outputs": [
      {
       "output_type": "stream",
       "stream": "stdout",
       "text": [
        "10 loops, best of 3: 44.7 ms per loop\n"
       ]
      }
     ],
     "prompt_number": 32
    },
    {
     "cell_type": "code",
     "collapsed": false,
     "input": [
      "%%cython\n",
      "\n",
      "import numpy as np\n",
      "\n",
      "cimport numpy as np\n",
      "from libc.math cimport sqrt\n",
      "cimport cython\n",
      "\n",
      "# define a function pointer to a metric\n",
      "ctypedef double (*metric_ptr)(double*, double*, int)\n",
      "\n",
      "@cython.boundscheck(False)\n",
      "@cython.wraparound(False)\n",
      "cdef double euclidean_distance(double* x1,\n",
      "                               double* x2,\n",
      "                               int N):\n",
      "    cdef double tmp, d\n",
      "    cdef np.intp_t i\n",
      "\n",
      "    d = 0\n",
      "\n",
      "    for i in range(N):\n",
      "        tmp = x1[i] - x2[i]\n",
      "        d += tmp * tmp\n",
      "\n",
      "    return sqrt(d)\n",
      "\n",
      "\n",
      "@cython.boundscheck(False)\n",
      "@cython.wraparound(False)\n",
      "def pairwise_v4(double[:, ::1] X not None,\n",
      "                metric = 'euclidean'):\n",
      "    cdef metric_ptr dist_func\n",
      "    if metric == 'euclidean':\n",
      "        dist_func = &euclidean_distance\n",
      "    else:\n",
      "        raise ValueError(\"unrecognized metric\")\n",
      "\n",
      "    cdef np.intp_t i, j, n_samples, n_dim\n",
      "    n_samples = X.shape[0]\n",
      "    n_dim = X.shape[1]\n",
      "\n",
      "    cdef double[:, ::1] D = np.empty((n_samples, n_samples))\n",
      "\n",
      "    cdef double* Dptr = &D[0, 0]\n",
      "    cdef double* Xptr = &X[0, 0]\n",
      "\n",
      "    for i in range(n_samples):\n",
      "        for j in range(n_samples):\n",
      "            Dptr[i * n_samples + j] = dist_func(Xptr + i * n_dim,\n",
      "                                                Xptr + j * n_dim,\n",
      "                                                n_dim)\n",
      "    return D"
     ],
     "language": "python",
     "metadata": {},
     "outputs": [],
     "prompt_number": 33
    },
    {
     "cell_type": "code",
     "collapsed": false,
     "input": [
      "%timeit pairwise_v4(X)"
     ],
     "language": "python",
     "metadata": {},
     "outputs": [
      {
       "output_type": "stream",
       "stream": "stdout",
       "text": [
        "100 loops, best of 3: 4.68 ms per loop\n"
       ]
      }
     ],
     "prompt_number": 34
    },
    {
     "cell_type": "code",
     "collapsed": false,
     "input": [
      "from scipy.spatial.distance import pdist"
     ],
     "language": "python",
     "metadata": {},
     "outputs": [],
     "prompt_number": 26
    },
    {
     "cell_type": "code",
     "collapsed": false,
     "input": [
      "%timeit pdist(X)"
     ],
     "language": "python",
     "metadata": {},
     "outputs": [
      {
       "output_type": "stream",
       "stream": "stdout",
       "text": [
        "100 loops, best of 3: 2.5 ms per loop\n"
       ]
      }
     ],
     "prompt_number": 27
    },
    {
     "cell_type": "code",
     "collapsed": false,
     "input": [
      "X = npr.randn(500,100,3)"
     ],
     "language": "python",
     "metadata": {},
     "outputs": [],
     "prompt_number": 35
    },
    {
     "cell_type": "code",
     "collapsed": false,
     "input": [
      "from numpy.linalg import det\n",
      "BC = lambda X,Y: det(X.T.dot(Y))/ np.sqrt(det(X.T.dot(X)) * det(Y.T.dot(Y)))"
     ],
     "language": "python",
     "metadata": {},
     "outputs": [],
     "prompt_number": 36
    },
    {
     "cell_type": "code",
     "collapsed": false,
     "input": [
      "BC(X[0],X[10])"
     ],
     "language": "python",
     "metadata": {},
     "outputs": [
      {
       "metadata": {},
       "output_type": "pyout",
       "prompt_number": 39,
       "text": [
        "0.00097428727055857804"
       ]
      }
     ],
     "prompt_number": 39
    },
    {
     "cell_type": "code",
     "collapsed": false,
     "input": [
      "def pairwise_bc_v1(X):\n",
      "    bc = np.zeros((len(X),len(X)))\n",
      "    for i in range(len(X)):\n",
      "        for j in range(len(X)):\n",
      "            bc[i,j] = BC(X[i],X[j])\n",
      "    return bc"
     ],
     "language": "python",
     "metadata": {},
     "outputs": [],
     "prompt_number": 40
    },
    {
     "cell_type": "code",
     "collapsed": false,
     "input": [],
     "language": "python",
     "metadata": {},
     "outputs": []
    },
    {
     "cell_type": "code",
     "collapsed": false,
     "input": [],
     "language": "python",
     "metadata": {},
     "outputs": []
    },
    {
     "cell_type": "code",
     "collapsed": false,
     "input": [
      "%timeit pairwise_bc_v1(X)"
     ],
     "language": "python",
     "metadata": {},
     "outputs": [
      {
       "output_type": "stream",
       "stream": "stdout",
       "text": [
        "1 loops, best of 3: 13 s per loop\n"
       ]
      }
     ],
     "prompt_number": 42
    },
    {
     "cell_type": "code",
     "collapsed": false,
     "input": [
      "%%cython\n",
      "import numpy as np\n",
      "\n",
      "cimport numpy as np\n",
      "from libc.math cimport sqrt\n",
      "cimport cython\n",
      "\n",
      "ctypedef double (*metric_ptr)(double[::2], double[::2])\n",
      "\n",
      "cdef double euclidean(double[::2] x1,\n",
      "                      double[::2] x2):\n",
      "    cdef double tmp,d\n",
      "    cdef np.intp_t i,N\n",
      "    \n",
      "    d = 0\n",
      "    N = x1.shape[0]\n",
      "    \n",
      "    for i in range(N):\n",
      "        tmp = x1[i] - x2[i]\n",
      "        d+=tmp*tmp\n",
      "    return sqrt(d)\n",
      "\n",
      "\n",
      "def pairwise_v3(double[:, ::1] X not None,\n",
      "                metric = 'euclidean'):\n",
      "    cdef metric_ptr dist_func\n",
      "    if metric == 'euclidean':\n",
      "        dist_func = &euclidean\n",
      "    else:\n",
      "        raise ValueError(\"unrecognized metric\")\n",
      "\n",
      "    cdef np.intp_t i, j, n_samples\n",
      "    n_samples = X.shape[0]\n",
      "\n",
      "    cdef double[:, ::1] D = np.empty((n_samples, n_samples))\n",
      "\n",
      "    for i in range(n_samples):\n",
      "        for j in range(n_samples):\n",
      "            D[i, j] = dist_func(X[i], X[j])\n",
      "\n",
      "    return D"
     ],
     "language": "python",
     "metadata": {},
     "outputs": []
    },
    {
     "cell_type": "code",
     "collapsed": false,
     "input": [
      "def myloop(X):\n",
      "    s=0\n",
      "    for i in range(X.shape[0]):\n",
      "        for j in range(X.shape[1]):\n",
      "            for k in range(X.shape[2]):\n",
      "                s+=X[i,j,k]\n",
      "    return s"
     ],
     "language": "python",
     "metadata": {},
     "outputs": [],
     "prompt_number": 50
    },
    {
     "cell_type": "code",
     "collapsed": false,
     "input": [
      "%%cython\n",
      "import numpy as np\n",
      "\n",
      "cimport numpy as np\n",
      "from libc.math cimport sqrt\n",
      "cimport cython\n",
      "\n",
      "def myloop_c(np.ndarray[np.double_t,ndim=3] X):\n",
      "    cdef int i,j,k\n",
      "    cdef double s\n",
      "    s=0\n",
      "    for i in range(X.shape[0]):\n",
      "        for j in range(X.shape[1]):\n",
      "            for k in range(X.shape[2]):\n",
      "                s+=X[i,j,k]\n",
      "    return s"
     ],
     "language": "python",
     "metadata": {},
     "outputs": [],
     "prompt_number": 53
    },
    {
     "cell_type": "code",
     "collapsed": false,
     "input": [
      "X.shape"
     ],
     "language": "python",
     "metadata": {},
     "outputs": [
      {
       "metadata": {},
       "output_type": "pyout",
       "prompt_number": 48,
       "text": [
        "(500, 100, 3)"
       ]
      }
     ],
     "prompt_number": 48
    },
    {
     "cell_type": "code",
     "collapsed": false,
     "input": [
      "%timeit myloop(X)"
     ],
     "language": "python",
     "metadata": {},
     "outputs": [
      {
       "output_type": "stream",
       "stream": "stdout",
       "text": [
        "10 loops, best of 3: 110 ms per loop\n"
       ]
      }
     ],
     "prompt_number": 52
    },
    {
     "cell_type": "code",
     "collapsed": false,
     "input": [
      "%timeit myloop_c(X)"
     ],
     "language": "python",
     "metadata": {},
     "outputs": [
      {
       "output_type": "stream",
       "stream": "stdout",
       "text": [
        "1000 loops, best of 3: 239 \u00b5s per loop\n"
       ]
      }
     ],
     "prompt_number": 54
    },
    {
     "cell_type": "code",
     "collapsed": false,
     "input": [
      "%%cython\n",
      "import numpy as np\n",
      "from numpy.linalg import det\n",
      "\n",
      "cimport numpy as np\n",
      "from libc.math cimport sqrt\n",
      "cimport cython\n",
      "\n",
      "def mymat_c(np.ndarray[np.double_t,ndim=3] X):\n",
      "    cdef int i,j,k\n",
      "    cdef double s\n",
      "    s = 0\n",
      "    \n",
      "    \n",
      "    \n",
      "    return s"
     ],
     "language": "python",
     "metadata": {},
     "outputs": [],
     "prompt_number": 63
    },
    {
     "cell_type": "code",
     "collapsed": false,
     "input": [
      "mymat_c(X)"
     ],
     "language": "python",
     "metadata": {},
     "outputs": [
      {
       "metadata": {},
       "output_type": "pyout",
       "prompt_number": 64,
       "text": [
        "0.0"
       ]
      }
     ],
     "prompt_number": 64
    },
    {
     "cell_type": "code",
     "collapsed": false,
     "input": [
      "X.shape"
     ],
     "language": "python",
     "metadata": {},
     "outputs": [
      {
       "metadata": {},
       "output_type": "pyout",
       "prompt_number": 62,
       "text": [
        "(500, 100, 3)"
       ]
      }
     ],
     "prompt_number": 62
    },
    {
     "cell_type": "code",
     "collapsed": false,
     "input": [
      "%%cython\n",
      "import numpy as np\n",
      "from numpy.linalg import det\n",
      "\n",
      "cimport numpy as np\n",
      "from libc.math cimport sqrt\n",
      "cimport cython\n",
      "\n",
      "def mymat_c(np.ndarray[np.double_t,ndim=2] X):\n",
      "    cdef int i,j,k\n",
      "    cdef double s\n",
      "    s = 0\n",
      "    \n",
      "    s += det(X)\n",
      "    \n",
      "    return s"
     ],
     "language": "python",
     "metadata": {},
     "outputs": [],
     "prompt_number": 66
    },
    {
     "cell_type": "code",
     "collapsed": false,
     "input": [
      "X[0].shape"
     ],
     "language": "python",
     "metadata": {},
     "outputs": [
      {
       "metadata": {},
       "output_type": "pyout",
       "prompt_number": 69,
       "text": [
        "(100, 3)"
       ]
      }
     ],
     "prompt_number": 69
    },
    {
     "cell_type": "code",
     "collapsed": false,
     "input": [
      "sq = npr.randn(100,100)"
     ],
     "language": "python",
     "metadata": {},
     "outputs": [],
     "prompt_number": 76
    },
    {
     "cell_type": "code",
     "collapsed": false,
     "input": [
      "mymat_c(sq)"
     ],
     "language": "python",
     "metadata": {},
     "outputs": [
      {
       "metadata": {},
       "output_type": "pyout",
       "prompt_number": 77,
       "text": [
        "1.5574946108189126e+76"
       ]
      }
     ],
     "prompt_number": 77
    },
    {
     "cell_type": "code",
     "collapsed": false,
     "input": [
      "%%cython\n",
      "import numpy as np\n",
      "from numpy.linalg import det\n",
      "\n",
      "cimport numpy as np\n",
      "from libc.math cimport sqrt\n",
      "cimport cython\n",
      "\n",
      "def binet_cauchy_c(np.ndarray[np.double_t,ndim=2] X,\n",
      "                   np.ndarray[np.double_t,ndim=2] Y):\n",
      "    \n",
      "    return det(X.T.dot(Y))/ sqrt(det(X.T.dot(X)) * det(Y.T.dot(Y)))"
     ],
     "language": "python",
     "metadata": {},
     "outputs": [],
     "prompt_number": 86
    },
    {
     "cell_type": "code",
     "collapsed": false,
     "input": [
      "binet_cauchy_p = lambda X,Y: det(X.T.dot(Y))/ np.sqrt(det(X.T.dot(X)) * det(Y.T.dot(Y)))"
     ],
     "language": "python",
     "metadata": {},
     "outputs": [],
     "prompt_number": 73
    },
    {
     "cell_type": "code",
     "collapsed": false,
     "input": [
      "%timeit binet_cauchy_p(sq,sq)"
     ],
     "language": "python",
     "metadata": {},
     "outputs": [
      {
       "output_type": "stream",
       "stream": "stdout",
       "text": [
        "1000 loops, best of 3: 662 \u00b5s per loop\n"
       ]
      }
     ],
     "prompt_number": 78
    },
    {
     "cell_type": "code",
     "collapsed": false,
     "input": [
      "%timeit binet_cauchy_c(sq,sq)"
     ],
     "language": "python",
     "metadata": {},
     "outputs": [
      {
       "output_type": "stream",
       "stream": "stdout",
       "text": [
        "1000 loops, best of 3: 616 \u00b5s per loop\n"
       ]
      }
     ],
     "prompt_number": 79
    },
    {
     "cell_type": "code",
     "collapsed": false,
     "input": [],
     "language": "python",
     "metadata": {},
     "outputs": []
    },
    {
     "cell_type": "code",
     "collapsed": false,
     "input": [
      "%%cython\n",
      "import numpy as np\n",
      "from numpy.linalg import det\n",
      "\n",
      "cimport numpy as np\n",
      "from libc.math cimport sqrt\n",
      "cimport cython\n",
      "\n",
      "cdef double binet_cauchy_c(np.ndarray[np.double_t,ndim=2] X,\n",
      "                   np.ndarray[np.double_t,ndim=2] Y):\n",
      "    \n",
      "    return det(X.T.dot(Y))/ sqrt(det(X.T.dot(X)) * det(Y.T.dot(Y)))\n",
      "\n",
      "def pairwise_bc_c(np.ndarray[np.double_t,ndim=3] X):\n",
      "    n_samples = X.shape[0]\n",
      "    cdef double[:, ::1] D = np.empty((n_samples, n_samples))\n",
      "    cdef int i,j\n",
      "    for i in xrange(n_samples):\n",
      "        for j in xrange(n_samples):\n",
      "            D[i,j] = binet_cauchy_c(X[i,:,:],X[j,:,:])\n",
      "    return D\n",
      "\n",
      "# pointers\n",
      "def pairwise_bc_pointers(double[:,:,::1] X):\n",
      "    cdef int n_samples,mat_size\n",
      "    n_samples = X.shape[0]\n",
      "    mat_size = X.shape[1]*X.shape[2]\n",
      "    cdef double[:, ::1] D = np.empty((n_samples, n_samples))\n",
      "    cdef int i,j\n",
      "    cdef double* Dptr = &D[0, 0]\n",
      "    cdef double* Xptr = &X[0, 0, 0]\n",
      "    for i in xrange(n_samples):\n",
      "        for j in xrange(n_samples):\n",
      "            #D[i,j] = binet_cauchy_c(X[i,:,:],X[j,:,:])\n",
      "            Dptr[i*n_samples+j] = binet_cauchy_c(Xptr+i*mat_size,\n",
      "                                              Xptr+j*mat_size)\n",
      "    return D"
     ],
     "language": "python",
     "metadata": {},
     "outputs": [
      {
       "output_type": "stream",
       "stream": "stderr",
       "text": [
        "\n",
        "Error compiling Cython file:\n",
        "------------------------------------------------------------\n",
        "...\n",
        "    cdef double* Dptr = &D[0, 0]\n",
        "    cdef double* Xptr = &X[0, 0, 0]\n",
        "    for i in xrange(n_samples):\n",
        "        for j in xrange(n_samples):\n",
        "            #D[i,j] = binet_cauchy_c(X[i,:,:],X[j,:,:])\n",
        "            Dptr[i*n_samples+j] = pairwise_bc(Xptr+i*mat_size,\n",
        "                                            ^\n",
        "------------------------------------------------------------\n",
        "\n",
        "/Users/joshuafass/.ipython/cython/_cython_magic_57aa37c15d80b7bc1ad7aebcebadc62b.pyx:34:45: undeclared name not builtin: pairwise_bc\n",
        "\n",
        "Error compiling Cython file:\n",
        "------------------------------------------------------------\n",
        "...\n",
        "    cdef double* Dptr = &D[0, 0]\n",
        "    cdef double* Xptr = &X[0, 0, 0]\n",
        "    for i in xrange(n_samples):\n",
        "        for j in xrange(n_samples):\n",
        "            #D[i,j] = binet_cauchy_c(X[i,:,:],X[j,:,:])\n",
        "            Dptr[i*n_samples+j] = pairwise_bc(Xptr+i*mat_size,\n",
        "                                                 ^\n",
        "------------------------------------------------------------\n",
        "\n",
        "/Users/joshuafass/.ipython/cython/_cython_magic_57aa37c15d80b7bc1ad7aebcebadc62b.pyx:34:50: Cannot convert 'double *' to Python object\n",
        "\n",
        "Error compiling Cython file:\n",
        "------------------------------------------------------------\n",
        "...\n",
        "    cdef double* Xptr = &X[0, 0, 0]\n",
        "    for i in xrange(n_samples):\n",
        "        for j in xrange(n_samples):\n",
        "            #D[i,j] = binet_cauchy_c(X[i,:,:],X[j,:,:])\n",
        "            Dptr[i*n_samples+j] = pairwise_bc(Xptr+i*mat_size,\n",
        "                                              Xptr+j*mat_size)\n",
        "                                                 ^\n",
        "------------------------------------------------------------\n",
        "\n",
        "/Users/joshuafass/.ipython/cython/_cython_magic_57aa37c15d80b7bc1ad7aebcebadc62b.pyx:35:50: Cannot convert 'double *' to Python object\n"
       ]
      }
     ],
     "prompt_number": 89
    },
    {
     "cell_type": "code",
     "collapsed": false,
     "input": [
      "%timeit binet_cauchy_c(X[0],X[-1])"
     ],
     "language": "python",
     "metadata": {},
     "outputs": [
      {
       "output_type": "stream",
       "stream": "stdout",
       "text": [
        "10000 loops, best of 3: 50.6 \u00b5s per loop\n"
       ]
      }
     ],
     "prompt_number": 87
    },
    {
     "cell_type": "code",
     "collapsed": false,
     "input": [
      "%timeit pairwise_bc(X)"
     ],
     "language": "python",
     "metadata": {},
     "outputs": [
      {
       "output_type": "stream",
       "stream": "stdout",
       "text": [
        "1 loops, best of 3: 13.9 s per loop\n"
       ]
      }
     ],
     "prompt_number": 83
    },
    {
     "cell_type": "code",
     "collapsed": false,
     "input": [
      "def pairwise_bc_p(X):\n",
      "    n_samples = X.shape[0]\n",
      "    D = np.empty((n_samples, n_samples))\n",
      "    for i in xrange(n_samples):\n",
      "        for j in xrange(n_samples):\n",
      "            D[i,j] = binet_cauchy_c(X[i,:,:],X[j,:,:])\n",
      "    return D"
     ],
     "language": "python",
     "metadata": {},
     "outputs": [],
     "prompt_number": 84
    },
    {
     "cell_type": "code",
     "collapsed": false,
     "input": [
      "%timeit pairwise_bc_p(X)"
     ],
     "language": "python",
     "metadata": {},
     "outputs": [
      {
       "output_type": "stream",
       "stream": "stdout",
       "text": [
        "1 loops, best of 3: 14.2 s per loop\n"
       ]
      }
     ],
     "prompt_number": 85
    },
    {
     "cell_type": "code",
     "collapsed": false,
     "input": [
      "X.shape"
     ],
     "language": "python",
     "metadata": {},
     "outputs": [
      {
       "metadata": {},
       "output_type": "pyout",
       "prompt_number": 82,
       "text": [
        "(500, 100, 3)"
       ]
      }
     ],
     "prompt_number": 82
    },
    {
     "cell_type": "code",
     "collapsed": false,
     "input": [
      "%%cython\n",
      "import numpy as np\n",
      "from numpy.linalg import det\n",
      "\n",
      "cimport numpy as np\n",
      "from libc.math cimport sqrt\n",
      "cimport cython\n",
      "\n",
      "@cython.boundscheck(False)\n",
      "@cython.wraparound(False)\n",
      "cdef double distance(double[:,::1] X,\n",
      "                     np.intp_t i1,\n",
      "                     np.intp_t i2):\n",
      "    cdef double tmp,d\n",
      "    cdef np.intp_t j\n",
      "    d = 0\n",
      "    \n",
      "    for j in range(X.shape[1]):\n",
      "        tmp = X[i1,j] - X[i2,j]\n",
      "        d+= tmp*tmp\n",
      "    return sqrt(d)\n",
      "@cython.boundscheck(False)\n",
      "@cython.wraparound(False)\n",
      "def pairwise_no_slice(double[:,::1] X not None):\n",
      "    cdef np.intp_t i,j,n,dim\n",
      "    n=X.shape[0]\n",
      "    dim = X.shape[1]\n",
      "    cdef double[:,::1] D = np.empty((n,n))\n",
      "    for i in range(n):\n",
      "        for j in range(n):\n",
      "            D[i,j] = distance(X,i,j)\n",
      "    return D"
     ],
     "language": "python",
     "metadata": {},
     "outputs": [],
     "prompt_number": 105
    },
    {
     "cell_type": "code",
     "collapsed": false,
     "input": [
      "X = npr.randn(1000,3)"
     ],
     "language": "python",
     "metadata": {},
     "outputs": [],
     "prompt_number": 106
    },
    {
     "cell_type": "code",
     "collapsed": false,
     "input": [
      "%timeit pairwise_no_slice(X)"
     ],
     "language": "python",
     "metadata": {},
     "outputs": [
      {
       "output_type": "stream",
       "stream": "stdout",
       "text": [
        "100 loops, best of 3: 4.83 ms per loop\n"
       ]
      }
     ],
     "prompt_number": 107
    },
    {
     "cell_type": "code",
     "collapsed": false,
     "input": [
      "%timeit pdist(X)"
     ],
     "language": "python",
     "metadata": {},
     "outputs": [
      {
       "output_type": "stream",
       "stream": "stdout",
       "text": [
        "100 loops, best of 3: 3.25 ms per loop\n"
       ]
      }
     ],
     "prompt_number": 98
    },
    {
     "cell_type": "code",
     "collapsed": false,
     "input": [
      "%%cython\n",
      "\n",
      "import numpy as np\n",
      "\n",
      "cimport numpy as np\n",
      "from libc.math cimport sqrt\n",
      "cimport cython\n",
      "\n",
      "# define a function pointer to a metric\n",
      "ctypedef double (*metric_ptr)(double[:, ::1], np.intp_t, np.intp_t)\n",
      "\n",
      "@cython.boundscheck(False)\n",
      "@cython.wraparound(False)\n",
      "cdef double euclidean_distance(double[:, ::1] X,\n",
      "                               np.intp_t i1, np.intp_t i2):\n",
      "    cdef double tmp, d\n",
      "    cdef np.intp_t j\n",
      "\n",
      "    d = 0\n",
      "\n",
      "    for j in range(X.shape[1]):\n",
      "        tmp = X[i1, j] - X[i2, j]\n",
      "        d += tmp * tmp\n",
      "\n",
      "    return sqrt(d)\n",
      "\n",
      "\n",
      "@cython.boundscheck(False)\n",
      "@cython.wraparound(False)\n",
      "def pairwise_v5(double[:, ::1] X not None):\n",
      "    cdef np.intp_t i, j, n_samples, n_dim\n",
      "    n_samples = X.shape[0]\n",
      "    n_dim = X.shape[1]\n",
      "\n",
      "    cdef double[:, ::1] D = np.empty((n_samples, n_samples))\n",
      "\n",
      "    for i in range(n_samples):\n",
      "        for j in range(n_samples):\n",
      "            D[i, j] = euclidean_distance(X, i, j)\n",
      "\n",
      "    return D"
     ],
     "language": "python",
     "metadata": {},
     "outputs": [],
     "prompt_number": 103
    },
    {
     "cell_type": "code",
     "collapsed": false,
     "input": [
      "%timeit pairwise_v5(X)"
     ],
     "language": "python",
     "metadata": {},
     "outputs": [
      {
       "output_type": "stream",
       "stream": "stdout",
       "text": [
        "100 loops, best of 3: 4.77 ms per loop\n"
       ]
      }
     ],
     "prompt_number": 104
    },
    {
     "cell_type": "code",
     "collapsed": false,
     "input": [],
     "language": "python",
     "metadata": {},
     "outputs": []
    },
    {
     "cell_type": "code",
     "collapsed": false,
     "input": [
      "%%cython\n",
      "import numpy as np\n",
      "from numpy.linalg import det\n",
      "\n",
      "cimport numpy as np\n",
      "from libc.math cimport sqrt\n",
      "cimport cython\n",
      "\n",
      "cdef double bc(double[:,:,:] X,\n",
      "                     np.intp_t i1,\n",
      "                     np.intp_t i2):\n",
      "    return sum(X[i1])\n",
      "    #return det(X[i1].T.dot(X[i2]))/ sqrt(det(X[i1].T.dot(X[i1])) * det(X[i2].T.dot(X[i2])))\n",
      "\n",
      "def pairwise_bc_no_slice(double[:,:,:] X not None):\n",
      "    cdef np.intp_t i,j,n\n",
      "    n=X.shape[0]\n",
      "    cdef np.ndarray D = np.zeros((n,n),dtype=np.double)\n",
      "    for i in range(n):\n",
      "        for j in range(n):\n",
      "            D[i,j] = bc(X,i,j)\n",
      "    return D"
     ],
     "language": "python",
     "metadata": {},
     "outputs": [],
     "prompt_number": 7
    },
    {
     "cell_type": "code",
     "collapsed": false,
     "input": [
      "X = npr.randn(500,10,3)"
     ],
     "language": "python",
     "metadata": {},
     "outputs": [],
     "prompt_number": 8
    },
    {
     "cell_type": "code",
     "collapsed": false,
     "input": [],
     "language": "python",
     "metadata": {},
     "outputs": [
      {
       "metadata": {},
       "output_type": "pyout",
       "prompt_number": 20,
       "text": [
        "<MemoryView of 'array' at 0x10d169300>"
       ]
      }
     ],
     "prompt_number": 20
    },
    {
     "cell_type": "code",
     "collapsed": false,
     "input": [],
     "language": "python",
     "metadata": {},
     "outputs": []
    }
   ],
   "metadata": {}
  }
 ]
}