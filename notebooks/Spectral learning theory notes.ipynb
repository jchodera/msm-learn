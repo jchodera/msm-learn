{
 "metadata": {
  "name": "",
  "signature": "sha256:96fd9f64856ffca2620dc4d7ac815bf5616b7d44b9c5c89566a3b185520701e0"
 },
 "nbformat": 3,
 "nbformat_minor": 0,
 "worksheets": [
  {
   "cells": [
    {
     "cell_type": "markdown",
     "metadata": {},
     "source": [
      "*Facts and computations that will be useful in learning and interpreting Markov models*\n",
      "\n",
      "- What are eigenvalues/eigenvectors?\n",
      "- How do you compute eigenvalues and eigenvectors?\n",
      "- How do you interpret eigenspectrum of a transition matrix?\n",
      "- How do you factor matrices?\n",
      "    - http://en.wikipedia.org/wiki/Matrix_decomposition\n",
      "- What are properties of invertible matrices? \n",
      "    - http://en.wikipedia.org/wiki/Invertible_matrix\n",
      "- What is the Moore-Penrose pseudo-inverse, how do you compute it, and how can we use it in MSM theory?\n",
      "    - http://en.wikipedia.org/wiki/Moore%E2%80%93Penrose_pseudoinverse\n",
      "- How can we exploit matrix sparsity?\n",
      "    - http://en.wikipedia.org/wiki/Sparse_matrix\n",
      "- What are some neat properties of diagonal matrices?"
     ]
    },
    {
     "cell_type": "markdown",
     "metadata": {},
     "source": [
      "- How do you find a matrix $U$ s.t. $U^T V$ is invertible?\n",
      "    - Singular value decomposition\n",
      "        - Step-by-step!"
     ]
    },
    {
     "cell_type": "markdown",
     "metadata": {},
     "source": [
      "- Rank of a matrix?\n",
      "    - Number of linearly independent columns (equal to the number of linearly independent rows) -- revealed by SVD, or more cheaply, LU decomposition"
     ]
    },
    {
     "cell_type": "markdown",
     "metadata": {},
     "source": [
      "- Probability theory:\n",
      "    - Tail inequality bounds?\n",
      "    - Matrix perturbation theory?"
     ]
    },
    {
     "cell_type": "markdown",
     "metadata": {},
     "source": [
      "Tutorial on Spectral Clustering:\n",
      "- http://www.kyb.mpg.de/fileadmin/user_upload/files/publications/attachments/Luxburg07_tutorial_4488%5B0%5D.pdf"
     ]
    },
    {
     "cell_type": "code",
     "collapsed": false,
     "input": [],
     "language": "python",
     "metadata": {},
     "outputs": []
    }
   ],
   "metadata": {}
  }
 ]
}