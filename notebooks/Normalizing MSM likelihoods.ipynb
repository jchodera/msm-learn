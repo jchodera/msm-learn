{
 "cells": [
  {
   "cell_type": "markdown",
   "metadata": {},
   "source": [
    "The molecular kinetics community often builds discrete-state models of continuous-state time-series, called Markov State Models (MSMs).\n",
    "\n",
    "**How do we compute the likelihood of a time-series given an MSM?**"
   ]
  },
  {
   "cell_type": "markdown",
   "metadata": {},
   "source": [
    "Let's say we want to compute the likelihood of a vector-valued sequence given an MSM. The MSM is defined by (1) a partitioning of the entire continuous space into $n$ non-overlapping chunks, and (2) an $n \\times n$ transition matrix $T$, where each entry $T_{ij}$ is the probability that you'll be anywhere in chunk $j$ if you start anywhere in chunk $i$ and wait a while.\n",
    "\n",
    "The likelihood of a discrete sequence, $S = (s_1,s_2,\\dots,s_N)$ is easy, it's just:\n",
    "\n",
    "$$p(S) = p(s_1) \\prod_{t=2}^N p(s_t | s_{t-1}) = p(s_1) \\prod_{t=2}^N T_{s_{t-1} s_t}$$\n",
    "\n",
    "This is what's currently done in MSMBuilder when you ask for a likelihood, for example: https://github.com/msmbuilder/msmbuilder/blob/master/msmbuilder/msm/msm.py#L318\n",
    "\n",
    "But in the case of MSMs, this obviously doesn't tell the whole story. You could, for instance, choose a totally useless state-space partitioning that maps any possible vector to the same discrete state $(n=1, T = T_{11}=1.0)$, but evaluating this likelihood function would tell you that the probability of the sequence is $1.0$.\n",
    "\n",
    "What we really want is the likelihood of a vector-valued sequence, $X = ( \\vec{x}_1, \\vec{x}_2, \\dots, \\vec{x}_N)$:\n",
    "\n",
    "$$p(X) = p(\\vec{x}_1) \\prod_{t = 2}^N p(\\vec{x}_t | \\vec{x}_{t-1})$$\n",
    "\n",
    "Evaluating this from an MSM requires one more step. This is because the probability density at any individual point in a partition is not equal to the probability of the whole partition-- instead the probability density has to *integrate* to that value. Consequently, the transition probability $p(\\vec{x}_t | \\vec{x}_{t-1})$ isn't simply equal the corresponding element of $T$. $T_{ij}$ is actually an integral:\n",
    "\n",
    "$$T_{ij} = \\int_{s_j} p(\\vec{y} | \\vec{x})d\\vec{y}$$\n",
    "\n",
    "where the \"origin point\" is anywhere in the partition $i$, $\\vec{x} \\in s_i$, and we integrate over all \"destination points\" in the partition $j$, $\\vec{y} \\in s_j$.\n",
    "\n",
    "Since the transition density in an MSM is uniform within each partition, this integral should be easy. All we need is the volume $V_j$ of each partition:\n",
    "\n",
    "$$\\begin{aligned}T_{ij} & = V_j p(\\vec{y} | \\vec{x})\\\\\n",
    "p(\\vec{y} | \\vec{x}) & = T_{ij}/{V_j}\\end{aligned}$$\n",
    "\n",
    "for any $\\vec{x} \\in s_i$, $\\vec{y} \\in s_j$.\n",
    "\n",
    "So now we can compute the vector-to-vector transition probability from quantities that the MSM defines: the volume of each partition, and the transition matrix."
   ]
  },
  {
   "cell_type": "code",
   "execution_count": 1,
   "metadata": {
    "collapsed": true
   },
   "outputs": [],
   "source": [
    "# basic imports\n",
    "import numpy as np\n",
    "import numpy.random as npr\n",
    "npr.seed(0)\n",
    "import matplotlib.pyplot as plt\n",
    "%matplotlib inline"
   ]
  },
  {
   "cell_type": "code",
   "execution_count": 2,
   "metadata": {
    "collapsed": false
   },
   "outputs": [],
   "source": [
    "# construct a 2-state Markov model, and sample a long trajectory\n",
    "\n",
    "# the 2 states A and B are Gaussian blobs in 2D\n",
    "A = (0,0)\n",
    "B = (5,5)\n",
    "centers = dict()\n",
    "centers[0] = A\n",
    "centers[1] = B\n",
    "\n",
    "# the transition matrix is symmetric and metastable\n",
    "trans_mat = np.array([[0.7,0.3],\n",
    "                      [0.3,0.7]])\n",
    "\n",
    "# sample a trajectory\n",
    "traj_len=100000\n",
    "traj=npr.randn(traj_len,2)\n",
    "state = 0\n",
    "for i in range(1,traj_len):\n",
    "    state = int(npr.rand() > trans_mat[state][0]) # only works for 2-state MSM\n",
    "    traj[i] += centers[state]\n",
    "\n",
    "X = traj[:int(traj_len*0.9)]\n",
    "X_test = traj[int(traj_len*0.9):]"
   ]
  },
  {
   "cell_type": "code",
   "execution_count": 3,
   "metadata": {
    "collapsed": false
   },
   "outputs": [
    {
     "data": {
      "text/plain": [
       "<matplotlib.text.Text at 0x1087c2ad0>"
      ]
     },
     "execution_count": 3,
     "metadata": {},
     "output_type": "execute_result"
    },
    {
     "data": {
      "image/png": "[encoded data removed]",
      "text/plain": [
       "<matplotlib.figure.Figure at 0x10673da90>"
      ]
     },
     "metadata": {},
     "output_type": "display_data"
    }
   ],
   "source": [
    "plt.imshow(trans_mat,interpolation='none',cmap='Blues');\n",
    "plt.xticks([0,1])#,[r'$\\mathcal{N}((0,0),1)$',r'$\\mathcal{N}((5,5),1)$'])\n",
    "plt.yticks([0,1])#,[r'$\\mathcal{N}((0,0),1)$',r'$\\mathcal{N}((5,5),1)$'])\n",
    "plt.colorbar()\n",
    "plt.title('True transition matrix')"
   ]
  },
  {
   "cell_type": "code",
   "execution_count": 4,
   "metadata": {
    "collapsed": false
   },
   "outputs": [
    {
     "data": {
      "text/plain": [
       "MiniBatchKMedoids(batch_size=100, max_iter=5, max_no_improvement=10,\n",
       "         metric='euclidean', n_clusters=8, random_state=None)"
      ]
     },
     "execution_count": 4,
     "metadata": {},
     "output_type": "execute_result"
    }
   ],
   "source": [
    "# Use a library function for computing a state decomposition.\n",
    "# In general we don't know the correct number of states beforehand, so let's over-estimate here:\n",
    "from msmbuilder.cluster import MiniBatchKMedoids\n",
    "kmed = MiniBatchKMedoids(n_clusters=8)\n",
    "kmed.fit([X])"
   ]
  },
  {
   "cell_type": "code",
   "execution_count": 5,
   "metadata": {
    "collapsed": true
   },
   "outputs": [],
   "source": [
    "# assign each point in the trajectory to a partition\n",
    "clusters = kmed.transform([X])[0]"
   ]
  },
  {
   "cell_type": "code",
   "execution_count": 6,
   "metadata": {
    "collapsed": false
   },
   "outputs": [
    {
     "data": {
      "text/plain": [
       "array([7, 0, 0, ..., 4, 0, 5])"
      ]
     },
     "execution_count": 6,
     "metadata": {},
     "output_type": "execute_result"
    }
   ],
   "source": [
    "clusters"
   ]
  },
  {
   "cell_type": "code",
   "execution_count": 7,
   "metadata": {
    "collapsed": false
   },
   "outputs": [
    {
     "data": {
      "text/plain": [
       "<matplotlib.text.Text at 0x10c345410>"
      ]
     },
     "execution_count": 7,
     "metadata": {},
     "output_type": "execute_result"
    },
    {
     "data": {
      "image/png": "[encoded data removed]",
      "text/plain": [
       "<matplotlib.figure.Figure at 0x1084b96d0>"
      ]
     },
     "metadata": {},
     "output_type": "display_data"
    }
   ],
   "source": [
    "plt.scatter(X[:,0],X[:,1],c=clusters, linewidths=0)\n",
    "plt.title('All points in trajectory, colored by cluster')"
   ]
  },
  {
   "cell_type": "code",
   "execution_count": 8,
   "metadata": {
    "collapsed": true
   },
   "outputs": [],
   "source": [
    "uniform = npr.rand(100000,2)*15-5\n",
    "uniform_clusters = kmed.transform([uniform])[0]"
   ]
  },
  {
   "cell_type": "code",
   "execution_count": 9,
   "metadata": {
    "collapsed": false
   },
   "outputs": [
    {
     "data": {
      "text/plain": [
       "<matplotlib.colorbar.Colorbar instance at 0x10d13cab8>"
      ]
     },
     "execution_count": 9,
     "metadata": {},
     "output_type": "execute_result"
    },
    {
     "data": {
      "image/png": "[encoded data removed]",
      "text/plain": [
       "<matplotlib.figure.Figure at 0x1084b9810>"
      ]
     },
     "metadata": {},
     "output_type": "display_data"
    }
   ],
   "source": [
    "plt.scatter(uniform[:,0],uniform[:,1],c=uniform_clusters, linewidths=0)\n",
    "plt.xlim(-5,10)\n",
    "plt.ylim(-5,10)\n",
    "plt.colorbar()"
   ]
  },
  {
   "cell_type": "code",
   "execution_count": 10,
   "metadata": {
    "collapsed": false
   },
   "outputs": [
    {
     "data": {
      "text/plain": [
       "<matplotlib.text.Text at 0x10d4b6510>"
      ]
     },
     "execution_count": 10,
     "metadata": {},
     "output_type": "execute_result"
    },
    {
     "data": {
      "image/png": "[encoded data removed]",
      "text/plain": [
       "<matplotlib.figure.Figure at 0x1084b9610>"
      ]
     },
     "metadata": {},
     "output_type": "display_data"
    }
   ],
   "source": [
    "plt.hist(uniform_clusters,bins=len(set(uniform_clusters)),normed=True);\n",
    "plt.xlabel('Cluster ID')\n",
    "plt.ylabel('Fractional volume')"
   ]
  },
  {
   "cell_type": "code",
   "execution_count": 11,
   "metadata": {
    "collapsed": true
   },
   "outputs": [],
   "source": [
    "from msmbuilder.msm import MarkovStateModel"
   ]
  },
  {
   "cell_type": "code",
   "execution_count": 12,
   "metadata": {
    "collapsed": false
   },
   "outputs": [
    {
     "name": "stdout",
     "output_type": "stream",
     "text": [
      "MSM contains 1 strongly connected component above weight=1.00. Component 0 selected, with population 100.000000%\n"
     ]
    },
    {
     "data": {
      "text/plain": [
       "MarkovStateModel(ergodic_cutoff=1.0, lag_time=1, n_timescales=10,\n",
       "         prior_counts=0, reversible_type='mle', sliding_window=True,\n",
       "         verbose=True)"
      ]
     },
     "execution_count": 12,
     "metadata": {},
     "output_type": "execute_result"
    }
   ],
   "source": [
    "msm = MarkovStateModel()\n",
    "msm.fit(clusters)"
   ]
  },
  {
   "cell_type": "code",
   "execution_count": 13,
   "metadata": {
    "collapsed": false
   },
   "outputs": [
    {
     "data": {
      "text/plain": [
       "array([7, 0, 0, ..., 4, 0, 5])"
      ]
     },
     "execution_count": 13,
     "metadata": {},
     "output_type": "execute_result"
    }
   ],
   "source": [
    "clusters"
   ]
  },
  {
   "cell_type": "code",
   "execution_count": 14,
   "metadata": {
    "collapsed": false
   },
   "outputs": [
    {
     "data": {
      "text/plain": [
       "-162738.90950436893"
      ]
     },
     "execution_count": 14,
     "metadata": {},
     "output_type": "execute_result"
    }
   ],
   "source": [
    "msm.score_ll([clusters])"
   ]
  },
  {
   "cell_type": "code",
   "execution_count": 15,
   "metadata": {
    "collapsed": false
   },
   "outputs": [
    {
     "data": {
      "text/plain": [
       "-17961.369947497973"
      ]
     },
     "execution_count": 15,
     "metadata": {},
     "output_type": "execute_result"
    }
   ],
   "source": [
    "msm.score_ll(kmed.transform([X_test]))"
   ]
  },
  {
   "cell_type": "code",
   "execution_count": 16,
   "metadata": {
    "collapsed": false
   },
   "outputs": [],
   "source": [
    "T = msm.transmat_"
   ]
  },
  {
   "cell_type": "code",
   "execution_count": 17,
   "metadata": {
    "collapsed": false
   },
   "outputs": [
    {
     "data": {
      "text/plain": [
       "(array([ 0.393207  ,  0.09053321,  0.04219531,  0.05193111,  0.30181058,\n",
       "         0.06873631,  0.02912721,  0.02245926]), 1.0000000000000002)"
      ]
     },
     "execution_count": 17,
     "metadata": {},
     "output_type": "execute_result"
    }
   ],
   "source": [
    "# T is row-normalized\n",
    "T[0],np.sum(T[0])"
   ]
  },
  {
   "cell_type": "code",
   "execution_count": 18,
   "metadata": {
    "collapsed": false
   },
   "outputs": [
    {
     "data": {
      "text/plain": [
       "1.7771448893957471"
      ]
     },
     "execution_count": 18,
     "metadata": {},
     "output_type": "execute_result"
    }
   ],
   "source": [
    "# not column-normalized\n",
    "np.sum(T[:,0])"
   ]
  },
  {
   "cell_type": "code",
   "execution_count": 19,
   "metadata": {
    "collapsed": false
   },
   "outputs": [],
   "source": [
    "# let's compute the volume of each partition\n",
    "\n",
    "def compute_cluster_volumes(total_volume,uniform_cluster_assignments):\n",
    "    counts_per_cluster = np.zeros(uniform_cluster_assignments.max()+1)\n",
    "    for x in uniform_cluster_assignments:\n",
    "        counts_per_cluster[x] += 1.0\n",
    "    fraction_in_cluster = counts_per_cluster / len(uniform_cluster_assignments)\n",
    "    volumes = fraction_in_cluster * total_volume\n",
    "    return volumes\n",
    "\n",
    "total_volume = (uniform.max() - uniform.min())**(uniform.shape[1])\n",
    "volumes = compute_cluster_volumes(total_volume,uniform_clusters)"
   ]
  },
  {
   "cell_type": "code",
   "execution_count": 20,
   "metadata": {
    "collapsed": false
   },
   "outputs": [
    {
     "data": {
      "text/plain": [
       "(array([ 0.393207  ,  0.09053321,  0.04219531,  0.05193111,  0.30181058,\n",
       "         0.06873631,  0.02912721,  0.02245926]),\n",
       " array([ 54.26056109,  22.65506675,  30.24650534,   1.28473961,\n",
       "         39.95067684,  26.96153191,  22.33556933,  27.30352915]))"
      ]
     },
     "execution_count": 20,
     "metadata": {},
     "output_type": "execute_result"
    }
   ],
   "source": [
    "T[0],volumes"
   ]
  },
  {
   "cell_type": "code",
   "execution_count": 21,
   "metadata": {
    "collapsed": false
   },
   "outputs": [
    {
     "data": {
      "text/plain": [
       "array([ 0.00724664,  0.00399616,  0.00139505,  0.04042151,  0.00755458,\n",
       "        0.00254942,  0.00130407,  0.00082258])"
      ]
     },
     "execution_count": 21,
     "metadata": {},
     "output_type": "execute_result"
    }
   ],
   "source": [
    "k = 1.0 / volumes\n",
    "k*T[0]"
   ]
  },
  {
   "cell_type": "code",
   "execution_count": 22,
   "metadata": {
    "collapsed": false
   },
   "outputs": [
    {
     "data": {
      "text/plain": [
       "<matplotlib.text.Text at 0x10d9dfb90>"
      ]
     },
     "execution_count": 22,
     "metadata": {},
     "output_type": "execute_result"
    },
    {
     "data": {
      "image/png": "[encoded data removed]",
      "text/plain": [
       "<matplotlib.figure.Figure at 0x10d6a79d0>"
      ]
     },
     "metadata": {},
     "output_type": "display_data"
    }
   ],
   "source": [
    "plt.imshow(T + T.T,interpolation='none',cmap='Blues');\n",
    "plt.title(\"Transition matrix\")"
   ]
  },
  {
   "cell_type": "code",
   "execution_count": 23,
   "metadata": {
    "collapsed": false
   },
   "outputs": [
    {
     "data": {
      "text/plain": [
       "<Container object of 8 artists>"
      ]
     },
     "execution_count": 23,
     "metadata": {},
     "output_type": "execute_result"
    },
    {
     "data": {
      "image/png": "[encoded data removed]",
      "text/plain": [
       "<matplotlib.figure.Figure at 0x10da50c50>"
      ]
     },
     "metadata": {},
     "output_type": "display_data"
    },
    {
     "data": {
      "image/png": "[encoded data removed]",
      "text/plain": [
       "<matplotlib.figure.Figure at 0x10d6dea90>"
      ]
     },
     "metadata": {},
     "output_type": "display_data"
    }
   ],
   "source": [
    "plt.bar(range(len(k)),k)\n",
    "plt.figure()\n",
    "plt.bar(range(len(k)),volumes)"
   ]
  },
  {
   "cell_type": "code",
   "execution_count": 24,
   "metadata": {
    "collapsed": true
   },
   "outputs": [],
   "source": [
    "# now let's score a trajectory"
   ]
  },
  {
   "cell_type": "code",
   "execution_count": 25,
   "metadata": {
    "collapsed": false
   },
   "outputs": [
    {
     "data": {
      "text/plain": [
       "array([ 0.00510055,  0.00657795,  0.00241941,  0.0667501 ,  0.00538753,\n",
       "        0.00424396,  0.00219583,  0.00133969])"
      ]
     },
     "execution_count": 25,
     "metadata": {},
     "output_type": "execute_result"
    }
   ],
   "source": [
    "# prior probability *density* vector $\\pi$\n",
    "pi = msm.populations_*k\n",
    "pi"
   ]
  },
  {
   "cell_type": "code",
   "execution_count": 26,
   "metadata": {
    "collapsed": false
   },
   "outputs": [
    {
     "data": {
      "text/plain": [
       "array([ 0.27675852,  0.14902397,  0.07317867,  0.08575649,  0.21523553,\n",
       "        0.11442358,  0.04904503,  0.03657821])"
      ]
     },
     "execution_count": 26,
     "metadata": {},
     "output_type": "execute_result"
    }
   ],
   "source": [
    "msm.populations_"
   ]
  },
  {
   "cell_type": "code",
   "execution_count": 27,
   "metadata": {
    "collapsed": true
   },
   "outputs": [],
   "source": [
    "# log probabilities\n",
    "log_pi = np.log(pi)\n",
    "log_normalized_T = np.log(k*T)"
   ]
  },
  {
   "cell_type": "code",
   "execution_count": 28,
   "metadata": {
    "collapsed": true
   },
   "outputs": [],
   "source": [
    "def score_correctly_ll(sequence,log_pi,log_normalized_T):\n",
    "    log_prob = log_pi[sequence[0]]\n",
    "    for i in range(1,len(sequence)):\n",
    "        log_prob += log_normalized_T[sequence[i-1],sequence[i]]\n",
    "    return log_prob"
   ]
  },
  {
   "cell_type": "code",
   "execution_count": 29,
   "metadata": {
    "collapsed": false
   },
   "outputs": [
    {
     "data": {
      "text/plain": [
       "-458418.19890994485"
      ]
     },
     "execution_count": 29,
     "metadata": {},
     "output_type": "execute_result"
    }
   ],
   "source": [
    "score_correctly_ll(clusters,log_pi,log_normalized_T)"
   ]
  },
  {
   "cell_type": "code",
   "execution_count": 30,
   "metadata": {
    "collapsed": false
   },
   "outputs": [
    {
     "data": {
      "text/plain": [
       "-50980.176168027727"
      ]
     },
     "execution_count": 30,
     "metadata": {},
     "output_type": "execute_result"
    }
   ],
   "source": [
    "score_correctly_ll(kmed.transform([X_test])[0],log_pi,log_normalized_T)"
   ]
  },
  {
   "cell_type": "code",
   "execution_count": 31,
   "metadata": {
    "collapsed": false
   },
   "outputs": [
    {
     "name": "stdout",
     "output_type": "stream",
     "text": [
      "MSM contains 1 strongly connected component above weight=1.00. Component 0 selected, with population 100.000000%\n",
      "MSMBuilder log likelihood: 0.0\n",
      "Corrected log likelihood: -487448.308\n"
     ]
    }
   ],
   "source": [
    "# sanity check: what if we have a 1-state MSM?\n",
    "\n",
    "# in MSMBuilder, we would first perform a clustering, then pass the sequence of cluster labels to be scored:\n",
    "one_state_clusters = [np.zeros(len(clusters))]\n",
    "msm = MarkovStateModel()\n",
    "msm.fit(one_state_clusters)\n",
    "print('MSMBuilder log likelihood: {0}'.format(msm.score_ll(one_state_clusters)))\n",
    "# this leads to a probability of 1.0 for any observation sequence, even though the model contains no information\n",
    "\n",
    "# for the corrected log_likelihood, we account for the volume of the cluster\n",
    "log_pi = np.log(1.0/total_volume)\n",
    "print('Corrected log likelihood: {0:.3f}'.format(log_pi*len(clusters)))\n",
    "# that's thankfully a bit lower than the multi-state MSM log-likelihood-- sanity check passed!"
   ]
  },
  {
   "cell_type": "code",
   "execution_count": 32,
   "metadata": {
    "collapsed": false
   },
   "outputs": [
    {
     "name": "stdout",
     "output_type": "stream",
     "text": [
      "MSM contains 1 strongly connected component above weight=1.00. Component 0 selected, with population 100.000000%\n"
     ]
    },
    {
     "data": {
      "text/plain": [
       "0.0"
      ]
     },
     "execution_count": 32,
     "metadata": {},
     "output_type": "execute_result"
    }
   ],
   "source": [
    "MarkovStateModel().fit([np.zeros(1000)]).score_ll([np.zeros(1000)])"
   ]
  },
  {
   "cell_type": "code",
   "execution_count": 33,
   "metadata": {
    "collapsed": true
   },
   "outputs": [],
   "source": [
    "from msmbuilder.example_datasets import FsPeptide"
   ]
  },
  {
   "cell_type": "code",
   "execution_count": 34,
   "metadata": {
    "collapsed": false
   },
   "outputs": [
    {
     "name": "stdout",
     "output_type": "stream",
     "text": [
      "loading trajectory_1.xtc...\n",
      "loading trajectory_10.xtc...\n",
      "loading trajectory_11.xtc...\n",
      "loading trajectory_12.xtc...\n",
      "loading trajectory_13.xtc...\n",
      "loading trajectory_14.xtc...\n",
      "loading trajectory_15.xtc...\n",
      "loading trajectory_16.xtc...\n",
      "loading trajectory_17.xtc...\n",
      "loading trajectory_18.xtc...\n",
      "loading trajectory_19.xtc...\n",
      "loading trajectory_2.xtc...\n",
      "loading trajectory_20.xtc...\n",
      "loading trajectory_21.xtc...\n",
      "loading trajectory_22.xtc...\n",
      "loading trajectory_23.xtc...\n",
      "loading trajectory_24.xtc...\n",
      "loading trajectory_25.xtc...\n",
      "loading trajectory_26.xtc...\n",
      "loading trajectory_27.xtc...\n",
      "loading trajectory_28.xtc...\n",
      "loading trajectory_3.xtc...\n",
      "loading trajectory_4.xtc...\n",
      "loading trajectory_5.xtc...\n",
      "loading trajectory_6.xtc...\n",
      "loading trajectory_7.xtc...\n",
      "loading trajectory_8.xtc...\n",
      "loading trajectory_9.xtc...\n"
     ]
    }
   ],
   "source": [
    "fs = FsPeptide().get().trajectories"
   ]
  },
  {
   "cell_type": "code",
   "execution_count": 35,
   "metadata": {
    "collapsed": true
   },
   "outputs": [],
   "source": [
    "from msmbuilder.featurizer import DihedralFeaturizer"
   ]
  },
  {
   "cell_type": "code",
   "execution_count": 36,
   "metadata": {
    "collapsed": true
   },
   "outputs": [],
   "source": [
    "dih = DihedralFeaturizer(['phi', 'psi', 'omega', 'chi1', 'chi2', 'chi3', 'chi4']).fit_transform(fs)"
   ]
  },
  {
   "cell_type": "code",
   "execution_count": 37,
   "metadata": {
    "collapsed": false
   },
   "outputs": [
    {
     "data": {
      "text/plain": [
       "(10000, 148)"
      ]
     },
     "execution_count": 37,
     "metadata": {},
     "output_type": "execute_result"
    }
   ],
   "source": [
    "dih[0].shape"
   ]
  },
  {
   "cell_type": "code",
   "execution_count": 38,
   "metadata": {
    "collapsed": false
   },
   "outputs": [
    {
     "data": {
      "text/plain": [
       "(1.0, -1.0)"
      ]
     },
     "execution_count": 38,
     "metadata": {},
     "output_type": "execute_result"
    }
   ],
   "source": [
    "np.vstack(dih).max(),np.vstack(dih).min()"
   ]
  },
  {
   "cell_type": "code",
   "execution_count": 39,
   "metadata": {
    "collapsed": false
   },
   "outputs": [
    {
     "data": {
      "text/plain": [
       "MiniBatchKMedoids(batch_size=100, max_iter=5, max_no_improvement=10,\n",
       "         metric='euclidean', n_clusters=10, random_state=None)"
      ]
     },
     "execution_count": 39,
     "metadata": {},
     "output_type": "execute_result"
    }
   ],
   "source": [
    "kmed_fs = MiniBatchKMedoids(n_clusters=10)\n",
    "kmed_fs.fit(dih)"
   ]
  },
  {
   "cell_type": "code",
   "execution_count": 40,
   "metadata": {
    "collapsed": true
   },
   "outputs": [],
   "source": [
    "clusters_fs = kmed_fs.transform(dih)"
   ]
  },
  {
   "cell_type": "code",
   "execution_count": 41,
   "metadata": {
    "collapsed": false
   },
   "outputs": [],
   "source": [
    "# simple monte carlo: uniformly throw darts in a 148-dimensional cube\n",
    "uniform_fs = np.array(npr.rand(1000000,dih[0].shape[1]),dtype='float32')*2 - 1\n",
    "uniform_clusters_fs = kmed_fs.transform([uniform_fs])[0]"
   ]
  },
  {
   "cell_type": "code",
   "execution_count": 42,
   "metadata": {
    "collapsed": false
   },
   "outputs": [],
   "source": [
    "frac_volume = np.array([np.sum(uniform_clusters_fs==i) for i in range(10)],dtype=float) / len(uniform_clusters_fs)"
   ]
  },
  {
   "cell_type": "code",
   "execution_count": 43,
   "metadata": {
    "collapsed": false
   },
   "outputs": [
    {
     "data": {
      "text/plain": [
       "<matplotlib.text.Text at 0x10dccfcd0>"
      ]
     },
     "execution_count": 43,
     "metadata": {},
     "output_type": "execute_result"
    },
    {
     "data": {
      "image/png": "[encoded data removed]",
      "text/plain": [
       "<matplotlib.figure.Figure at 0x10e0243d0>"
      ]
     },
     "metadata": {},
     "output_type": "display_data"
    }
   ],
   "source": [
    "plt.bar(range(10),frac_volume);\n",
    "plt.xlabel('Cluster ID')\n",
    "plt.ylabel('Fractional volume')"
   ]
  },
  {
   "cell_type": "code",
   "execution_count": 44,
   "metadata": {
    "collapsed": false
   },
   "outputs": [
    {
     "data": {
      "text/plain": [
       "<matplotlib.text.Text at 0x112e275d0>"
      ]
     },
     "execution_count": 44,
     "metadata": {},
     "output_type": "execute_result"
    },
    {
     "data": {
      "image/png": "[encoded data removed]",
      "text/plain": [
       "<matplotlib.figure.Figure at 0x10e225910>"
      ]
     },
     "metadata": {},
     "output_type": "display_data"
    }
   ],
   "source": [
    "occupancy = np.array([np.sum(np.vstack(clusters_fs)==i) for i in range(10)],dtype=float)\n",
    "frac_occupancy = occupancy / np.sum(occupancy)\n",
    "plt.bar(range(10),frac_occupancy);\n",
    "plt.xlabel('Cluster ID')\n",
    "plt.ylabel('Fractional occupancy')"
   ]
  },
  {
   "cell_type": "code",
   "execution_count": 45,
   "metadata": {
    "collapsed": false
   },
   "outputs": [
    {
     "data": {
      "text/plain": [
       "<matplotlib.text.Text at 0x10d0f37d0>"
      ]
     },
     "execution_count": 45,
     "metadata": {},
     "output_type": "execute_result"
    },
    {
     "data": {
      "image/png": "[encoded data removed]",
      "text/plain": [
       "<matplotlib.figure.Figure at 0x10dd6b6d0>"
      ]
     },
     "metadata": {},
     "output_type": "display_data"
    }
   ],
   "source": [
    "point_density = frac_occupancy / frac_volume\n",
    "plt.bar(range(10),point_density / np.min(point_density));\n",
    "plt.xlabel('Cluster ID')\n",
    "plt.ylabel('Relative point density')"
   ]
  },
  {
   "cell_type": "code",
   "execution_count": 46,
   "metadata": {
    "collapsed": true
   },
   "outputs": [],
   "source": [
    "# in this case, bigger clusters are not necessarily more populous, with some clusters up to ~40x more dense with observed points\n",
    "# than others"
   ]
  },
  {
   "cell_type": "code",
   "execution_count": 47,
   "metadata": {
    "collapsed": false
   },
   "outputs": [
    {
     "data": {
      "text/plain": [
       "array([4, 3, 4, ..., 4, 8, 3])"
      ]
     },
     "execution_count": 47,
     "metadata": {},
     "output_type": "execute_result"
    }
   ],
   "source": [
    "uniform_clusters_fs"
   ]
  },
  {
   "cell_type": "code",
   "execution_count": 48,
   "metadata": {
    "collapsed": false
   },
   "outputs": [
    {
     "data": {
      "text/plain": [
       "3.5681192317649e+44"
      ]
     },
     "execution_count": 48,
     "metadata": {},
     "output_type": "execute_result"
    }
   ],
   "source": [
    "# total volume: yikes! that's large!\n",
    "total_volume_fs = 2.0**148\n",
    "total_volume_fs"
   ]
  },
  {
   "cell_type": "code",
   "execution_count": 49,
   "metadata": {
    "collapsed": true
   },
   "outputs": [],
   "source": [
    "# Now we can score this MSM the same way as above...\n",
    "\n",
    "volumes_fs = compute_cluster_volumes(total_volume_fs,uniform_clusters_fs)"
   ]
  },
  {
   "cell_type": "code",
   "execution_count": 50,
   "metadata": {
    "collapsed": false
   },
   "outputs": [
    {
     "data": {
      "text/plain": [
       "array([  1.61996181e+43,   2.22532892e+43,   1.97491831e+43,\n",
       "         4.67616298e+43,   4.76258283e+43,   3.48787223e+43,\n",
       "         5.74734805e+43,   2.71405421e+43,   5.20731321e+43,\n",
       "         3.26564976e+43])"
      ]
     },
     "execution_count": 50,
     "metadata": {},
     "output_type": "execute_result"
    }
   ],
   "source": [
    "volumes_fs"
   ]
  },
  {
   "cell_type": "code",
   "execution_count": 51,
   "metadata": {
    "collapsed": false
   },
   "outputs": [
    {
     "name": "stdout",
     "output_type": "stream",
     "text": [
      "MSM contains 1 strongly connected component above weight=1.00. Component 0 selected, with population 100.000000%\n"
     ]
    },
    {
     "data": {
      "text/plain": [
       "MarkovStateModel(ergodic_cutoff=1.0, lag_time=1, n_timescales=10,\n",
       "         prior_counts=1, reversible_type='mle', sliding_window=True,\n",
       "         verbose=True)"
      ]
     },
     "execution_count": 51,
     "metadata": {},
     "output_type": "execute_result"
    }
   ],
   "source": [
    "msm_fs = MarkovStateModel(prior_counts=1)\n",
    "msm_fs.fit(clusters_fs)"
   ]
  },
  {
   "cell_type": "code",
   "execution_count": 52,
   "metadata": {
    "collapsed": true
   },
   "outputs": [],
   "source": [
    "def compute_normalized_log_probs_from_msm(msm,volumes):\n",
    "    k = 1.0/volumes\n",
    "    pi = msm.populations_*k\n",
    "    log_pi = np.log(pi)\n",
    "    T = msm.transmat_\n",
    "    log_normalized_T = np.log(k*T)\n",
    "    return log_pi,log_normalized_T"
   ]
  },
  {
   "cell_type": "code",
   "execution_count": 53,
   "metadata": {
    "collapsed": false
   },
   "outputs": [],
   "source": [
    "log_pi_fs,log_normalized_T_fs = compute_normalized_log_probs_from_msm(msm_fs,volumes_fs)"
   ]
  },
  {
   "cell_type": "code",
   "execution_count": 54,
   "metadata": {
    "collapsed": true
   },
   "outputs": [],
   "source": [
    "lls = []\n",
    "for traj in clusters_fs:\n",
    "    lls.append(score_correctly_ll(traj,log_pi_fs,log_normalized_T_fs))"
   ]
  },
  {
   "cell_type": "code",
   "execution_count": 55,
   "metadata": {
    "collapsed": false
   },
   "outputs": [
    {
     "data": {
      "text/plain": [
       "-28286089.012853153"
      ]
     },
     "execution_count": 55,
     "metadata": {},
     "output_type": "execute_result"
    }
   ],
   "source": [
    "np.sum(lls)"
   ]
  },
  {
   "cell_type": "markdown",
   "metadata": {
    "collapsed": true
   },
   "source": [
    "Another proposed likelihood function: write $$\\mathcal{L}(D | T, S) = \\left[\\prod_{n=1}^{N}T_{s_{n-1}}{s_n}\\right] \\left[\\prod_{n=1}^{N} \\frac{e^{-U(x_n)}}{\\pi_{s_n} \\right] \\left[\\prod_{n=1}^{N} \\pi_{s_i}\\right]$$"
   ]
  },
  {
   "cell_type": "code",
   "execution_count": null,
   "metadata": {
    "collapsed": true
   },
   "outputs": [],
   "source": []
  }
 ],
 "metadata": {
  "kernelspec": {
   "display_name": "Python 2",
   "language": "python",
   "name": "python2"
  },
  "language_info": {
   "codemirror_mode": {
    "name": "ipython",
    "version": 2
   },
   "file_extension": ".py",
   "mimetype": "text/x-python",
   "name": "python",
   "nbconvert_exporter": "python",
   "pygments_lexer": "ipython2",
   "version": "2.7.10"
  }
 },
 "nbformat": 4,
 "nbformat_minor": 0
}
