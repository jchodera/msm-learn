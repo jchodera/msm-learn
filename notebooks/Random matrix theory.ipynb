{
 "metadata": {
  "name": "",
  "signature": "sha256:c32abbdc71339c7d7100b894620f07af7f03cbab34b49618d75d039b42823267"
 },
 "nbformat": 3,
 "nbformat_minor": 0,
 "worksheets": [
  {
   "cells": [
    {
     "cell_type": "code",
     "collapsed": false,
     "input": [
      "import numpy as np\n",
      "import numpy.random as npr\n",
      "import pylab as pl\n",
      "%matplotlib inline"
     ],
     "language": "python",
     "metadata": {},
     "outputs": [],
     "prompt_number": 3
    },
    {
     "cell_type": "code",
     "collapsed": false,
     "input": [
      "a = 1 + 5j"
     ],
     "language": "python",
     "metadata": {},
     "outputs": [],
     "prompt_number": 2
    },
    {
     "cell_type": "code",
     "collapsed": false,
     "input": [
      "a"
     ],
     "language": "python",
     "metadata": {},
     "outputs": [
      {
       "metadata": {},
       "output_type": "pyout",
       "prompt_number": 3,
       "text": [
        "(1+5j)"
       ]
      }
     ],
     "prompt_number": 3
    },
    {
     "cell_type": "code",
     "collapsed": false,
     "input": [
      "x = 1"
     ],
     "language": "python",
     "metadata": {},
     "outputs": [],
     "prompt_number": 4
    },
    {
     "cell_type": "code",
     "collapsed": false,
     "input": [
      "a = np.complex(x,x+2)"
     ],
     "language": "python",
     "metadata": {},
     "outputs": [],
     "prompt_number": 25
    },
    {
     "cell_type": "code",
     "collapsed": false,
     "input": [
      "a"
     ],
     "language": "python",
     "metadata": {},
     "outputs": [
      {
       "metadata": {},
       "output_type": "pyout",
       "prompt_number": 26,
       "text": [
        "(1+3j)"
       ]
      }
     ],
     "prompt_number": 26
    },
    {
     "cell_type": "code",
     "collapsed": false,
     "input": [
      "np.complex(*npr.rand(2))"
     ],
     "language": "python",
     "metadata": {},
     "outputs": [
      {
       "metadata": {},
       "output_type": "pyout",
       "prompt_number": 74,
       "text": [
        "(0.6874750903219116+0.49300799260849226j)"
       ]
      }
     ],
     "prompt_number": 74
    },
    {
     "cell_type": "code",
     "collapsed": false,
     "input": [
      "rand_complex = lambda n=1 : np.array([np.complex(*npr.randn(2)) for __ in xrange(n)])"
     ],
     "language": "python",
     "metadata": {},
     "outputs": [],
     "prompt_number": 75
    },
    {
     "cell_type": "code",
     "collapsed": false,
     "input": [
      "n = 100 # samples\n",
      "p = 5 # dimension\n",
      "X = np.array([rand_complex(p) for __ in xrange(n)])"
     ],
     "language": "python",
     "metadata": {},
     "outputs": [],
     "prompt_number": 87
    },
    {
     "cell_type": "code",
     "collapsed": false,
     "input": [
      "X.shape"
     ],
     "language": "python",
     "metadata": {},
     "outputs": [
      {
       "metadata": {},
       "output_type": "pyout",
       "prompt_number": 88,
       "text": [
        "(100, 5)"
       ]
      }
     ],
     "prompt_number": 88
    },
    {
     "cell_type": "code",
     "collapsed": false,
     "input": [
      "a.conjugate()*(a)"
     ],
     "language": "python",
     "metadata": {},
     "outputs": [
      {
       "metadata": {},
       "output_type": "pyout",
       "prompt_number": 89,
       "text": [
        "(10+0j)"
       ]
      }
     ],
     "prompt_number": 89
    },
    {
     "cell_type": "code",
     "collapsed": false,
     "input": [
      "a*a.conjugate()"
     ],
     "language": "python",
     "metadata": {},
     "outputs": [
      {
       "metadata": {},
       "output_type": "pyout",
       "prompt_number": 90,
       "text": [
        "(10+0j)"
       ]
      }
     ],
     "prompt_number": 90
    },
    {
     "cell_type": "code",
     "collapsed": false,
     "input": [
      "X[0]*(X[0].conjugate())/n"
     ],
     "language": "python",
     "metadata": {},
     "outputs": [
      {
       "metadata": {},
       "output_type": "pyout",
       "prompt_number": 91,
       "text": [
        "array([ 0.00622855+0.j,  0.00153904+0.j,  0.00072866+0.j,  0.00143073+0.j,\n",
        "        0.08361050+0.j])"
       ]
      }
     ],
     "prompt_number": 91
    },
    {
     "cell_type": "code",
     "collapsed": false,
     "input": [
      "X.T.shape"
     ],
     "language": "python",
     "metadata": {},
     "outputs": [
      {
       "metadata": {},
       "output_type": "pyout",
       "prompt_number": 92,
       "text": [
        "(5, 100)"
       ]
      }
     ],
     "prompt_number": 92
    },
    {
     "cell_type": "code",
     "collapsed": false,
     "input": [
      "x = X.T[0]"
     ],
     "language": "python",
     "metadata": {},
     "outputs": [],
     "prompt_number": 93
    },
    {
     "cell_type": "code",
     "collapsed": false,
     "input": [
      "(x.dot((x.T).conjugate()))"
     ],
     "language": "python",
     "metadata": {},
     "outputs": [
      {
       "metadata": {},
       "output_type": "pyout",
       "prompt_number": 98,
       "text": [
        "(168.37844244984677+0j)"
       ]
      }
     ],
     "prompt_number": 98
    },
    {
     "cell_type": "code",
     "collapsed": false,
     "input": [
      "# Joel Tropp: Introduction to Matrix Concentration inequalities says on p.6 that\n",
      "# this is an unbiased estimator for the covariance matrix of X, but I don't understand:\n",
      "Y = sum([x*x.conjugate() for x in X.T]) / n"
     ],
     "language": "python",
     "metadata": {},
     "outputs": [],
     "prompt_number": 95
    },
    {
     "cell_type": "code",
     "collapsed": false,
     "input": [
      "Y = np.zeros((p,p))\n",
      "for i in range(p):\n",
      "    Y[i] = "
     ],
     "language": "python",
     "metadata": {},
     "outputs": []
    },
    {
     "cell_type": "code",
     "collapsed": false,
     "input": [
      "Y.shape"
     ],
     "language": "python",
     "metadata": {},
     "outputs": [
      {
       "metadata": {},
       "output_type": "pyout",
       "prompt_number": 58,
       "text": [
        "(100,)"
       ]
      }
     ],
     "prompt_number": 58
    },
    {
     "cell_type": "code",
     "collapsed": false,
     "input": [
      "Y"
     ],
     "language": "python",
     "metadata": {},
     "outputs": [
      {
       "metadata": {},
       "output_type": "pyout",
       "prompt_number": 59,
       "text": [
        "array([ 0.18102339+0.j,  0.44827120+0.j,  0.17766590+0.j,  0.28715848+0.j,\n",
        "        0.11166032+0.j,  0.35993556+0.j,  0.17921374+0.j,  0.18321532+0.j,\n",
        "        0.18539421+0.j,  0.20290436+0.j,  0.15008532+0.j,  0.24967354+0.j,\n",
        "        0.25000338+0.j,  0.13448715+0.j,  0.15879320+0.j,  0.17102191+0.j,\n",
        "        0.16692174+0.j,  0.15227429+0.j,  0.14850775+0.j,  0.22891312+0.j,\n",
        "        0.15522525+0.j,  0.14109556+0.j,  0.12357581+0.j,  0.19688546+0.j,\n",
        "        0.25709227+0.j,  0.16899224+0.j,  0.16745321+0.j,  0.14542843+0.j,\n",
        "        0.15685478+0.j,  0.08720036+0.j,  0.19738370+0.j,  0.18705173+0.j,\n",
        "        0.20032441+0.j,  0.20302085+0.j,  0.25405256+0.j,  0.15419715+0.j,\n",
        "        0.23919532+0.j,  0.23659836+0.j,  0.17278417+0.j,  0.28279633+0.j,\n",
        "        0.25462865+0.j,  0.19720029+0.j,  0.09808417+0.j,  0.19592428+0.j,\n",
        "        0.24245900+0.j,  0.19234139+0.j,  0.29313953+0.j,  0.33177463+0.j,\n",
        "        0.26364197+0.j,  0.13769819+0.j,  0.09364633+0.j,  0.15144355+0.j,\n",
        "        0.14509015+0.j,  0.12930946+0.j,  0.24461192+0.j,  0.11364361+0.j,\n",
        "        0.10633440+0.j,  0.26226123+0.j,  0.21427967+0.j,  0.14398721+0.j,\n",
        "        0.21803783+0.j,  0.12282650+0.j,  0.20879291+0.j,  0.20772165+0.j,\n",
        "        0.24455720+0.j,  0.17584388+0.j,  0.10433116+0.j,  0.23035885+0.j,\n",
        "        0.19758060+0.j,  0.12926350+0.j,  0.11166044+0.j,  0.23388821+0.j,\n",
        "        0.18382383+0.j,  0.19361171+0.j,  0.21246544+0.j,  0.18450932+0.j,\n",
        "        0.20414653+0.j,  0.26029765+0.j,  0.28176651+0.j,  0.24083597+0.j,\n",
        "        0.26683940+0.j,  0.12463813+0.j,  0.35934650+0.j,  0.13469039+0.j,\n",
        "        0.24455330+0.j,  0.15415118+0.j,  0.11207082+0.j,  0.14338405+0.j,\n",
        "        0.14644119+0.j,  0.18799786+0.j,  0.09356931+0.j,  0.23407897+0.j,\n",
        "        0.19657983+0.j,  0.19050683+0.j,  0.22846786+0.j,  0.14180992+0.j,\n",
        "        0.09258563+0.j,  0.13536979+0.j,  0.25461074+0.j,  0.15827486+0.j])"
       ]
      }
     ],
     "prompt_number": 59
    },
    {
     "cell_type": "code",
     "collapsed": false,
     "input": [
      "np.cov(X.T).shape"
     ],
     "language": "python",
     "metadata": {},
     "outputs": [
      {
       "metadata": {},
       "output_type": "pyout",
       "prompt_number": 56,
       "text": [
        "(10, 10)"
       ]
      }
     ],
     "prompt_number": 56
    },
    {
     "cell_type": "code",
     "collapsed": false,
     "input": [
      "np.cov(X.T)"
     ],
     "language": "python",
     "metadata": {},
     "outputs": [
      {
       "metadata": {},
       "output_type": "pyout",
       "prompt_number": 61,
       "text": [
        "array([[  1.69921994e+00+0.j        ,   8.92856574e-02+0.01686832j,\n",
        "          1.34784793e-01+0.158611j  ,  -7.42028633e-02-0.19772521j,\n",
        "         -1.96657398e-01-0.05822664j,   3.19507912e-02+0.07432521j,\n",
        "          9.27351924e-02-0.04605331j,   1.63933659e-01-0.14195614j,\n",
        "         -6.60988819e-04+0.16464858j,  -1.83180013e-01+0.02376909j],\n",
        "       [  8.92856574e-02-0.01686832j,   2.25555608e+00+0.j        ,\n",
        "          8.86498761e-02+0.00172851j,  -2.61418922e-02-0.13402592j,\n",
        "          8.14839818e-02+0.25809225j,   1.04613341e-01+0.08052215j,\n",
        "         -6.35370435e-02+0.3208301j ,   4.87101237e-03+0.28323388j,\n",
        "          3.36270444e-02+0.06370114j,   1.11268402e-01+0.09221383j],\n",
        "       [  1.34784793e-01-0.158611j  ,   8.86498761e-02-0.00172851j,\n",
        "          1.69321628e+00+0.j        ,  -1.43539098e-01+0.28361066j,\n",
        "          2.44214620e-01-0.21974763j,   1.86281050e-01-0.0354298j ,\n",
        "         -2.49927279e-01-0.0344726j ,  -1.80497851e-01+0.16198084j,\n",
        "          8.73404300e-03+0.07984407j,   1.11319606e-01-0.01421182j],\n",
        "       [ -7.42028633e-02+0.19772521j,  -2.61418922e-02+0.13402592j,\n",
        "         -1.43539098e-01-0.28361066j,   1.90239623e+00+0.j        ,\n",
        "         -1.36673552e-02-0.17075837j,  -2.67402276e-02-0.04381924j,\n",
        "         -7.71042074e-02-0.01403706j,   1.08328786e-01+0.06787448j,\n",
        "         -2.83654076e-02+0.21684511j,   2.80496583e-02+0.08129267j],\n",
        "       [ -1.96657398e-01+0.05822664j,   8.14839818e-02-0.25809225j,\n",
        "          2.44214620e-01+0.21974763j,  -1.36673552e-02+0.17075837j,\n",
        "          2.41594657e+00+0.j        ,  -6.84852807e-02-0.04017138j,\n",
        "          1.32816749e-01+0.02558448j,  -2.69296322e-01-0.04357293j,\n",
        "          1.12562803e-01+0.02908231j,   2.07439846e-02-0.01222748j],\n",
        "       [  3.19507912e-02-0.07432521j,   1.04613341e-01-0.08052215j,\n",
        "          1.86281050e-01+0.0354298j ,  -2.67402276e-02+0.04381924j,\n",
        "         -6.84852807e-02+0.04017138j,   1.82254980e+00+0.j        ,\n",
        "         -3.41275973e-02+0.00388601j,   1.56677769e-02-0.11289085j,\n",
        "          1.28775659e-01+0.00936737j,   1.81752030e-01-0.06974281j],\n",
        "       [  9.27351924e-02+0.04605331j,  -6.35370435e-02-0.3208301j ,\n",
        "         -2.49927279e-01+0.0344726j ,  -7.71042074e-02+0.01403706j,\n",
        "          1.32816749e-01-0.02558448j,  -3.41275973e-02-0.00388601j,\n",
        "          2.05579563e+00+0.j        ,   3.35091176e-01-0.06164157j,\n",
        "         -1.08200265e-01-0.23249233j,   6.24350565e-02-0.28277935j],\n",
        "       [  1.63933659e-01+0.14195614j,   4.87101237e-03-0.28323388j,\n",
        "         -1.80497851e-01-0.16198084j,   1.08328786e-01-0.06787448j,\n",
        "         -2.69296322e-01+0.04357293j,   1.56677769e-02+0.11289085j,\n",
        "          3.35091176e-01+0.06164157j,   1.92869961e+00+0.j        ,\n",
        "          1.67929241e-01-0.07928676j,   3.56160070e-02-0.13114128j],\n",
        "       [ -6.60988819e-04-0.16464858j,   3.36270444e-02-0.06370114j,\n",
        "          8.73404300e-03-0.07984407j,  -2.83654076e-02-0.21684511j,\n",
        "          1.12562803e-01-0.02908231j,   1.28775659e-01-0.00936737j,\n",
        "         -1.08200265e-01+0.23249233j,   1.67929241e-01+0.07928676j,\n",
        "          1.77929773e+00+0.j        ,  -3.33767487e-02+0.32536837j],\n",
        "       [ -1.83180013e-01-0.02376909j,   1.11268402e-01-0.09221383j,\n",
        "          1.11319606e-01+0.01421182j,   2.80496583e-02-0.08129267j,\n",
        "          2.07439846e-02+0.01222748j,   1.81752030e-01+0.06974281j,\n",
        "          6.24350565e-02+0.28277935j,   3.56160070e-02+0.13114128j,\n",
        "         -3.33767487e-02-0.32536837j,   1.73280727e+00+0.j        ]])"
       ]
      }
     ],
     "prompt_number": 61
    },
    {
     "cell_type": "code",
     "collapsed": false,
     "input": [
      "from scipy import linalg"
     ],
     "language": "python",
     "metadata": {},
     "outputs": [],
     "prompt_number": 2
    },
    {
     "cell_type": "markdown",
     "metadata": {},
     "source": [
      "### Quick review of scipy.linalg and numpy.linalg"
     ]
    },
    {
     "cell_type": "code",
     "collapsed": false,
     "input": [
      "a = npr.rand(100,100)\n",
      "b = npr.rand(1000,1000)"
     ],
     "language": "python",
     "metadata": {},
     "outputs": [],
     "prompt_number": 4
    },
    {
     "cell_type": "markdown",
     "metadata": {},
     "source": [
      "#### Inverting a matrix\n",
      "Find the inverse of $\\mathbf{A}$, $\\mathbf{A}^{-1}$, such that $$\\mathbf{A} \\mathbf{A}^{-1} = \\mathbf{I}$$\n",
      "- numpy.linalg seems significantly faster than scipy.linalg for large and small matrices, but scipy.linalg is faster for matrices aroud $100 \\times 100$"
     ]
    },
    {
     "cell_type": "code",
     "collapsed": false,
     "input": [
      "tiny = npr.rand(10,10)"
     ],
     "language": "python",
     "metadata": {},
     "outputs": [],
     "prompt_number": 5
    },
    {
     "cell_type": "code",
     "collapsed": false,
     "input": [
      "%timeit linalg.inv(tiny)"
     ],
     "language": "python",
     "metadata": {},
     "outputs": [
      {
       "output_type": "stream",
       "stream": "stdout",
       "text": [
        "10000 loops, best of 3: 29.4 \u00b5s per loop\n"
       ]
      }
     ],
     "prompt_number": 118
    },
    {
     "cell_type": "code",
     "collapsed": false,
     "input": [
      "%timeit np.linalg.inv(tiny)"
     ],
     "language": "python",
     "metadata": {},
     "outputs": [
      {
       "output_type": "stream",
       "stream": "stdout",
       "text": [
        "100000 loops, best of 3: 12.5 \u00b5s per loop\n"
       ]
      }
     ],
     "prompt_number": 119
    },
    {
     "cell_type": "code",
     "collapsed": false,
     "input": [
      "%timeit ans = linalg.inv(a)"
     ],
     "language": "python",
     "metadata": {},
     "outputs": [
      {
       "output_type": "stream",
       "stream": "stdout",
       "text": [
        "1000 loops, best of 3: 270 \u00b5s per loop\n"
       ]
      }
     ],
     "prompt_number": 115
    },
    {
     "cell_type": "code",
     "collapsed": false,
     "input": [
      "%timeit ans = linalg.inv(b)"
     ],
     "language": "python",
     "metadata": {},
     "outputs": [
      {
       "output_type": "stream",
       "stream": "stdout",
       "text": [
        "10 loops, best of 3: 59.1 ms per loop\n"
       ]
      }
     ],
     "prompt_number": 107
    },
    {
     "cell_type": "code",
     "collapsed": false,
     "input": [
      "c = npr.rand(5000,5000)"
     ],
     "language": "python",
     "metadata": {},
     "outputs": [],
     "prompt_number": 27
    },
    {
     "cell_type": "code",
     "collapsed": false,
     "input": [
      "%timeit ans = linalg.inv(c)"
     ],
     "language": "python",
     "metadata": {},
     "outputs": [
      {
       "output_type": "stream",
       "stream": "stdout",
       "text": [
        "1 loops, best of 3: 6.96 s per loop\n"
       ]
      }
     ],
     "prompt_number": 108
    },
    {
     "cell_type": "code",
     "collapsed": false,
     "input": [
      "%timeit np.linalg.inv(a)"
     ],
     "language": "python",
     "metadata": {},
     "outputs": [
      {
       "output_type": "stream",
       "stream": "stdout",
       "text": [
        "1000 loops, best of 3: 347 \u00b5s per loop\n"
       ]
      }
     ],
     "prompt_number": 113
    },
    {
     "cell_type": "code",
     "collapsed": false,
     "input": [
      "%timeit ans = np.linalg.inv(b)"
     ],
     "language": "python",
     "metadata": {},
     "outputs": [
      {
       "output_type": "stream",
       "stream": "stdout",
       "text": [
        "10 loops, best of 3: 37.7 ms per loop\n"
       ]
      }
     ],
     "prompt_number": 110
    },
    {
     "cell_type": "code",
     "collapsed": false,
     "input": [
      "%timeit ans = np.linalg.inv(c)"
     ],
     "language": "python",
     "metadata": {},
     "outputs": [
      {
       "output_type": "stream",
       "stream": "stdout",
       "text": [
        "1 loops, best of 3: 3.92 s per loop\n"
       ]
      }
     ],
     "prompt_number": 111
    },
    {
     "cell_type": "markdown",
     "metadata": {},
     "source": [
      "#### Solving a system of equations\n",
      "Solve for $\\mathbf{x}$ in $ \\mathbf{A} \\mathbf{x} = \\mathbf{b}$.\n",
      "- numpy again seems faster for most cases (except around $100\\times 100$)"
     ]
    },
    {
     "cell_type": "code",
     "collapsed": false,
     "input": [
      "ab = npr.rand(100)\n",
      "bb = npr.rand(1000)\n",
      "cb = npr.rand(5000)"
     ],
     "language": "python",
     "metadata": {},
     "outputs": [],
     "prompt_number": 6
    },
    {
     "cell_type": "code",
     "collapsed": false,
     "input": [
      "%timeit linalg.solve(a,ab)"
     ],
     "language": "python",
     "metadata": {},
     "outputs": [
      {
       "output_type": "stream",
       "stream": "stdout",
       "text": [
        "10000 loops, best of 3: 174 \u00b5s per loop\n"
       ]
      }
     ],
     "prompt_number": 124
    },
    {
     "cell_type": "code",
     "collapsed": false,
     "input": [
      "%timeit linalg.solve(b,bb)"
     ],
     "language": "python",
     "metadata": {},
     "outputs": [
      {
       "output_type": "stream",
       "stream": "stdout",
       "text": [
        "10 loops, best of 3: 22 ms per loop\n"
       ]
      }
     ],
     "prompt_number": 125
    },
    {
     "cell_type": "code",
     "collapsed": false,
     "input": [
      "%timeit linalg.solve(c,cb)"
     ],
     "language": "python",
     "metadata": {},
     "outputs": [
      {
       "output_type": "stream",
       "stream": "stdout",
       "text": [
        "1 loops, best of 3: 2.58 s per loop\n"
       ]
      }
     ],
     "prompt_number": 126
    },
    {
     "cell_type": "code",
     "collapsed": false,
     "input": [
      "%timeit np.linalg.solve(a,ab)"
     ],
     "language": "python",
     "metadata": {},
     "outputs": [
      {
       "output_type": "stream",
       "stream": "stdout",
       "text": [
        "1000 loops, best of 3: 233 \u00b5s per loop\n"
       ]
      }
     ],
     "prompt_number": 127
    },
    {
     "cell_type": "code",
     "collapsed": false,
     "input": [
      "%timeit np.linalg.solve(b,bb)"
     ],
     "language": "python",
     "metadata": {},
     "outputs": [
      {
       "output_type": "stream",
       "stream": "stdout",
       "text": [
        "100 loops, best of 3: 12 ms per loop\n"
       ]
      }
     ],
     "prompt_number": 128
    },
    {
     "cell_type": "code",
     "collapsed": false,
     "input": [
      "%timeit np.linalg.solve(c,cb)"
     ],
     "language": "python",
     "metadata": {},
     "outputs": [
      {
       "output_type": "stream",
       "stream": "stdout",
       "text": [
        "1 loops, best of 3: 1.25 s per loop\n"
       ]
      }
     ],
     "prompt_number": 129
    },
    {
     "cell_type": "code",
     "collapsed": false,
     "input": [
      "tinyb = npr.rand(len(tiny))"
     ],
     "language": "python",
     "metadata": {},
     "outputs": [],
     "prompt_number": 131
    },
    {
     "cell_type": "code",
     "collapsed": false,
     "input": [
      "%timeit linalg.solve(tiny,tinyb)"
     ],
     "language": "python",
     "metadata": {},
     "outputs": [
      {
       "output_type": "stream",
       "stream": "stdout",
       "text": [
        "10000 loops, best of 3: 34.3 \u00b5s per loop\n"
       ]
      }
     ],
     "prompt_number": 133
    },
    {
     "cell_type": "code",
     "collapsed": false,
     "input": [
      "%timeit np.linalg.solve(tiny,tinyb)"
     ],
     "language": "python",
     "metadata": {},
     "outputs": [
      {
       "output_type": "stream",
       "stream": "stdout",
       "text": [
        "100000 loops, best of 3: 14.4 \u00b5s per loop\n"
       ]
      }
     ],
     "prompt_number": 132
    },
    {
     "cell_type": "markdown",
     "metadata": {},
     "source": [
      "#### Determinants\n",
      "- A matrix of coefficients in a system of linear equations has a unique solution exactly when the determinant is nonzero (zero means either no or many solutions)\n",
      "- A matrix corresponding to a linear transformation of a vector space has an inverse operation exactly when the determinant is nonzero\n",
      "    - Absolute value of determinant (when the matrix has real entries) gives the \"scale factor\" by which area/volume/measure is multiplied under  the transformation\n",
      "    - Sign of the determinant indicates whether the transformation preserves orientation"
     ]
    },
    {
     "cell_type": "code",
     "collapsed": false,
     "input": [
      "%timeit linalg.det(c)"
     ],
     "language": "python",
     "metadata": {},
     "outputs": [
      {
       "output_type": "stream",
       "stream": "stdout",
       "text": [
        "1 loops, best of 3: 2.19 s per loop\n"
       ]
      }
     ],
     "prompt_number": 134
    },
    {
     "cell_type": "code",
     "collapsed": false,
     "input": [
      "%timeit np.linalg.det(c)"
     ],
     "language": "python",
     "metadata": {},
     "outputs": [
      {
       "output_type": "stream",
       "stream": "stdout",
       "text": [
        "1 loops, best of 3: 1.16 s per loop\n"
       ]
      }
     ],
     "prompt_number": 136
    },
    {
     "cell_type": "markdown",
     "metadata": {},
     "source": [
      "#### Norm"
     ]
    },
    {
     "cell_type": "markdown",
     "metadata": {},
     "source": [
      "#### Least squares solution to $\\mathbf{Ax} = \\mathbf{b}$"
     ]
    },
    {
     "cell_type": "code",
     "collapsed": false,
     "input": [
      "%timeit linalg.lstsq(a,ab)"
     ],
     "language": "python",
     "metadata": {},
     "outputs": [
      {
       "output_type": "stream",
       "stream": "stdout",
       "text": [
        "100 loops, best of 3: 2.3 ms per loop\n"
       ]
      }
     ],
     "prompt_number": 7
    },
    {
     "cell_type": "code",
     "collapsed": false,
     "input": [
      "%timeit linalg.lstsq(b,bb)"
     ],
     "language": "python",
     "metadata": {},
     "outputs": [
      {
       "output_type": "stream",
       "stream": "stdout",
       "text": [
        "1 loops, best of 3: 464 ms per loop\n"
       ]
      }
     ],
     "prompt_number": 8
    },
    {
     "cell_type": "markdown",
     "metadata": {},
     "source": [
      "#### Moore-Penrose pseudo-inverse\n",
      "- Of a matrix or Hermitian matrix"
     ]
    },
    {
     "cell_type": "markdown",
     "metadata": {},
     "source": [
      "#### Kronecker product"
     ]
    },
    {
     "cell_type": "markdown",
     "metadata": {},
     "source": [
      "### Eigenvalue problems\n",
      "- Solve (or compute eigenvalues from) ordinary or generalized eigenvalue problems for square, Hermitian, symmetric, or banded matrices"
     ]
    },
    {
     "cell_type": "code",
     "collapsed": false,
     "input": [
      "%timeit linalg.eig(a)"
     ],
     "language": "python",
     "metadata": {},
     "outputs": [
      {
       "output_type": "stream",
       "stream": "stdout",
       "text": [
        "100 loops, best of 3: 8.11 ms per loop\n"
       ]
      }
     ],
     "prompt_number": 10
    },
    {
     "cell_type": "code",
     "collapsed": false,
     "input": [
      "%timeit linalg.eig(b)"
     ],
     "language": "python",
     "metadata": {},
     "outputs": [
      {
       "output_type": "stream",
       "stream": "stdout",
       "text": [
        "1 loops, best of 3: 1.32 s per loop\n"
       ]
      }
     ],
     "prompt_number": 11
    },
    {
     "cell_type": "code",
     "collapsed": false,
     "input": [
      "%timeit np.linalg.eig(b)"
     ],
     "language": "python",
     "metadata": {},
     "outputs": [
      {
       "output_type": "stream",
       "stream": "stdout",
       "text": [
        "1 loops, best of 3: 1.48 s per loop\n"
       ]
      }
     ],
     "prompt_number": 12
    },
    {
     "cell_type": "code",
     "collapsed": false,
     "input": [
      "%timeit linalg.eigvals(b)"
     ],
     "language": "python",
     "metadata": {},
     "outputs": [
      {
       "output_type": "stream",
       "stream": "stdout",
       "text": [
        "1 loops, best of 3: 806 ms per loop\n"
       ]
      }
     ],
     "prompt_number": 33
    },
    {
     "cell_type": "markdown",
     "metadata": {},
     "source": [
      "### Decompositions"
     ]
    },
    {
     "cell_type": "markdown",
     "metadata": {},
     "source": [
      "#### LU decomposition\n",
      "- Decompose a matrix into a lower triangular matrix $L$ and an upper triangular matrix $U$\n",
      "$$ A = LU$$\n",
      "    - Useful in computing matrix inverses, determinants, and solutions to systems of linear equations"
     ]
    },
    {
     "cell_type": "markdown",
     "metadata": {},
     "source": [
      "#### Singular value decomposition"
     ]
    },
    {
     "cell_type": "code",
     "collapsed": false,
     "input": [
      "%timeit linalg.svd(a)"
     ],
     "language": "python",
     "metadata": {},
     "outputs": [
      {
       "output_type": "stream",
       "stream": "stdout",
       "text": [
        "100 loops, best of 3: 2.51 ms per loop\n"
       ]
      }
     ],
     "prompt_number": 19
    },
    {
     "cell_type": "code",
     "collapsed": false,
     "input": [
      "%timeit linalg.svd(b)"
     ],
     "language": "python",
     "metadata": {},
     "outputs": [
      {
       "output_type": "stream",
       "stream": "stdout",
       "text": [
        "1 loops, best of 3: 453 ms per loop\n"
       ]
      }
     ],
     "prompt_number": 20
    },
    {
     "cell_type": "markdown",
     "metadata": {},
     "source": [
      "#### Cholesky decomposition"
     ]
    },
    {
     "cell_type": "markdown",
     "metadata": {},
     "source": [
      "#### Polar decomposition"
     ]
    },
    {
     "cell_type": "markdown",
     "metadata": {},
     "source": [
      "#### QR decomposition"
     ]
    },
    {
     "cell_type": "markdown",
     "metadata": {},
     "source": [
      "#### QZ decomposition\n",
      "- For generalized eigenvalues of a pair of matrices"
     ]
    },
    {
     "cell_type": "markdown",
     "metadata": {},
     "source": [
      "#### Schur decomposition"
     ]
    },
    {
     "cell_type": "markdown",
     "metadata": {},
     "source": [
      "#### Interpolative decompositions\n",
      "- Cheaper and more efficient to construct than SVD\n",
      "- Preserves structure of $\\mathbf{A}$"
     ]
    },
    {
     "cell_type": "code",
     "collapsed": false,
     "input": [
      "from scipy.linalg import interpolative"
     ],
     "language": "python",
     "metadata": {},
     "outputs": [],
     "prompt_number": 14
    },
    {
     "cell_type": "code",
     "collapsed": false,
     "input": [
      "%timeit interpolative.svd(a,0.1)"
     ],
     "language": "python",
     "metadata": {},
     "outputs": [
      {
       "output_type": "stream",
       "stream": "stdout",
       "text": [
        "100 loops, best of 3: 6.5 ms per loop\n"
       ]
      }
     ],
     "prompt_number": 17
    },
    {
     "cell_type": "code",
     "collapsed": false,
     "input": [
      "%timeit interpolative.svd(a,5)"
     ],
     "language": "python",
     "metadata": {},
     "outputs": [
      {
       "output_type": "stream",
       "stream": "stdout",
       "text": [
        "1000 loops, best of 3: 340 \u00b5s per loop\n"
       ]
      }
     ],
     "prompt_number": 23
    },
    {
     "cell_type": "code",
     "collapsed": false,
     "input": [
      "%timeit interpolative.svd(b,50)"
     ],
     "language": "python",
     "metadata": {},
     "outputs": [
      {
       "output_type": "stream",
       "stream": "stdout",
       "text": [
        "10 loops, best of 3: 40.1 ms per loop\n"
       ]
      }
     ],
     "prompt_number": 25
    },
    {
     "cell_type": "code",
     "collapsed": false,
     "input": [
      "%timeit interpolative.svd(c,50)"
     ],
     "language": "python",
     "metadata": {},
     "outputs": [
      {
       "output_type": "stream",
       "stream": "stdout",
       "text": [
        "1 loops, best of 3: 1.1 s per loop\n"
       ]
      }
     ],
     "prompt_number": 28
    },
    {
     "cell_type": "code",
     "collapsed": false,
     "input": [
      "%timeit interpolative.estimate_spectral_norm(a)"
     ],
     "language": "python",
     "metadata": {},
     "outputs": [
      {
       "output_type": "stream",
       "stream": "stdout",
       "text": [
        "1000 loops, best of 3: 214 \u00b5s per loop\n"
       ]
      }
     ],
     "prompt_number": 30
    },
    {
     "cell_type": "code",
     "collapsed": false,
     "input": [
      "%timeit interpolative.estimate_spectral_norm(b)"
     ],
     "language": "python",
     "metadata": {},
     "outputs": [
      {
       "output_type": "stream",
       "stream": "stdout",
       "text": [
        "100 loops, best of 3: 7.04 ms per loop\n"
       ]
      }
     ],
     "prompt_number": 31
    },
    {
     "cell_type": "code",
     "collapsed": false,
     "input": [
      "%timeit interpolative.estimate_spectral_norm(c)"
     ],
     "language": "python",
     "metadata": {},
     "outputs": [
      {
       "output_type": "stream",
       "stream": "stdout",
       "text": [
        "1 loops, best of 3: 315 ms per loop\n"
       ]
      }
     ],
     "prompt_number": 32
    },
    {
     "cell_type": "markdown",
     "metadata": {},
     "source": [
      "### Matrix "
     ]
    },
    {
     "cell_type": "markdown",
     "metadata": {},
     "source": [
      "### Special matrices\n"
     ]
    }
   ],
   "metadata": {}
  }
 ]
}