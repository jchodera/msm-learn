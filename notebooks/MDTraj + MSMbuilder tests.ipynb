{
 "metadata": {
  "name": "",
  "signature": "sha256:d951a203b7943c8c46b468c5a896955ae8a1bbfa7b75c6c21fd87a1f89b5d13a"
 },
 "nbformat": 3,
 "nbformat_minor": 0,
 "worksheets": [
  {
   "cells": [
    {
     "cell_type": "code",
     "collapsed": false,
     "input": [
      "import mdtraj as md\n",
      "import numpy as np\n",
      "\n",
      "import numpy as np\n",
      "from matplotlib import pyplot as plt\n",
      "from mdtraj.utils import timing\n",
      "import msmbuilder as mb\n",
      "from msmbuilder.example_datasets import load_doublewell\n",
      "from msmbuilder.cluster import NDGrid\n",
      "from msmbuilder.msm import BayesianMarkovStateModel, MarkovStateModel\n",
      "\n",
      "%matplotlib inline"
     ],
     "language": "python",
     "metadata": {},
     "outputs": [],
     "prompt_number": 1
    },
    {
     "cell_type": "code",
     "collapsed": false,
     "input": [
      "trjs = load_doublewell(random_state=0)['trajectories']\n",
      "plt.hist(np.concatenate(trjs), bins=50, log=True)\n",
      "plt.ylabel('Frequency')\n",
      "plt.show()"
     ],
     "language": "python",
     "metadata": {},
     "outputs": [
      {
       "output_type": "stream",
       "stream": "stdout",
       "text": [
        "loading \"/Users/joshuafass/msmbuilder_data/doublewell/version-1_random-state-0.pkl\"...\n"
       ]
      },
      {
       "metadata": {},
       "output_type": "display_data",
       "png": "[encoded data removed]",
       "text": [
        "<matplotlib.figure.Figure at 0x1119a8e90>"
       ]
      }
     ],
     "prompt_number": 2
    },
    {
     "cell_type": "code",
     "collapsed": false,
     "input": [
      "from __future__ import print_function\n",
      "import os\n",
      "from matplotlib.pyplot import *\n",
      "from msmbuilder.featurizer import SuperposeFeaturizer\n",
      "from msmbuilder.example_datasets import AlanineDipeptide\n",
      "from msmbuilder.hmm import GaussianFusionHMM\n",
      "from msmbuilder.cluster import KCenters\n",
      "from msmbuilder.msm import MarkovStateModel"
     ],
     "language": "python",
     "metadata": {},
     "outputs": [],
     "prompt_number": 3
    },
    {
     "cell_type": "code",
     "collapsed": false,
     "input": [
      "print(AlanineDipeptide.description())\n",
      "\n",
      "dataset = AlanineDipeptide().get()\n",
      "trajectories = dataset.trajectories\n",
      "topology = trajectories[0].topology\n",
      "\n",
      "indices = [atom.index for atom in topology.atoms if atom.element.symbol in ['C', 'O', 'N']]\n",
      "featurizer = SuperposeFeaturizer(indices, trajectories[0][0])\n",
      "sequences = featurizer.transform(trajectories)"
     ],
     "language": "python",
     "metadata": {},
     "outputs": [
      {
       "output_type": "stream",
       "stream": "stdout",
       "text": [
        "The dataset consists of ten 10ns trajectories of of alanine dipeptide,\n",
        "simulated using OpenMM 6.0.1 (CUDA platform, NVIDIA GTX660) with the\n",
        "AMBER99SB-ILDN force field at 300K (langevin dynamics, friction coefficient\n",
        "of 91/ps, timestep of 2fs) with GBSA implicit solvent. The coordinates are\n",
        "saved every 1ps. Each trajectory contains 9,999 snapshots.\n",
        "\n",
        "The dataset, including the script used to generate the dataset\n",
        "is available on figshare at\n",
        "\n",
        "http://dx.doi.org/10.6084/m9.figshare.1026131\n",
        "\n"
       ]
      }
     ],
     "prompt_number": 4
    },
    {
     "cell_type": "code",
     "collapsed": false,
     "input": [
      "len(sequences)"
     ],
     "language": "python",
     "metadata": {},
     "outputs": [
      {
       "metadata": {},
       "output_type": "pyout",
       "prompt_number": 5,
       "text": [
        "10"
       ]
      }
     ],
     "prompt_number": 5
    },
    {
     "cell_type": "code",
     "collapsed": false,
     "input": [
      "lag_times = [1, 10, 20, 30, 40]\n",
      "hmm_ts0 = {}\n",
      "hmm_ts1 = {}\n",
      "n_states = [3, 5]\n",
      "\n",
      "for n in n_states:\n",
      "    hmm_ts0[n] = []\n",
      "    hmm_ts1[n] = []\n",
      "    for lag_time in lag_times:\n",
      "        strided_data = [s[i::lag_time] for s in sequences for i in range(lag_time)]\n",
      "        hmm = GaussianFusionHMM(n_states=n, n_features=sequences[0].shape[1], n_init=1).fit(strided_data)\n",
      "        timescales = hmm.timescales_ * lag_time\n",
      "        hmm_ts0[n].append(timescales[0])\n",
      "        hmm_ts1[n].append(timescales[1])\n",
      "        print('n_states=%d\\tlag_time=%d\\ttimescales=%s' % (n, lag_time, timescales))\n",
      "    print()"
     ],
     "language": "python",
     "metadata": {},
     "outputs": [
      {
       "output_type": "stream",
       "stream": "stdout",
       "text": [
        "n_states=3\tlag_time=1\ttimescales=[ 125.83473969    3.76069617]\n",
        "n_states=3\tlag_time=10\ttimescales=[ 208.22064209    5.93715   ]"
       ]
      },
      {
       "output_type": "stream",
       "stream": "stdout",
       "text": [
        "\n",
        "n_states=3\tlag_time=20\ttimescales=[ 221.70774841    6.29119635]"
       ]
      },
      {
       "output_type": "stream",
       "stream": "stdout",
       "text": [
        "\n",
        "n_states=3\tlag_time=30\ttimescales=[ 227.06152344    7.7659955 ]"
       ]
      },
      {
       "output_type": "stream",
       "stream": "stdout",
       "text": [
        "\n",
        "n_states=3\tlag_time=40\ttimescales=[ 230.05775452    8.96201706]"
       ]
      },
      {
       "output_type": "stream",
       "stream": "stdout",
       "text": [
        "\n",
        "\n",
        "n_states=5\tlag_time=1\ttimescales=[ 124.05364227    4.28548574    1.66884148    0.95070887]"
       ]
      },
      {
       "output_type": "stream",
       "stream": "stdout",
       "text": [
        "\n",
        "n_states=5\tlag_time=10\ttimescales=[ 210.96549988    6.21665716    2.39654016    1.35008681]"
       ]
      },
      {
       "output_type": "stream",
       "stream": "stdout",
       "text": [
        "\n",
        "n_states=5\tlag_time=20\ttimescales=[ 223.22265625    6.2946701     4.25229549    3.35900426]"
       ]
      },
      {
       "output_type": "stream",
       "stream": "stdout",
       "text": [
        "\n",
        "n_states=5\tlag_time=30\ttimescales=[ 227.30316162    7.20709753    6.2593503 ]"
       ]
      },
      {
       "output_type": "stream",
       "stream": "stdout",
       "text": [
        "\n",
        "n_states=5\tlag_time=40\ttimescales=[ 227.23243713    8.77617931    8.41687107]"
       ]
      },
      {
       "output_type": "stream",
       "stream": "stdout",
       "text": [
        "\n",
        "\n"
       ]
      },
      {
       "output_type": "stream",
       "stream": "stderr",
       "text": [
        "/Users/joshuafass/Library/Enthought/Canopy_64bit/User/lib/python2.7/site-packages/msmbuilder-3.0.0_beta-py2.7-macosx-10.6-x86_64.egg/msmbuilder/hmm/ghmm.py:390: RuntimeWarning: divide by zero encountered in log\n",
        "  self._impl.transmat_ = value\n"
       ]
      }
     ],
     "prompt_number": 6
    },
    {
     "cell_type": "code",
     "collapsed": false,
     "input": [
      "figure(figsize=(14,3))\n",
      "\n",
      "for i, n in enumerate(n_states):\n",
      "    subplot(1,len(n_states),1+i)\n",
      "    plot(lag_times, hmm_ts0[n])\n",
      "    plot(lag_times, hmm_ts1[n])\n",
      "    if i == 0:\n",
      "        ylabel('Relaxation Timescale')\n",
      "    xlabel('Lag Time')\n",
      "    title('%d states' % n)\n",
      "\n",
      "show()"
     ],
     "language": "python",
     "metadata": {},
     "outputs": [
      {
       "metadata": {},
       "output_type": "display_data",
       "png": "[encoded data removed]",
       "text": [
        "<matplotlib.figure.Figure at 0x113f928d0>"
       ]
      }
     ],
     "prompt_number": 7
    },
    {
     "cell_type": "code",
     "collapsed": false,
     "input": [
      "hmm.score(sequences)"
     ],
     "language": "python",
     "metadata": {},
     "outputs": [
      {
       "metadata": {},
       "output_type": "pyout",
       "prompt_number": 8,
       "text": [
        "2969326.0"
       ]
      }
     ],
     "prompt_number": 8
    },
    {
     "cell_type": "code",
     "collapsed": false,
     "input": [
      "me_data = mb.example_datasets.MetEnkephalin().get()"
     ],
     "language": "python",
     "metadata": {},
     "outputs": [],
     "prompt_number": 9
    },
    {
     "cell_type": "code",
     "collapsed": false,
     "input": [
      "fs_data = mb.example_datasets.FsPeptide().get()"
     ],
     "language": "python",
     "metadata": {},
     "outputs": [
      {
       "output_type": "stream",
       "stream": "stdout",
       "text": [
        "loading trajectory_1.xtc...\n",
        "loading trajectory_10.xtc..."
       ]
      },
      {
       "output_type": "stream",
       "stream": "stdout",
       "text": [
        "\n",
        "loading trajectory_11.xtc..."
       ]
      },
      {
       "output_type": "stream",
       "stream": "stdout",
       "text": [
        "\n",
        "loading trajectory_12.xtc..."
       ]
      },
      {
       "output_type": "stream",
       "stream": "stdout",
       "text": [
        "\n",
        "loading trajectory_13.xtc..."
       ]
      },
      {
       "output_type": "stream",
       "stream": "stdout",
       "text": [
        "\n",
        "loading trajectory_14.xtc..."
       ]
      },
      {
       "output_type": "stream",
       "stream": "stdout",
       "text": [
        "\n",
        "loading trajectory_15.xtc..."
       ]
      },
      {
       "output_type": "stream",
       "stream": "stdout",
       "text": [
        "\n",
        "loading trajectory_16.xtc..."
       ]
      },
      {
       "output_type": "stream",
       "stream": "stdout",
       "text": [
        "\n",
        "loading trajectory_17.xtc..."
       ]
      },
      {
       "output_type": "stream",
       "stream": "stdout",
       "text": [
        "\n",
        "loading trajectory_18.xtc..."
       ]
      },
      {
       "output_type": "stream",
       "stream": "stdout",
       "text": [
        "\n",
        "loading trajectory_19.xtc..."
       ]
      },
      {
       "output_type": "stream",
       "stream": "stdout",
       "text": [
        "\n",
        "loading trajectory_2.xtc..."
       ]
      },
      {
       "output_type": "stream",
       "stream": "stdout",
       "text": [
        "\n",
        "loading trajectory_20.xtc..."
       ]
      },
      {
       "output_type": "stream",
       "stream": "stdout",
       "text": [
        "\n",
        "loading trajectory_21.xtc..."
       ]
      },
      {
       "output_type": "stream",
       "stream": "stdout",
       "text": [
        "\n",
        "loading trajectory_22.xtc..."
       ]
      },
      {
       "output_type": "stream",
       "stream": "stdout",
       "text": [
        "\n",
        "loading trajectory_23.xtc..."
       ]
      },
      {
       "output_type": "stream",
       "stream": "stdout",
       "text": [
        "\n",
        "loading trajectory_24.xtc..."
       ]
      },
      {
       "output_type": "stream",
       "stream": "stdout",
       "text": [
        "\n",
        "loading trajectory_25.xtc..."
       ]
      },
      {
       "output_type": "stream",
       "stream": "stdout",
       "text": [
        "\n",
        "loading trajectory_26.xtc..."
       ]
      },
      {
       "output_type": "stream",
       "stream": "stdout",
       "text": [
        "\n",
        "loading trajectory_27.xtc..."
       ]
      },
      {
       "output_type": "stream",
       "stream": "stdout",
       "text": [
        "\n",
        "loading trajectory_28.xtc..."
       ]
      },
      {
       "output_type": "stream",
       "stream": "stdout",
       "text": [
        "\n",
        "loading trajectory_3.xtc..."
       ]
      },
      {
       "output_type": "stream",
       "stream": "stdout",
       "text": [
        "\n",
        "loading trajectory_4.xtc..."
       ]
      },
      {
       "output_type": "stream",
       "stream": "stdout",
       "text": [
        "\n",
        "loading trajectory_5.xtc..."
       ]
      },
      {
       "output_type": "stream",
       "stream": "stdout",
       "text": [
        "\n",
        "loading trajectory_6.xtc..."
       ]
      },
      {
       "output_type": "stream",
       "stream": "stdout",
       "text": [
        "\n",
        "loading trajectory_7.xtc..."
       ]
      },
      {
       "output_type": "stream",
       "stream": "stdout",
       "text": [
        "\n",
        "loading trajectory_8.xtc..."
       ]
      },
      {
       "output_type": "stream",
       "stream": "stdout",
       "text": [
        "\n",
        "loading trajectory_9.xtc..."
       ]
      },
      {
       "output_type": "stream",
       "stream": "stdout",
       "text": [
        "\n"
       ]
      }
     ],
     "prompt_number": 10
    },
    {
     "cell_type": "code",
     "collapsed": false,
     "input": [
      "dataset = fs_data"
     ],
     "language": "python",
     "metadata": {},
     "outputs": [],
     "prompt_number": 11
    },
    {
     "cell_type": "code",
     "collapsed": false,
     "input": [
      "trajectories = dataset.trajectories\n",
      "topology = trajectories[0].topology\n",
      "\n",
      "indices = [atom.index for atom in topology.atoms if atom.element.symbol in ['C', 'O', 'N']]\n",
      "featurizer = SuperposeFeaturizer(indices, trajectories[0][0])\n",
      "sequences = featurizer.transform(trajectories)"
     ],
     "language": "python",
     "metadata": {},
     "outputs": [],
     "prompt_number": 12
    },
    {
     "cell_type": "code",
     "collapsed": false,
     "input": [
      "len(sequences)"
     ],
     "language": "python",
     "metadata": {},
     "outputs": [
      {
       "metadata": {},
       "output_type": "pyout",
       "prompt_number": 13,
       "text": [
        "28"
       ]
      }
     ],
     "prompt_number": 13
    },
    {
     "cell_type": "code",
     "collapsed": false,
     "input": [
      "sum([len(traj) for traj in sequences])"
     ],
     "language": "python",
     "metadata": {},
     "outputs": [
      {
       "metadata": {},
       "output_type": "pyout",
       "prompt_number": 14,
       "text": [
        "280000"
       ]
      }
     ],
     "prompt_number": 14
    },
    {
     "cell_type": "code",
     "collapsed": false,
     "input": [
      "sequences[0].shape"
     ],
     "language": "python",
     "metadata": {},
     "outputs": [
      {
       "metadata": {},
       "output_type": "pyout",
       "prompt_number": 15,
       "text": [
        "(10000, 128)"
       ]
      }
     ],
     "prompt_number": 15
    },
    {
     "cell_type": "code",
     "collapsed": false,
     "input": [
      "hmm"
     ],
     "language": "python",
     "metadata": {},
     "outputs": [
      {
       "metadata": {},
       "output_type": "pyout",
       "prompt_number": 17,
       "text": [
        "GaussianFusionHMM(fusion_prior=0.01, init_algo='kmeans', init_params='tmv',\n",
        "         n_em_iter=10, n_features=10, n_hotstart='all', n_init=1, n_jobs=1,\n",
        "         n_lqa_iter=10, n_states=5, params='tmv', precision=None,\n",
        "         random_state=None, reversible_type='mle', thresh=0.01,\n",
        "         timing=False, transmat_prior=1.0, vars_prior=0.001,\n",
        "         vars_weight=1.0)"
       ]
      }
     ],
     "prompt_number": 17
    },
    {
     "cell_type": "code",
     "collapsed": false,
     "input": [
      "hmm.params"
     ],
     "language": "python",
     "metadata": {},
     "outputs": [
      {
       "metadata": {},
       "output_type": "pyout",
       "prompt_number": 18,
       "text": [
        "'tmv'"
       ]
      }
     ],
     "prompt_number": 18
    },
    {
     "cell_type": "code",
     "collapsed": false,
     "input": [
      "hmm.vars_.shape"
     ],
     "language": "python",
     "metadata": {},
     "outputs": [
      {
       "metadata": {},
       "output_type": "pyout",
       "prompt_number": 19,
       "text": [
        "(5, 10)"
       ]
      }
     ],
     "prompt_number": 19
    },
    {
     "cell_type": "code",
     "collapsed": false,
     "input": [
      "hmm.vars_"
     ],
     "language": "python",
     "metadata": {},
     "outputs": [
      {
       "metadata": {},
       "output_type": "pyout",
       "prompt_number": 20,
       "text": [
        "array([[  1.91488434e-04,   5.20601352e-05,   9.68532171e-04,\n",
        "          5.73767356e-05,   1.18788179e-04,   3.34413315e-04,\n",
        "          2.08521597e-05,   3.06292495e-04,   9.14890552e-05,\n",
        "          2.13697858e-04],\n",
        "       [  1.25953040e-04,   4.19898279e-05,   5.76663821e-04,\n",
        "          7.08183215e-05,   3.56524870e-05,   1.40600023e-04,\n",
        "          1.87604855e-05,   4.91073733e-05,   4.62977187e-05,\n",
        "          2.03883697e-04],\n",
        "       [  2.34200284e-04,   2.66525713e-05,   6.02752028e-04,\n",
        "          6.69366709e-05,   5.58121246e-05,   1.22097845e-04,\n",
        "          3.06284091e-05,   5.00308524e-04,   1.64567828e-04,\n",
        "          1.46769351e-04],\n",
        "       [  1.16374758e-04,   3.59268415e-05,   5.92628086e-04,\n",
        "          7.59668910e-05,   3.21573134e-05,   6.84226688e-05,\n",
        "          4.11394722e-05,   1.69776124e-03,   3.46563233e-04,\n",
        "          2.74006801e-04],\n",
        "       [  3.38291196e-04,   7.51507396e-05,   1.15648727e-03,\n",
        "          1.73907625e-04,   7.92533465e-05,   1.47518134e-04,\n",
        "          4.37595154e-05,   6.00454339e-04,   3.76172742e-04,\n",
        "          5.79788873e-04]], dtype=float32)"
       ]
      }
     ],
     "prompt_number": 20
    },
    {
     "cell_type": "code",
     "collapsed": false,
     "input": [
      "hmm.transmat_"
     ],
     "language": "python",
     "metadata": {},
     "outputs": [
      {
       "metadata": {},
       "output_type": "pyout",
       "prompt_number": 21,
       "text": [
        "array([[ 0.29276803,  0.51149726,  0.03518528,  0.12032859,  0.04022082],\n",
        "       [ 0.28584546,  0.52791041,  0.02907804,  0.12267954,  0.03448655],\n",
        "       [ 0.02091923,  0.03093583,  0.48235598,  0.02223061,  0.44355837],\n",
        "       [ 0.25485855,  0.46495891,  0.07919489,  0.11022133,  0.09076632],\n",
        "       [ 0.02516027,  0.03860345,  0.46669218,  0.02680765,  0.44273645]], dtype=float32)"
       ]
      }
     ],
     "prompt_number": 21
    },
    {
     "cell_type": "code",
     "collapsed": false,
     "input": [
      "import pylab as pl\n",
      "%matplotlib inline\n",
      "pl.imshow(hmm.transmat_,interpolation='none')"
     ],
     "language": "python",
     "metadata": {},
     "outputs": [
      {
       "metadata": {},
       "output_type": "pyout",
       "prompt_number": 22,
       "text": [
        "<matplotlib.image.AxesImage at 0x113318310>"
       ]
      },
      {
       "metadata": {},
       "output_type": "display_data",
       "png": "[encoded data removed]",
       "text": [
        "<matplotlib.figure.Figure at 0x113f80950>"
       ]
      }
     ],
     "prompt_number": 22
    },
    {
     "cell_type": "code",
     "collapsed": false,
     "input": [
      "c=mb.cluster.KMedoids(n_clusters=100)"
     ],
     "language": "python",
     "metadata": {},
     "outputs": [],
     "prompt_number": 27
    },
    {
     "cell_type": "code",
     "collapsed": false,
     "input": [
      "c.fit(sequences)"
     ],
     "language": "python",
     "metadata": {},
     "outputs": []
    },
    {
     "cell_type": "code",
     "collapsed": false,
     "input": [],
     "language": "python",
     "metadata": {},
     "outputs": []
    }
   ],
   "metadata": {}
  }
 ]
}