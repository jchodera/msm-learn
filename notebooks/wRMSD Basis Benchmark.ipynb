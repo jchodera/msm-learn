{
 "cells": [
  {
   "cell_type": "markdown",
   "metadata": {},
   "source": [
    "Goal: we want to approximate the dominant eigenfunctions of the transfer operator underlying some observed dynamics.\n",
    "\n",
    "To do this, we need to choose a good basis set. The variational principle of molecular kinetics lets us choose the optimal linear combinations of a given set of basis functions. In MSMs, these basis functions are indicator functions on a partitioning of the configuration space. In tICA, these basis functions are arbitrary input variables, usually internal coordinates like dihedral angles.\n",
    "\n",
    "Another approach to constructing a basis set is to measure RMSD or weighted RMSD to some reference structures. A major benefit of that approach is that the model should now be differentiable with respect to the parameters defining the basis functions-- the locations of the references, and their associated weights."
   ]
  },
  {
   "cell_type": "code",
   "execution_count": 1,
   "metadata": {
    "collapsed": true
   },
   "outputs": [],
   "source": [
    "import numpy as np\n",
    "import numpy.random as npr\n",
    "import matplotlib.pyplot as plt\n",
    "%matplotlib inline\n",
    "import mdtraj\n",
    "plt.rc('font', family='serif')"
   ]
  },
  {
   "cell_type": "code",
   "execution_count": 2,
   "metadata": {
    "collapsed": false
   },
   "outputs": [
    {
     "name": "stdout",
     "output_type": "stream",
     "text": [
      "loading trajectory_1.xtc...\n",
      "loading trajectory_10.xtc...\n",
      "loading trajectory_11.xtc...\n",
      "loading trajectory_12.xtc...\n",
      "loading trajectory_13.xtc...\n",
      "loading trajectory_14.xtc...\n",
      "loading trajectory_15.xtc...\n",
      "loading trajectory_16.xtc...\n",
      "loading trajectory_17.xtc...\n",
      "loading trajectory_18.xtc...\n",
      "loading trajectory_19.xtc...\n",
      "loading trajectory_2.xtc...\n",
      "loading trajectory_20.xtc...\n",
      "loading trajectory_21.xtc...\n",
      "loading trajectory_22.xtc...\n",
      "loading trajectory_23.xtc...\n",
      "loading trajectory_24.xtc...\n",
      "loading trajectory_25.xtc...\n",
      "loading trajectory_26.xtc...\n",
      "loading trajectory_27.xtc...\n",
      "loading trajectory_28.xtc...\n",
      "loading trajectory_3.xtc...\n",
      "loading trajectory_4.xtc...\n",
      "loading trajectory_5.xtc...\n",
      "loading trajectory_6.xtc...\n",
      "loading trajectory_7.xtc...\n",
      "loading trajectory_8.xtc...\n",
      "loading trajectory_9.xtc...\n"
     ]
    }
   ],
   "source": [
    "# fetch example data\n",
    "\n",
    "from msmbuilder.example_datasets import FsPeptide\n",
    "dataset = FsPeptide().get()\n",
    "fs_trajectories = dataset.trajectories\n",
    "fs_t = fs_trajectories[0]"
   ]
  },
  {
   "cell_type": "code",
   "execution_count": 5,
   "metadata": {
    "collapsed": true
   },
   "outputs": [],
   "source": [
    "# 1. internal coordinate basis sets\n",
    "\n",
    "from msmbuilder.featurizer import DihedralFeaturizer\n",
    "\n",
    "basis_sets = dict()\n",
    "\n",
    "dih_model=DihedralFeaturizer()\n",
    "X = dih_model.fit_transform(fs_trajectories)\n",
    "basis_sets['dihedral_phi_psi'] = X\n",
    "\n",
    "dih_model=DihedralFeaturizer(types=['phi', 'psi', 'omega', 'chi1', 'chi2', 'chi3', 'chi4'])\n",
    "X = dih_model.fit_transform(fs_trajectories)\n",
    "basis_sets['dihedral_all'] = X"
   ]
  },
  {
   "cell_type": "code",
   "execution_count": 73,
   "metadata": {
    "collapsed": false
   },
   "outputs": [
    {
     "name": "stdout",
     "output_type": "stream",
     "text": [
      "84\n"
     ]
    }
   ],
   "source": [
    "# 2. RMSD to reg-space refs\n",
    "references = [x[::4000] for x in fs_trajectories]\n",
    "refs = references[0]\n",
    "for ref in references[1:]:\n",
    "    refs = refs + ref\n",
    "\n",
    "\n",
    "# oh, this is already built into MSMBuilder\n",
    "#def compute_rmsds_to_refs(trajectories,refs):\n",
    "#    basis_exps = []\n",
    "#    for traj in trajectories:\n",
    "#        rmsd_to_refs = np.zeros((len(traj),len(refs)))\n",
    "#        for i in range(len(refs)):\n",
    "#            rmsd_to_refs[:,i] = mdtraj.rmsd(traj,refs,i)\n",
    "#        basis_exps.append(rmsd_to_refs)\n",
    "#    return basis_exps\n",
    "    \n",
    "#basis_sets['rmsd_reg'] = compute_rmsds_to_refs(fs_trajectories,refs)\n",
    "\n",
    "from msmbuilder.featurizer import RMSDFeaturizer\n",
    "rmsdf = RMSDFeaturizer(refs)\n",
    "basis_sets['rmsd_reg'] = rmsdf.fit_transform(fs_trajectories)\n",
    "\n",
    "print(len(refs))"
   ]
  },
  {
   "cell_type": "code",
   "execution_count": 52,
   "metadata": {
    "collapsed": false
   },
   "outputs": [
    {
     "data": {
      "text/plain": [
       "MiniBatchKMedoids(batch_size=200, max_iter=5, max_no_improvement=10,\n",
       "         metric='euclidean', n_clusters=50, random_state=None)"
      ]
     },
     "execution_count": 52,
     "metadata": {},
     "output_type": "execute_result"
    }
   ],
   "source": [
    "# 3. RMSD to cluster-center refs\n",
    "\n",
    "# pick cluster centers by k-medoids\n",
    "from msmbuilder.cluster import MiniBatchKMedoids\n",
    "kmed = MiniBatchKMedoids(50,batch_size=200)\n",
    "kmed.fit(X)"
   ]
  },
  {
   "cell_type": "code",
   "execution_count": 59,
   "metadata": {
    "collapsed": false
   },
   "outputs": [
    {
     "name": "stdout",
     "output_type": "stream",
     "text": [
      "50\n"
     ]
    }
   ],
   "source": [
    "# extract examplar configurations\n",
    "clever_refs = []\n",
    "for ind in kmed.cluster_ids_:\n",
    "    clever_refs.append(fs_trajectories[ind[0]][ind[1]])\n",
    "\n",
    "# convert list of length-1 mdtraj Trajectories to a single trajectory\n",
    "# -- currently doing this in the most inefficient way possible, but it's \n",
    "# a small list so it doesn't matter too much\n",
    "clever_ref = clever_refs[0]\n",
    "for i in range(1,len(clever_refs)):\n",
    "    clever_ref = clever_ref + clever_refs[i]\n",
    "clever_refs = clever_ref\n",
    "print(len(clever_refs))"
   ]
  },
  {
   "cell_type": "code",
   "execution_count": 61,
   "metadata": {
    "collapsed": true
   },
   "outputs": [],
   "source": [
    "basis_sets['rmsd_kmed'] = compute_rmsds_to_refs(fs_trajectories,clever_refs)"
   ]
  },
  {
   "cell_type": "code",
   "execution_count": 26,
   "metadata": {
    "collapsed": false
   },
   "outputs": [],
   "source": [
    "# 4. wRMSD to reg-space refs\n",
    "\n",
    "from MDAnalysis.analysis.rms import rmsd as wRMSD\n",
    "\n",
    "# compute weights from atomwise deviations\n",
    "atomwise_deviations = np.load('fs_atomwise_deviations_tau=20.npy')\n",
    "mean = atomwise_deviations.mean(0)\n",
    "weights = np.exp(-mean/0.065)"
   ]
  },
  {
   "cell_type": "code",
   "execution_count": 84,
   "metadata": {
    "collapsed": false
   },
   "outputs": [],
   "source": [
    "def compute_wrmsd_traj(trajectories,refs,weights):\n",
    "    ''' compute wRMSDs from trajectories to a list of references'''\n",
    "    \n",
    "    basis_exps = []\n",
    "    for traj in trajectories:\n",
    "        wrmsd_to_refs = np.zeros((len(traj),len(refs)))\n",
    "        for i in range(len(traj)):\n",
    "            for j in range(len(refs)):\n",
    "                wrmsd_to_refs[i,j] = wRMSD(refs.xyz[j],traj.xyz[i],weights=weights,center='True')\n",
    "        basis_exps.append(wrmsd_to_refs)\n",
    "    return basis_exps\n",
    "\n",
    "weighted_trajs = compute_wrmsd_traj(fs_trajectories,refs,weights)\n",
    "basis_sets['wrmsd_exp'] = weighted_trajs"
   ]
  },
  {
   "cell_type": "code",
   "execution_count": 77,
   "metadata": {
    "collapsed": true
   },
   "outputs": [],
   "source": [
    "np.save('wrmsd_exp.npy',weighted_trajs)\n",
    "#np.save('wrmsd_inv.npy',inv_mean_weighted_trajs)\n",
    "#np.save('wrmsd_mean.npy',mean_weighted_trajs)"
   ]
  },
  {
   "cell_type": "code",
   "execution_count": 85,
   "metadata": {
    "collapsed": false
   },
   "outputs": [],
   "source": [
    "from msmbuilder.decomposition import tICA\n",
    "\n",
    "def score(basis_set,m=10,lag_time=100):\n",
    "    tica = tICA(lag_time=lag_time)\n",
    "    tica.fit(basis_set)\n",
    "    return np.sum(tica.eigenvalues_[:m])"
   ]
  },
  {
   "cell_type": "code",
   "execution_count": 88,
   "metadata": {
    "collapsed": false
   },
   "outputs": [],
   "source": [
    "scores = dict()\n",
    "for name in basis_sets:\n",
    "    scores[name] = score(basis_sets[name],m=20,lag_time=100)"
   ]
  },
  {
   "cell_type": "code",
   "execution_count": 89,
   "metadata": {
    "collapsed": false
   },
   "outputs": [
    {
     "data": {
      "text/plain": [
       "[('dihedral_all', 17.84744612314757),\n",
       " ('rmsd', 13.109391916360241),\n",
       " ('dihedral_phi_psi', 17.706953927713055),\n",
       " ('rmsd_kmed', 9.0194490101577163),\n",
       " ('wrmsd_exp', 13.541230898294337),\n",
       " ('rmsd_reg', 13.109391916392024)]"
      ]
     },
     "execution_count": 89,
     "metadata": {},
     "output_type": "execute_result"
    }
   ],
   "source": [
    "scores.items()"
   ]
  },
  {
   "cell_type": "code",
   "execution_count": null,
   "metadata": {
    "collapsed": true
   },
   "outputs": [],
   "source": []
  }
 ],
 "metadata": {
  "kernelspec": {
   "display_name": "Python 2",
   "language": "python",
   "name": "python2"
  },
  "language_info": {
   "codemirror_mode": {
    "name": "ipython",
    "version": 2
   },
   "file_extension": ".py",
   "mimetype": "text/x-python",
   "name": "python",
   "nbconvert_exporter": "python",
   "pygments_lexer": "ipython2",
   "version": "2.7.10"
  }
 },
 "nbformat": 4,
 "nbformat_minor": 0
}
