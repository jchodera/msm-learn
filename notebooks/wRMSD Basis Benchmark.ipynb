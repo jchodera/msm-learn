{
 "cells": [
  {
   "cell_type": "markdown",
   "metadata": {},
   "source": [
    "Goal: we want to approximate the dominant eigenfunctions of the transfer operator underlying some observed dynamics.\n",
    "\n",
    "To do this, we need to choose a good basis set. The variational principle of molecular kinetics lets us choose the optimal linear combinations of a given set of basis functions. In MSMs, these basis functions are indicator functions on a partitioning of the configuration space. In tICA, these basis functions are arbitrary input variables, usually internal coordinates like dihedral angles.\n",
    "\n",
    "Another approach to constructing a basis set is to measure RMSD or weighted RMSD to some reference structures. A major benefit of that approach is that the model should now be differentiable with respect to the parameters defining the basis functions-- the locations of the references, and their associated weights and scale parameters."
   ]
  },
  {
   "cell_type": "code",
   "execution_count": 27,
   "metadata": {
    "collapsed": true
   },
   "outputs": [],
   "source": [
    "import numpy as np\n",
    "import numpy.random as npr\n",
    "import matplotlib.pyplot as plt\n",
    "%matplotlib inline\n",
    "import mdtraj\n",
    "plt.rc('font', family='serif')"
   ]
  },
  {
   "cell_type": "code",
   "execution_count": 28,
   "metadata": {
    "collapsed": false
   },
   "outputs": [
    {
     "name": "stdout",
     "output_type": "stream",
     "text": [
      "loading trajectory_1.xtc...\n",
      "loading trajectory_10.xtc...\n",
      "loading trajectory_11.xtc...\n",
      "loading trajectory_12.xtc...\n",
      "loading trajectory_13.xtc...\n",
      "loading trajectory_14.xtc...\n",
      "loading trajectory_15.xtc...\n",
      "loading trajectory_16.xtc...\n",
      "loading trajectory_17.xtc...\n",
      "loading trajectory_18.xtc...\n",
      "loading trajectory_19.xtc...\n",
      "loading trajectory_2.xtc...\n",
      "loading trajectory_20.xtc...\n",
      "loading trajectory_21.xtc...\n",
      "loading trajectory_22.xtc...\n",
      "loading trajectory_23.xtc...\n",
      "loading trajectory_24.xtc...\n",
      "loading trajectory_25.xtc...\n",
      "loading trajectory_26.xtc...\n",
      "loading trajectory_27.xtc...\n",
      "loading trajectory_28.xtc...\n",
      "loading trajectory_3.xtc...\n",
      "loading trajectory_4.xtc...\n",
      "loading trajectory_5.xtc...\n",
      "loading trajectory_6.xtc...\n",
      "loading trajectory_7.xtc...\n",
      "loading trajectory_8.xtc...\n",
      "loading trajectory_9.xtc...\n"
     ]
    }
   ],
   "source": [
    "# fetch example data\n",
    "\n",
    "from msmbuilder.example_datasets import FsPeptide\n",
    "dataset = FsPeptide().get()\n",
    "fs_trajectories = dataset.trajectories\n",
    "fs_t = fs_trajectories[0]"
   ]
  },
  {
   "cell_type": "code",
   "execution_count": 29,
   "metadata": {
    "collapsed": true
   },
   "outputs": [],
   "source": [
    "# 1. internal coordinate basis sets\n",
    "\n",
    "from msmbuilder.featurizer import DihedralFeaturizer\n",
    "\n",
    "basis_sets = dict()\n",
    "\n",
    "dih_model=DihedralFeaturizer()\n",
    "X = dih_model.fit_transform(fs_trajectories)\n",
    "basis_sets['dihedral_phi_psi'] = X\n",
    "\n",
    "dih_model=DihedralFeaturizer(types=['phi', 'psi', 'omega', 'chi1', 'chi2', 'chi3', 'chi4'])\n",
    "X = dih_model.fit_transform(fs_trajectories)\n",
    "basis_sets['dihedral_all'] = X"
   ]
  },
  {
   "cell_type": "code",
   "execution_count": 7,
   "metadata": {
    "collapsed": false
   },
   "outputs": [
    {
     "name": "stdout",
     "output_type": "stream",
     "text": [
      "84\n"
     ]
    }
   ],
   "source": [
    "# 2. RMSD to reg-space refs\n",
    "references = [x[::4000] for x in fs_trajectories]\n",
    "refs = references[0]\n",
    "for ref in references[1:]:\n",
    "    refs = refs + ref\n",
    "\n",
    "\n",
    "# oh, this is already built into MSMBuilder\n",
    "#def compute_rmsds_to_refs(trajectories,refs):\n",
    "#    basis_exps = []\n",
    "#    for traj in trajectories:\n",
    "#        rmsd_to_refs = np.zeros((len(traj),len(refs)))\n",
    "#        for i in range(len(refs)):\n",
    "#            rmsd_to_refs[:,i] = mdtraj.rmsd(traj,refs,i)\n",
    "#        basis_exps.append(rmsd_to_refs)\n",
    "#    return basis_exps\n",
    "    \n",
    "#basis_sets['rmsd_reg'] = compute_rmsds_to_refs(fs_trajectories,refs)\n",
    "\n",
    "from msmbuilder.featurizer import RMSDFeaturizer\n",
    "rmsdf = RMSDFeaturizer(refs)\n",
    "basis_sets['rmsd_reg'] = rmsdf.fit_transform(fs_trajectories)\n",
    "\n",
    "print(len(refs))"
   ]
  },
  {
   "cell_type": "code",
   "execution_count": 8,
   "metadata": {
    "collapsed": false
   },
   "outputs": [
    {
     "data": {
      "text/plain": [
       "MiniBatchKMedoids(batch_size=200, max_iter=5, max_no_improvement=10,\n",
       "         metric='euclidean', n_clusters=50, random_state=None)"
      ]
     },
     "execution_count": 8,
     "metadata": {},
     "output_type": "execute_result"
    }
   ],
   "source": [
    "# 3. RMSD to cluster-center refs\n",
    "\n",
    "# pick cluster centers by k-medoids\n",
    "from msmbuilder.cluster import MiniBatchKMedoids\n",
    "kmed = MiniBatchKMedoids(50,batch_size=200)\n",
    "kmed.fit(X)"
   ]
  },
  {
   "cell_type": "code",
   "execution_count": 9,
   "metadata": {
    "collapsed": false
   },
   "outputs": [
    {
     "name": "stdout",
     "output_type": "stream",
     "text": [
      "50\n"
     ]
    }
   ],
   "source": [
    "# extract examplar configurations\n",
    "clever_refs = []\n",
    "for ind in kmed.cluster_ids_:\n",
    "    clever_refs.append(fs_trajectories[ind[0]][ind[1]])\n",
    "\n",
    "# convert list of length-1 mdtraj Trajectories to a single trajectory\n",
    "# -- currently doing this in the most inefficient way possible, but it's \n",
    "# a tiny list so it doesn't matter\n",
    "clever_ref = clever_refs[0]\n",
    "for i in range(1,len(clever_refs)):\n",
    "    clever_ref = clever_ref + clever_refs[i]\n",
    "clever_refs = clever_ref\n",
    "print(len(clever_refs))"
   ]
  },
  {
   "cell_type": "code",
   "execution_count": 10,
   "metadata": {
    "collapsed": false
   },
   "outputs": [],
   "source": [
    "rmsdf = RMSDFeaturizer(clever_refs)\n",
    "basis_sets['rmsd_kmed'] = rmsdf.fit_transform(fs_trajectories)"
   ]
  },
  {
   "cell_type": "code",
   "execution_count": 11,
   "metadata": {
    "collapsed": true
   },
   "outputs": [],
   "source": [
    "rmsd_kmed_basis = np.array(basis_sets['rmsd_kmed'])"
   ]
  },
  {
   "cell_type": "code",
   "execution_count": 26,
   "metadata": {
    "collapsed": false
   },
   "outputs": [],
   "source": [
    "# 4. wRMSD to reg-space refs\n",
    "\n",
    "from MDAnalysis.analysis.rms import rmsd as wRMSD\n",
    "\n",
    "# compute weights from atomwise deviations\n",
    "atomwise_deviations = np.load('fs_atomwise_deviations_tau=20.npy')\n",
    "mean = atomwise_deviations.mean(0)\n",
    "weights = np.exp(-mean/0.065)"
   ]
  },
  {
   "cell_type": "code",
   "execution_count": 84,
   "metadata": {
    "collapsed": false
   },
   "outputs": [],
   "source": [
    "def compute_wrmsd_traj(trajectories,refs,weights):\n",
    "    ''' compute wRMSDs from trajectories to a list of references'''\n",
    "    \n",
    "    basis_exps = []\n",
    "    for traj in trajectories:\n",
    "        wrmsd_to_refs = np.zeros((len(traj),len(refs)))\n",
    "        for i in range(len(traj)):\n",
    "            for j in range(len(refs)):\n",
    "                wrmsd_to_refs[i,j] = wRMSD(refs.xyz[j],traj.xyz[i],weights=weights,center='True')\n",
    "        basis_exps.append(wrmsd_to_refs)\n",
    "    return basis_exps\n",
    "\n",
    "weighted_trajs = compute_wrmsd_traj(fs_trajectories,refs,weights)\n",
    "basis_sets['wrmsd_exp'] = weighted_trajs"
   ]
  },
  {
   "cell_type": "code",
   "execution_count": 77,
   "metadata": {
    "collapsed": true
   },
   "outputs": [],
   "source": [
    "#np.save('wrmsd_exp.npy',weighted_trajs)\n",
    "#np.save('wrmsd_inv.npy',inv_mean_weighted_trajs)\n",
    "#np.save('wrmsd_mean.npy',mean_weighted_trajs)"
   ]
  },
  {
   "cell_type": "code",
   "execution_count": 30,
   "metadata": {
    "collapsed": false
   },
   "outputs": [
    {
     "data": {
      "text/plain": [
       "(28, 10000, 84)"
      ]
     },
     "execution_count": 30,
     "metadata": {},
     "output_type": "execute_result"
    }
   ],
   "source": [
    "# loading from file\n",
    "weighted_trajs = np.load('wrmsd_exp.npy')\n",
    "weighted_trajs.shape # 28 trajectories, 10k frames / traj, 84 basis fxns"
   ]
  },
  {
   "cell_type": "code",
   "execution_count": 31,
   "metadata": {
    "collapsed": false
   },
   "outputs": [],
   "source": [
    "# grid search over alphas, assuming the same alpha for all \n",
    "\n",
    "alphas = np.logspace(-10,10,base=np.e)\n",
    "\n",
    "for i,alpha in enumerate(alphas):\n",
    "    basis_sets['wrmsd_gauss_{0}'.format(i)] = np.exp(-(weighted_trajs)**2 / (alpha*np.ones(84)))"
   ]
  },
  {
   "cell_type": "code",
   "execution_count": 43,
   "metadata": {
    "collapsed": false
   },
   "outputs": [],
   "source": [
    "rmsd_basis = np.array(basis_sets['rmsd_reg'])"
   ]
  },
  {
   "cell_type": "code",
   "execution_count": 44,
   "metadata": {
    "collapsed": true
   },
   "outputs": [],
   "source": [
    "for i,alpha in enumerate(alphas):\n",
    "    basis_sets['rmsd_gauss_{0}'.format(i)] = np.exp(-(rmsd_basis)**2 / (alpha*np.ones(84)))"
   ]
  },
  {
   "cell_type": "code",
   "execution_count": 14,
   "metadata": {
    "collapsed": false
   },
   "outputs": [],
   "source": [
    "for i,alpha in enumerate(alphas):\n",
    "    basis_sets['rmsd_kmed_gauss_{0}'.format(i)] = np.exp(-(rmsd_kmed_basis)**2 / (alpha*np.ones(50)))"
   ]
  },
  {
   "cell_type": "code",
   "execution_count": 24,
   "metadata": {
    "collapsed": false
   },
   "outputs": [
    {
     "data": {
      "text/plain": [
       "1.0"
      ]
     },
     "execution_count": 24,
     "metadata": {},
     "output_type": "execute_result"
    }
   ],
   "source": [
    "basis_sets['rmsd_kmed_gauss_18']"
   ]
  },
  {
   "cell_type": "code",
   "execution_count": 37,
   "metadata": {
    "collapsed": false
   },
   "outputs": [
    {
     "data": {
      "text/plain": [
       "0.070435264538866088"
      ]
     },
     "execution_count": 37,
     "metadata": {},
     "output_type": "execute_result"
    }
   ],
   "source": [
    "alphas[18]"
   ]
  },
  {
   "cell_type": "code",
   "execution_count": 66,
   "metadata": {
    "collapsed": false
   },
   "outputs": [
    {
     "ename": "ValueError",
     "evalue": "sequences must be a list of sequences",
     "output_type": "error",
     "traceback": [
      "\u001b[0;31m---------------------------------------------------------------------------\u001b[0m",
      "\u001b[0;31mValueError\u001b[0m                                Traceback (most recent call last)",
      "\u001b[0;32m<ipython-input-66-aae9ee40d38f>\u001b[0m in \u001b[0;36m<module>\u001b[0;34m()\u001b[0m\n\u001b[1;32m      1\u001b[0m \u001b[0;31m# 5. indicator functions\u001b[0m\u001b[0;34m\u001b[0m\u001b[0;34m\u001b[0m\u001b[0m\n\u001b[0;32m----> 2\u001b[0;31m \u001b[0mclusters\u001b[0m \u001b[0;34m=\u001b[0m \u001b[0mkmed\u001b[0m\u001b[0;34m.\u001b[0m\u001b[0mtransform\u001b[0m\u001b[0;34m(\u001b[0m\u001b[0mX\u001b[0m\u001b[0;34m)\u001b[0m\u001b[0;34m\u001b[0m\u001b[0m\n\u001b[0m\u001b[1;32m      3\u001b[0m \u001b[0;34m\u001b[0m\u001b[0m\n\u001b[1;32m      4\u001b[0m \u001b[0;32mfrom\u001b[0m \u001b[0msklearn\u001b[0m\u001b[0;34m.\u001b[0m\u001b[0mpreprocessing\u001b[0m \u001b[0;32mimport\u001b[0m \u001b[0mOneHotEncoder\u001b[0m\u001b[0;34m\u001b[0m\u001b[0m\n\u001b[1;32m      5\u001b[0m enc = OneHotEncoder(n_values=np.max(np.vstack(clusters))+1,\n",
      "\u001b[0;32m/Users/joshuafass/anaconda/envs/py27/lib/python2.7/site-packages/msmbuilder/cluster/base.pyc\u001b[0m in \u001b[0;36mtransform\u001b[0;34m(self, sequences)\u001b[0m\n\u001b[1;32m    163\u001b[0m     \u001b[0;32mdef\u001b[0m \u001b[0mtransform\u001b[0m\u001b[0;34m(\u001b[0m\u001b[0mself\u001b[0m\u001b[0;34m,\u001b[0m \u001b[0msequences\u001b[0m\u001b[0;34m)\u001b[0m\u001b[0;34m:\u001b[0m\u001b[0;34m\u001b[0m\u001b[0m\n\u001b[1;32m    164\u001b[0m         \u001b[0;34m\"\"\"Alias for predict\"\"\"\u001b[0m\u001b[0;34m\u001b[0m\u001b[0m\n\u001b[0;32m--> 165\u001b[0;31m         \u001b[0;32mreturn\u001b[0m \u001b[0mself\u001b[0m\u001b[0;34m.\u001b[0m\u001b[0mpredict\u001b[0m\u001b[0;34m(\u001b[0m\u001b[0msequences\u001b[0m\u001b[0;34m)\u001b[0m\u001b[0;34m\u001b[0m\u001b[0m\n\u001b[0m\u001b[1;32m    166\u001b[0m \u001b[0;34m\u001b[0m\u001b[0m\n\u001b[1;32m    167\u001b[0m     \u001b[0;32mdef\u001b[0m \u001b[0mpartial_transform\u001b[0m\u001b[0;34m(\u001b[0m\u001b[0mself\u001b[0m\u001b[0;34m,\u001b[0m \u001b[0mX\u001b[0m\u001b[0;34m)\u001b[0m\u001b[0;34m:\u001b[0m\u001b[0;34m\u001b[0m\u001b[0m\n",
      "\u001b[0;32m/Users/joshuafass/anaconda/envs/py27/lib/python2.7/site-packages/msmbuilder/cluster/base.pyc\u001b[0m in \u001b[0;36mpredict\u001b[0;34m(self, sequences, y)\u001b[0m\n\u001b[1;32m    109\u001b[0m         \"\"\"\n\u001b[1;32m    110\u001b[0m         \u001b[0mpredictions\u001b[0m \u001b[0;34m=\u001b[0m \u001b[0;34m[\u001b[0m\u001b[0;34m]\u001b[0m\u001b[0;34m\u001b[0m\u001b[0m\n\u001b[0;32m--> 111\u001b[0;31m         \u001b[0mcheck_iter_of_sequences\u001b[0m\u001b[0;34m(\u001b[0m\u001b[0msequences\u001b[0m\u001b[0;34m,\u001b[0m \u001b[0mallow_trajectory\u001b[0m\u001b[0;34m=\u001b[0m\u001b[0mself\u001b[0m\u001b[0;34m.\u001b[0m\u001b[0m_allow_trajectory\u001b[0m\u001b[0;34m)\u001b[0m\u001b[0;34m\u001b[0m\u001b[0m\n\u001b[0m\u001b[1;32m    112\u001b[0m         \u001b[0;32mfor\u001b[0m \u001b[0mX\u001b[0m \u001b[0;32min\u001b[0m \u001b[0msequences\u001b[0m\u001b[0;34m:\u001b[0m\u001b[0;34m\u001b[0m\u001b[0m\n\u001b[1;32m    113\u001b[0m             \u001b[0mpredictions\u001b[0m\u001b[0;34m.\u001b[0m\u001b[0mappend\u001b[0m\u001b[0;34m(\u001b[0m\u001b[0mself\u001b[0m\u001b[0;34m.\u001b[0m\u001b[0mpartial_predict\u001b[0m\u001b[0;34m(\u001b[0m\u001b[0mX\u001b[0m\u001b[0;34m)\u001b[0m\u001b[0;34m)\u001b[0m\u001b[0;34m\u001b[0m\u001b[0m\n",
      "\u001b[0;32m/Users/joshuafass/anaconda/envs/py27/lib/python2.7/site-packages/msmbuilder/utils/validation.pyc\u001b[0m in \u001b[0;36mcheck_iter_of_sequences\u001b[0;34m(sequences, allow_trajectory, ndim, max_iter)\u001b[0m\n\u001b[1;32m     53\u001b[0m \u001b[0;34m\u001b[0m\u001b[0m\n\u001b[1;32m     54\u001b[0m     \u001b[0;32mif\u001b[0m \u001b[0;32mnot\u001b[0m \u001b[0mvalue\u001b[0m\u001b[0;34m:\u001b[0m\u001b[0;34m\u001b[0m\u001b[0m\n\u001b[0;32m---> 55\u001b[0;31m         \u001b[0;32mraise\u001b[0m \u001b[0mValueError\u001b[0m\u001b[0;34m(\u001b[0m\u001b[0;34m'sequences must be a list of sequences'\u001b[0m\u001b[0;34m)\u001b[0m\u001b[0;34m\u001b[0m\u001b[0m\n\u001b[0m\u001b[1;32m     56\u001b[0m \u001b[0;34m\u001b[0m\u001b[0m\n\u001b[1;32m     57\u001b[0m \u001b[0;34m\u001b[0m\u001b[0m\n",
      "\u001b[0;31mValueError\u001b[0m: sequences must be a list of sequences"
     ]
    }
   ],
   "source": [
    "# 5. indicator functions\n",
    "clusters = kmed.transform(X)\n",
    "\n",
    "from sklearn.preprocessing import OneHotEncoder\n",
    "enc = OneHotEncoder(n_values=np.max(np.vstack(clusters))+1,\n",
    "                    sparse=False)\n",
    "cluster_enc = enc.fit_transform(clusters[0].reshape((len(clusters[0]),1)))"
   ]
  },
  {
   "cell_type": "code",
   "execution_count": 65,
   "metadata": {
    "collapsed": false
   },
   "outputs": [
    {
     "ename": "NameError",
     "evalue": "name 'cluster_enc' is not defined",
     "output_type": "error",
     "traceback": [
      "\u001b[0;31m---------------------------------------------------------------------------\u001b[0m",
      "\u001b[0;31mNameError\u001b[0m                                 Traceback (most recent call last)",
      "\u001b[0;32m<ipython-input-65-2093f2194988>\u001b[0m in \u001b[0;36m<module>\u001b[0;34m()\u001b[0m\n\u001b[0;32m----> 1\u001b[0;31m \u001b[0mcluster_enc\u001b[0m\u001b[0;34m\u001b[0m\u001b[0m\n\u001b[0m",
      "\u001b[0;31mNameError\u001b[0m: name 'cluster_enc' is not defined"
     ]
    }
   ],
   "source": [
    "cluster_enc"
   ]
  },
  {
   "cell_type": "code",
   "execution_count": 163,
   "metadata": {
    "collapsed": false
   },
   "outputs": [
    {
     "name": "stdout",
     "output_type": "stream",
     "text": [
      "MSM contains 1 strongly connected component above weight=1.00. Component 0 selected, with population 100.000000%\n"
     ]
    },
    {
     "data": {
      "text/plain": [
       "9.198693045227742"
      ]
     },
     "execution_count": 163,
     "metadata": {},
     "output_type": "execute_result"
    }
   ],
   "source": [
    "from msmbuilder.msm import MarkovStateModel\n",
    "msm = MarkovStateModel()\n",
    "msm.fit(clusters)\n",
    "msm.score_"
   ]
  },
  {
   "cell_type": "code",
   "execution_count": 165,
   "metadata": {
    "collapsed": false
   },
   "outputs": [
    {
     "data": {
      "text/plain": [
       "<matplotlib.image.AxesImage at 0x157161110>"
      ]
     },
     "execution_count": 165,
     "metadata": {},
     "output_type": "execute_result"
    },
    {
     "data": {
      "image/png": "[encoded data removed]",
      "text/plain": [
       "<matplotlib.figure.Figure at 0x17c131e50>"
      ]
     },
     "metadata": {},
     "output_type": "display_data"
    }
   ],
   "source": [
    "plt.imshow(msm.transmat_,interpolation='none')"
   ]
  },
  {
   "cell_type": "code",
   "execution_count": 15,
   "metadata": {
    "collapsed": false
   },
   "outputs": [],
   "source": [
    "from msmbuilder.decomposition import tICA\n",
    "\n",
    "def score_via_tica(basis_set,m=10,lag_time=100):\n",
    "    ''' Since the optimal matrix of expansion coefficients A is given by\n",
    "    concatenating the generalized eigenvectors of the overlap and time-lagged overlap\n",
    "    matrices, we can directly measure the quality of a candidate basis set for rank-m\n",
    "    transfer operator approximation by performing tICA, then summing the top m eigenvalues.\n",
    "    '''\n",
    "    tica = tICA(lag_time=lag_time)\n",
    "    tica.fit(basis_set)\n",
    "    return np.sum(tica.eigenvalues_[:m])\n",
    "\n",
    "def score_via_gmrq(basis_set,expansion_coeffs=None,m=10,lag_time=100):\n",
    "    \n",
    "    ### WARNING: this is buggy-- this *should* give the same answer as tICA\n",
    "    # if you pass it the same basis_set and don't specify expansion_coeffs\n",
    "    # but the answer's off by ~10% on examples.\n",
    "    # I'm also not handling singular matrices correctly I think.\n",
    "    tau = lag_time\n",
    "    \n",
    "    # compute the overlap and time-lagged overlap matrices\n",
    "    S = basis_set.T.dot(basis_set) / len(basis_set)\n",
    "    C = basis_set[tau:].T.dot(basis_set[:-tau]) / len(basis_set - tau)\n",
    "    \n",
    "    # expansion coefficients\n",
    "    if expansion_coeffs == None:\n",
    "        import scipy.linalg as la\n",
    "        eig_vals,eig_vecs = la.eig(C,S)\n",
    "\n",
    "        # discard imaginary component\n",
    "        eig_vals = np.array(eig_vals,dtype=float)\n",
    "        eig_vecs = np.array(eig_vecs,dtype=float)\n",
    "        \n",
    "        A = eig_vecs[:,:m]\n",
    "        #A = np.diag(np.ones(basis_set.shape[1]))\n",
    "    else:\n",
    "        A = expansion_coeffs\n",
    "    \n",
    "    # compute the GMRQ from these overlap matrices\n",
    "    P = A.T.dot(C).dot(A)\n",
    "    Q = A.T.dot(S).dot(A)\n",
    "    try:\n",
    "        Q_inv = np.linalg.inv(Q)\n",
    "    except:\n",
    "        # it could be singular\n",
    "        Q_inv = np.linalg.pinv(Q)\n",
    "    P_Q_inv = P.dot(Q_inv)\n",
    "    diag = np.sort(np.diag(P_Q_inv))[::-1]\n",
    "    partial_trace = diag[:m]\n",
    "    return P_Q_inv,np.sum(partial_trace)"
   ]
  },
  {
   "cell_type": "code",
   "execution_count": 16,
   "metadata": {
    "collapsed": false
   },
   "outputs": [],
   "source": [
    "score = score_via_tica"
   ]
  },
  {
   "cell_type": "code",
   "execution_count": 156,
   "metadata": {
    "collapsed": true
   },
   "outputs": [],
   "source": [
    "# actually, I might need to make a small modification to GMRQ to accept\n",
    "# direct eigenfunction approximations that "
   ]
  },
  {
   "cell_type": "code",
   "execution_count": 157,
   "metadata": {
    "collapsed": false
   },
   "outputs": [
    {
     "name": "stderr",
     "output_type": "stream",
     "text": [
      "/Users/joshuafass/anaconda/envs/py27/lib/python2.7/site-packages/IPython/kernel/__main__.py:25: ComplexWarning: Casting complex values to real discards the imaginary part\n",
      "/Users/joshuafass/anaconda/envs/py27/lib/python2.7/site-packages/IPython/kernel/__main__.py:26: ComplexWarning: Casting complex values to real discards the imaginary part\n"
     ]
    },
    {
     "data": {
      "text/plain": [
       "((10, 10), 5.4342322949377522)"
      ]
     },
     "execution_count": 157,
     "metadata": {},
     "output_type": "execute_result"
    }
   ],
   "source": [
    "P_Q_inv,gmrq = score_via_gmrq(weighted_trajs[0])\n",
    "P_Q_inv.shape,gmrq"
   ]
  },
  {
   "cell_type": "code",
   "execution_count": 159,
   "metadata": {
    "collapsed": false
   },
   "outputs": [
    {
     "data": {
      "text/plain": [
       "(5.4342322949377522, 6.0719085133573349)"
      ]
     },
     "execution_count": 159,
     "metadata": {},
     "output_type": "execute_result"
    }
   ],
   "source": [
    "# these should be equal: indicates a problem\n",
    "gmrq,score_via_tica([weighted_trajs[0]])"
   ]
  },
  {
   "cell_type": "code",
   "execution_count": 49,
   "metadata": {
    "collapsed": false
   },
   "outputs": [
    {
     "data": {
      "text/plain": [
       "(10000, 148)"
      ]
     },
     "execution_count": 49,
     "metadata": {},
     "output_type": "execute_result"
    }
   ],
   "source": [
    "X[0].shape"
   ]
  },
  {
   "cell_type": "code",
   "execution_count": null,
   "metadata": {
    "collapsed": true
   },
   "outputs": [],
   "source": [
    "scores = dict()"
   ]
  },
  {
   "cell_type": "code",
   "execution_count": null,
   "metadata": {
    "collapsed": true
   },
   "outputs": [],
   "source": [
    "clusters = kmed.fit_transform(basis_sets['"
   ]
  },
  {
   "cell_type": "code",
   "execution_count": 45,
   "metadata": {
    "collapsed": false
   },
   "outputs": [
    {
     "name": "stderr",
     "output_type": "stream",
     "text": [
      "/Users/joshuafass/anaconda/envs/py27/lib/python2.7/site-packages/IPython/kernel/__main__.py:9: RuntimeWarning: invalid value encountered in divide\n"
     ]
    }
   ],
   "source": [
    "m=20\n",
    "lag_time=100\n",
    "for name in basis_sets:\n",
    "    if name not in scores:\n",
    "        scores[name] = score(basis_sets[name],m=m,lag_time=lag_time)\n",
    "    name_ = name+'_renorm'\n",
    "    if name_ not in scores:\n",
    "        try:\n",
    "            renorm = [(traj.T / traj.T.sum(0)).T for traj in basis_sets[name]]\n",
    "            scores[name_] = score(renorm,m=m,lag_time=lag_time)\n",
    "        except:\n",
    "            pass"
   ]
  },
  {
   "cell_type": "code",
   "execution_count": 51,
   "metadata": {
    "collapsed": false
   },
   "outputs": [],
   "source": [
    "renorm = [(traj.T / traj.T.sum(0)).T for traj in basis_sets['wrmsd_gauss_16']]"
   ]
  },
  {
   "cell_type": "code",
   "execution_count": 55,
   "metadata": {
    "collapsed": false
   },
   "outputs": [],
   "source": [
    "from sklearn.decomposition import PCA\n",
    "pca = PCA()\n",
    "pca.fit(np.vstack(renorm))\n",
    "X = pca.transform(np.vstack(renorm))"
   ]
  },
  {
   "cell_type": "code",
   "execution_count": 56,
   "metadata": {
    "collapsed": false
   },
   "outputs": [
    {
     "data": {
      "text/plain": [
       "[<matplotlib.lines.Line2D at 0x15558c7d0>]"
      ]
     },
     "execution_count": 56,
     "metadata": {},
     "output_type": "execute_result"
    },
    {
     "data": {
      "image/png": "[encoded data removed]",
      "text/plain": [
       "<matplotlib.figure.Figure at 0x1305457d0>"
      ]
     },
     "metadata": {},
     "output_type": "display_data"
    },
    {
     "data": {
      "image/png": "[encoded data removed]",
      "text/plain": [
       "<matplotlib.figure.Figure at 0x130545950>"
      ]
     },
     "metadata": {},
     "output_type": "display_data"
    }
   ],
   "source": [
    "plt.plot(pca.explained_variance_ratio_)\n",
    "plt.figure()\n",
    "plt.plot(np.cumsum(pca.explained_variance_ratio_))"
   ]
  },
  {
   "cell_type": "code",
   "execution_count": 58,
   "metadata": {
    "collapsed": false
   },
   "outputs": [
    {
     "data": {
      "text/plain": [
       "<matplotlib.collections.PathCollection at 0x155598d90>"
      ]
     },
     "execution_count": 58,
     "metadata": {},
     "output_type": "execute_result"
    },
    {
     "data": {
      "image/png": "[encoded data removed]",
      "text/plain": [
       "<matplotlib.figure.Figure at 0x1558a1ad0>"
      ]
     },
     "metadata": {},
     "output_type": "display_data"
    }
   ],
   "source": [
    "plt.scatter(X[:,0],X[:,1],s=1,c=range(len(X)),linewidths=0)"
   ]
  },
  {
   "cell_type": "code",
   "execution_count": 64,
   "metadata": {
    "collapsed": false
   },
   "outputs": [
    {
     "data": {
      "image/png": "[encoded data removed]",
      "text/plain": [
       "<matplotlib.figure.Figure at 0x11767d8d0>"
      ]
     },
     "metadata": {},
     "output_type": "display_data"
    },
    {
     "data": {
      "image/png": "[encoded data removed]",
      "text/plain": [
       "<matplotlib.figure.Figure at 0x117397f10>"
      ]
     },
     "metadata": {},
     "output_type": "display_data"
    },
    {
     "data": {
      "image/png": "[encoded data removed]",
      "text/plain": [
       "<matplotlib.figure.Figure at 0x11b6539d0>"
      ]
     },
     "metadata": {},
     "output_type": "display_data"
    },
    {
     "data": {
      "image/png": "[encoded data removed]",
      "text/plain": [
       "<matplotlib.figure.Figure at 0x11b89f690>"
      ]
     },
     "metadata": {},
     "output_type": "display_data"
    },
    {
     "data": {
      "image/png": "[encoded data removed]",
      "text/plain": [
       "<matplotlib.figure.Figure at 0x11baf3b90>"
      ]
     },
     "metadata": {},
     "output_type": "display_data"
    },
    {
     "data": {
      "text/plain": [
       "<matplotlib.figure.Figure at 0x117698c90>"
      ]
     },
     "metadata": {},
     "output_type": "display_data"
    }
   ],
   "source": [
    "for i in range(5):\n",
    "    plt.bar(range(len(pca.components_[i])),pca.components_[i])\n",
    "    plt.title('Component {0}'.format(i+1))\n",
    "    plt.figure()"
   ]
  },
  {
   "cell_type": "code",
   "execution_count": 49,
   "metadata": {
    "collapsed": false,
    "scrolled": false
   },
   "outputs": [
    {
     "data": {
      "text/plain": [
       "[('wrmsd_gauss_16_renorm', 18.062333858127232),\n",
       " ('wrmsd_gauss_17_renorm', 17.997700176042137),\n",
       " ('wrmsd_gauss_15_renorm', 17.909486565837973),\n",
       " ('dihedral_all', 17.84744612314757),\n",
       " ('wrmsd_gauss_18_renorm', 17.729380885594093),\n",
       " ('dihedral_phi_psi', 17.706953927713055),\n",
       " ('dihedral_all_renorm', 17.68167196162312),\n",
       " ('wrmsd_gauss_14_renorm', 17.633260956280914),\n",
       " ('wrmsd_gauss_13_renorm', 17.323640306902469),\n",
       " ('wrmsd_gauss_19_renorm', 17.322480861438155),\n",
       " ('wrmsd_gauss_12_renorm', 17.042785744436927),\n",
       " ('wrmsd_gauss_11_renorm', 16.821384524698502),\n",
       " ('wrmsd_gauss_10_renorm', 16.650581701134538),\n",
       " ('wrmsd_gauss_20_renorm', 16.584601680306314),\n",
       " ('wrmsd_gauss_9_renorm', 16.525653920174253),\n",
       " ('wrmsd_gauss_8_renorm', 16.437955391319441),\n",
       " ('wrmsd_gauss_7_renorm', 16.377815524257706),\n",
       " ('wrmsd_gauss_6_renorm', 16.33718581151555),\n",
       " ('wrmsd_gauss_18', 15.867563082810944),\n",
       " ('wrmsd_gauss_17', 15.660209846734993),\n",
       " ('wrmsd_gauss_21_renorm', 15.604154464702992),\n",
       " ('wrmsd_gauss_19', 15.574365762409482),\n",
       " ('wrmsd_gauss_16', 14.954281225788989),\n",
       " ('wrmsd_gauss_20', 14.92095943065088),\n",
       " ('wrmsd_gauss_22_renorm', 14.807239921392091),\n",
       " ('wrmsd_gauss_23_renorm', 14.257874818289014),\n",
       " ('wrmsd_gauss_21', 14.24894879943651),\n",
       " ('wrmsd_gauss_24_renorm', 13.893775330341496),\n",
       " ('wrmsd_gauss_15', 13.857112461769063),\n",
       " ('wrmsd_gauss_22', 13.728515930356821),\n",
       " ('wrmsd_gauss_25_renorm', 13.661308501106587),\n",
       " ('wrmsd_gauss_26_renorm', 13.513534708906029),\n",
       " ('wrmsd_gauss_27_renorm', 13.420870569702911),\n",
       " ('wrmsd_gauss_23', 13.374535293414604),\n",
       " ('wrmsd_gauss_28_renorm', 13.362808404771453),\n",
       " ('wrmsd_gauss_29_renorm', 13.326037647590473),\n",
       " ('wrmsd_gauss_30_renorm', 13.302454933765162),\n",
       " ('wrmsd_gauss_31_renorm', 13.287169437493683),\n",
       " ('wrmsd_gauss_32_renorm', 13.277183349181637),\n",
       " ('wrmsd_gauss_33_renorm', 13.270622694318371),\n",
       " ('wrmsd_gauss_34_renorm', 13.266295712210772),\n",
       " ('wrmsd_gauss_35_renorm', 13.263434353246113),\n",
       " ('wrmsd_gauss_36_renorm', 13.261538789559015),\n",
       " ('wrmsd_gauss_37_renorm', 13.260281533910149),\n",
       " ('wrmsd_gauss_38_renorm', 13.259446924194508),\n",
       " ('wrmsd_gauss_39_renorm', 13.258892632635325),\n",
       " ('wrmsd_gauss_40_renorm', 13.258524340916489),\n",
       " ('wrmsd_gauss_41_renorm', 13.258279836690141),\n",
       " ('wrmsd_gauss_42_renorm', 13.258116925863625),\n",
       " ('wrmsd_gauss_49_renorm', 13.258044304914778),\n",
       " ('wrmsd_gauss_43_renorm', 13.258009521130333),\n",
       " ('wrmsd_gauss_44_renorm', 13.2579376443831),\n",
       " ('wrmsd_gauss_48_renorm', 13.257913885688525),\n",
       " ('wrmsd_gauss_45_renorm', 13.257886407860111),\n",
       " ('wrmsd_gauss_46_renorm', 13.257860744593804),\n",
       " ('wrmsd_gauss_47_renorm', 13.257782790913508),\n",
       " ('wrmsd_gauss_24', 13.152734462661316),\n",
       " ('rmsd_reg', 13.109391912745712),\n",
       " ('wrmsd_gauss_25', 13.025641509847539),\n",
       " ('wrmsd_gauss_26', 12.950856083238415),\n",
       " ('wrmsd_gauss_27', 12.905145867822972),\n",
       " ('wrmsd_gauss_28', 12.876489335025948),\n",
       " ('wrmsd_gauss_29', 12.858204818201562),\n",
       " ('wrmsd_gauss_30', 12.846390895034679),\n",
       " ('wrmsd_gauss_31', 12.838689353245645),\n",
       " ('wrmsd_gauss_32', 12.833637156407699),\n",
       " ('wrmsd_gauss_33', 12.830308516604498),\n",
       " ('wrmsd_gauss_34', 12.828108916891862),\n",
       " ('wrmsd_gauss_35', 12.826652464899468),\n",
       " ('wrmsd_gauss_36', 12.82568677144436),\n",
       " ('wrmsd_gauss_37', 12.825045893371374),\n",
       " ('wrmsd_gauss_38', 12.824620301135017),\n",
       " ('wrmsd_gauss_39', 12.824337599200243),\n",
       " ('wrmsd_gauss_49', 12.824152133171681),\n",
       " ('wrmsd_gauss_40', 12.824149612366677),\n",
       " ('wrmsd_gauss_41', 12.824024915895512),\n",
       " ('wrmsd_gauss_42', 12.823941602710157),\n",
       " ('wrmsd_gauss_43', 12.823887699412621),\n",
       " ('wrmsd_gauss_44', 12.823851154905379),\n",
       " ('wrmsd_gauss_46', 12.823828892626274),\n",
       " ('wrmsd_gauss_45', 12.82382556651438),\n",
       " ('wrmsd_gauss_47', 12.823797868369242),\n",
       " ('wrmsd_gauss_48', 12.823754088769627),\n",
       " ('wrmsd_gauss_14', 12.278041805120811),\n",
       " ('rmsd_kmed_gauss_20', 11.766182101721679),\n",
       " ('rmsd_kmed_gauss_19', 11.763925842245483),\n",
       " ('rmsd_kmed_gauss_21', 11.310456507748359),\n",
       " ('rmsd_kmed_gauss_18', 11.124187919015691),\n",
       " ('rmsd_kmed_gauss_22', 10.677559180391107),\n",
       " ('wrmsd_gauss_13', 10.31614949643561),\n",
       " ('rmsd_kmed_gauss_17', 10.168321818883744),\n",
       " ('rmsd_kmed_gauss_23', 10.084341220518228),\n",
       " ('rmsd_kmed', 9.7069288765287691),\n",
       " ('rmsd_kmed_gauss_24', 9.6287034212247811),\n",
       " ('rmsd_kmed_gauss_25', 9.3096387453821148),\n",
       " ('rmsd_kmed_gauss_26', 9.1039942642920675),\n",
       " ('rmsd_kmed_gauss_27', 8.9803873281141264),\n",
       " ('rmsd_kmed_gauss_28', 8.9086581604393604),\n",
       " ('rmsd_kmed_gauss_29', 8.8670747563154073),\n",
       " ('rmsd_kmed_gauss_30', 8.8422777231373502),\n",
       " ('rmsd_kmed_gauss_31', 8.8270179917235367),\n",
       " ('rmsd_kmed_gauss_32', 8.8174011924691982),\n",
       " ('rmsd_kmed_gauss_33', 8.8112375921454635),\n",
       " ('rmsd_kmed_gauss_34', 8.8072405274713255),\n",
       " ('rmsd_kmed_gauss_35', 8.8046273852663166),\n",
       " ('rmsd_kmed_gauss_36', 8.8029095393034726),\n",
       " ('rmsd_kmed_gauss_37', 8.8017760271432444),\n",
       " ('rmsd_kmed_gauss_38', 8.80102618959498),\n",
       " ('rmsd_kmed_gauss_39', 8.8005293648990559),\n",
       " ('rmsd_kmed_gauss_40', 8.800199641302342),\n",
       " ('rmsd_kmed_gauss_41', 8.799980994987127),\n",
       " ('rmsd_kmed_gauss_42', 8.7998361951471029),\n",
       " ('rmsd_kmed_gauss_43', 8.7997388681466902),\n",
       " ('rmsd_kmed_gauss_44', 8.7996772237062295),\n",
       " ('rmsd_kmed_gauss_49', 8.7996479445528646),\n",
       " ('rmsd_kmed_gauss_45', 8.7996338320182623),\n",
       " ('rmsd_kmed_gauss_46', 8.7996112556671164),\n",
       " ('rmsd_kmed_gauss_47', 8.7995553269988989),\n",
       " ('rmsd_kmed_gauss_48', 8.7995395499575455),\n",
       " ('rmsd_kmed_gauss_16', 8.7346803582728931),\n",
       " ('wrmsd_gauss_12', 7.8218681481739738),\n",
       " ('rmsd_kmed_gauss_15', 6.7175340377270398),\n",
       " ('wrmsd_gauss_11', 4.3741124852855071),\n",
       " ('rmsd_kmed_gauss_14', 4.1890911430937914),\n",
       " ('rmsd_kmed_gauss_13', 1.5125415570100416),\n",
       " ('wrmsd_gauss_10', 1.0419361784489982),\n",
       " ('dihedral_phi_psi_renorm', 0.33935787334512252),\n",
       " ('rmsd_kmed_gauss_12', 0.24358041259863061),\n",
       " ('wrmsd_gauss_9', 0.095996048647767132),\n",
       " ('rmsd_kmed_gauss_11', 0.014619214822630034),\n",
       " ('wrmsd_gauss_8', 0.0067606418863852538),\n",
       " ('rmsd_kmed_gauss_10', 0.00039482609085552479),\n",
       " ('wrmsd_gauss_7', 0.00027116580216172238),\n",
       " ('rmsd_kmed_gauss_9', 3.6755151613909405e-06),\n",
       " ('wrmsd_gauss_6', 2.9127550656960712e-06),\n",
       " ('rmsd_kmed_gauss_8', 4.7460374450653319e-09),\n",
       " ('wrmsd_gauss_5', 3.78485909476836e-09),\n",
       " ('rmsd_kmed_gauss_7', 2.7234247058407534e-13),\n",
       " ('wrmsd_gauss_4', 1.9452933860967706e-13),\n",
       " ('wrmsd_gauss_3', 3.6346798443139045e-19),\n",
       " ('wrmsd_gauss_0', 2.979145339711081e-19),\n",
       " ('wrmsd_gauss_2', 2.5185844069609163e-19),\n",
       " ('wrmsd_gauss_1', 2.4443786114457911e-19),\n",
       " ('rmsd_kmed_gauss_6', 2.2436602173880205e-19),\n",
       " ('rmsd_kmed_gauss_1', 1.8491730464170258e-19),\n",
       " ('rmsd_kmed_gauss_0', 1.8471382765058349e-19),\n",
       " ('rmsd_kmed_gauss_3', 1.4294492845370928e-19),\n",
       " ('rmsd_kmed_gauss_2', 1.3864094899579114e-19),\n",
       " ('rmsd_kmed_gauss_5', 1.1602319255626076e-19),\n",
       " ('rmsd_kmed_gauss_4', 1.0736275097248106e-19)]"
      ]
     },
     "execution_count": 49,
     "metadata": {},
     "output_type": "execute_result"
    }
   ],
   "source": [
    "sorted(scores.items(),key=lambda item:-item[1])"
   ]
  },
  {
   "cell_type": "code",
   "execution_count": 46,
   "metadata": {
    "collapsed": false
   },
   "outputs": [
    {
     "data": {
      "text/plain": [
       "[('dihedral_all', 17.84744612314757),\n",
       " ('dihedral_phi_psi', 17.706953927713055),\n",
       " ('rmsd_gauss_19', 16.115931213836159),\n",
       " ('wrmsd_gauss_18', 15.867563082810944),\n",
       " ('rmsd_gauss_20', 15.749269619316632),\n",
       " ('rmsd_gauss_18', 15.713492655475971),\n",
       " ('wrmsd_gauss_17', 15.660209846734993),\n",
       " ('wrmsd_gauss_19', 15.574365762409482),\n",
       " ('rmsd_gauss_21', 15.01726793822754),\n",
       " ('wrmsd_gauss_16', 14.954281225788989),\n",
       " ('wrmsd_gauss_20', 14.92095943065088),\n",
       " ('rmsd_gauss_17', 14.614756841721887),\n",
       " ('wrmsd_gauss_21', 14.24894879943651),\n",
       " ('rmsd_gauss_22', 14.244254350190033),\n",
       " ('wrmsd_gauss_15', 13.857112461769063),\n",
       " ('wrmsd_gauss_22', 13.728515930356821),\n",
       " ('rmsd_gauss_23', 13.586667712331593),\n",
       " ('wrmsd_gauss_23', 13.374535293414604),\n",
       " ('wrmsd_gauss_24', 13.152734462661316),\n",
       " ('rmsd_reg', 13.109391912745712),\n",
       " ('rmsd_gauss_24', 13.099652108436416),\n",
       " ('wrmsd_gauss_25', 13.025641509847539),\n",
       " ('wrmsd_gauss_26', 12.950856083238415),\n",
       " ('wrmsd_gauss_27', 12.905145867822972),\n",
       " ('wrmsd_gauss_28', 12.876489335025948),\n",
       " ('wrmsd_gauss_29', 12.858204818201562),\n",
       " ('wrmsd_gauss_30', 12.846390895034679),\n",
       " ('wrmsd_gauss_31', 12.838689353245645),\n",
       " ('wrmsd_gauss_32', 12.833637156407699),\n",
       " ('wrmsd_gauss_33', 12.830308516604498),\n",
       " ('wrmsd_gauss_34', 12.828108916891862),\n",
       " ('wrmsd_gauss_35', 12.826652464899468),\n",
       " ('wrmsd_gauss_36', 12.82568677144436),\n",
       " ('wrmsd_gauss_37', 12.825045893371374),\n",
       " ('wrmsd_gauss_38', 12.824620301135017),\n",
       " ('wrmsd_gauss_39', 12.824337599200243),\n",
       " ('wrmsd_gauss_49', 12.824152133171681),\n",
       " ('wrmsd_gauss_40', 12.824149612366677),\n",
       " ('wrmsd_gauss_41', 12.824024915895512),\n",
       " ('wrmsd_gauss_42', 12.823941602710157),\n",
       " ('wrmsd_gauss_43', 12.823887699412621),\n",
       " ('wrmsd_gauss_44', 12.823851154905379),\n",
       " ('wrmsd_gauss_46', 12.823828892626274),\n",
       " ('wrmsd_gauss_45', 12.82382556651438),\n",
       " ('wrmsd_gauss_47', 12.823797868369242),\n",
       " ('wrmsd_gauss_48', 12.823754088769627),\n",
       " ('rmsd_gauss_16', 12.798094379445544),\n",
       " ('rmsd_gauss_25', 12.792991333324334),\n",
       " ('rmsd_gauss_26', 12.619589240195745),\n",
       " ('rmsd_gauss_27', 12.520551994850512),\n",
       " ('rmsd_gauss_28', 12.46256078608423),\n",
       " ('rmsd_gauss_29', 12.427753681322686),\n",
       " ('rmsd_gauss_30', 12.406351392827816),\n",
       " ('rmsd_gauss_31', 12.392911581875216),\n",
       " ('rmsd_gauss_32', 12.384329930139463),\n",
       " ('rmsd_gauss_33', 12.378781887020025),\n",
       " ('rmsd_gauss_34', 12.375163101890941),\n",
       " ('rmsd_gauss_35', 12.372788058096763),\n",
       " ('rmsd_gauss_36', 12.371222670872186),\n",
       " ('rmsd_gauss_37', 12.370187955213696),\n",
       " ('rmsd_gauss_38', 12.369502684894375),\n",
       " ('rmsd_gauss_39', 12.369048258553502),\n",
       " ('rmsd_gauss_40', 12.368746658710853),\n",
       " ('rmsd_gauss_41', 12.368546356990471),\n",
       " ('rmsd_gauss_42', 12.36841323144016),\n",
       " ('rmsd_gauss_43', 12.368324305357833),\n",
       " ('rmsd_gauss_44', 12.368266925466413),\n",
       " ('rmsd_gauss_45', 12.36822692214793),\n",
       " ('rmsd_gauss_46', 12.36820651111838),\n",
       " ('rmsd_gauss_47', 12.368185007986288),\n",
       " ('rmsd_gauss_48', 12.368137549600101),\n",
       " ('rmsd_gauss_49', 12.368121596008969),\n",
       " ('wrmsd_gauss_14', 12.278041805120811),\n",
       " ('wrmsd_gauss_13', 10.31614949643561),\n",
       " ('rmsd_gauss_15', 10.036468110198459),\n",
       " ('wrmsd_gauss_12', 7.8218681481739738),\n",
       " ('rmsd_gauss_14', 6.3224299949963516),\n",
       " ('wrmsd_gauss_11', 4.3741124852855071),\n",
       " ('rmsd_gauss_13', 2.4977288632779393),\n",
       " ('wrmsd_gauss_10', 1.0419361784489982),\n",
       " ('rmsd_gauss_12', 0.44728470884490795),\n",
       " ('wrmsd_gauss_9', 0.095996048647767132),\n",
       " ('rmsd_gauss_11', 0.040813561538337088),\n",
       " ('wrmsd_gauss_8', 0.0067606418863852538),\n",
       " ('rmsd_gauss_10', 0.0027530865667021519),\n",
       " ('wrmsd_gauss_7', 0.00027116580216172238),\n",
       " ('rmsd_gauss_9', 9.0310393216398062e-05),\n",
       " ('wrmsd_gauss_6', 2.9127550656960712e-06),\n",
       " ('rmsd_gauss_8', 7.1299398156082122e-07),\n",
       " ('wrmsd_gauss_5', 3.78485909476836e-09),\n",
       " ('rmsd_gauss_7', 5.6003662758379472e-10),\n",
       " ('wrmsd_gauss_4', 1.9452933860967706e-13),\n",
       " ('rmsd_gauss_6', 1.2436808662963838e-14),\n",
       " ('wrmsd_gauss_3', 3.6346798443139045e-19),\n",
       " ('wrmsd_gauss_0', 2.979145339711081e-19),\n",
       " ('rmsd_gauss_2', 2.8034987088828231e-19),\n",
       " ('wrmsd_gauss_2', 2.5185844069609163e-19),\n",
       " ('rmsd_gauss_5', 2.469957136705523e-19),\n",
       " ('wrmsd_gauss_1', 2.4443786114457911e-19),\n",
       " ('rmsd_gauss_3', 2.3551028812407442e-19),\n",
       " ('rmsd_gauss_1', 2.3398837659623333e-19),\n",
       " ('rmsd_gauss_4', 2.1234496472649981e-19),\n",
       " ('rmsd_gauss_0', 1.7465133797865148e-19)]"
      ]
     },
     "execution_count": 46,
     "metadata": {},
     "output_type": "execute_result"
    }
   ],
   "source": [
    "sorted(scores.items(),key=lambda item:-item[1])"
   ]
  },
  {
   "cell_type": "code",
   "execution_count": 89,
   "metadata": {
    "collapsed": false
   },
   "outputs": [
    {
     "data": {
      "text/plain": [
       "[('dihedral_all', 17.84744612314757),\n",
       " ('rmsd', 13.109391916360241),\n",
       " ('dihedral_phi_psi', 17.706953927713055),\n",
       " ('rmsd_kmed', 9.0194490101577163),\n",
       " ('wrmsd_exp', 13.541230898294337),\n",
       " ('rmsd_reg', 13.109391916392024)]"
      ]
     },
     "execution_count": 89,
     "metadata": {},
     "output_type": "execute_result"
    }
   ],
   "source": [
    "# 'archive'\n",
    "scores.items()"
   ]
  },
  {
   "cell_type": "code",
   "execution_count": null,
   "metadata": {
    "collapsed": true
   },
   "outputs": [],
   "source": []
  },
  {
   "cell_type": "markdown",
   "metadata": {},
   "source": [
    "Other things to try:\n",
    "- Normalize the \"gaussian\" bases"
   ]
  }
 ],
 "metadata": {
  "kernelspec": {
   "display_name": "Python 2",
   "language": "python",
   "name": "python2"
  },
  "language_info": {
   "codemirror_mode": {
    "name": "ipython",
    "version": 2
   },
   "file_extension": ".py",
   "mimetype": "text/x-python",
   "name": "python",
   "nbconvert_exporter": "python",
   "pygments_lexer": "ipython2",
   "version": "2.7.10"
  }
 },
 "nbformat": 4,
 "nbformat_minor": 0
}
