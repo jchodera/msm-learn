{
 "cells": [
  {
   "cell_type": "markdown",
   "metadata": {},
   "source": [
    "Goal: we want to approximate the dominant eigenfunctions of the transfer operator underlying some observed dynamics.\n",
    "\n",
    "To do this, we need to choose a good basis set. The variational principle of molecular kinetics lets us choose the optimal linear combinations of a given set of basis functions. In MSMs, these basis functions are indicator functions on a partitioning of the configuration space. In tICA, these basis functions are arbitrary input variables, usually internal coordinates like dihedral angles.\n",
    "\n",
    "Another approach to constructing a basis set is to measure RMSD or weighted RMSD to some reference structures. A major benefit of that approach is that the model should now be differentiable with respect to the parameters defining the basis functions-- the locations of the references, and their associated weights and scale parameters."
   ]
  },
  {
   "cell_type": "code",
   "execution_count": 1,
   "metadata": {
    "collapsed": true
   },
   "outputs": [],
   "source": [
    "import numpy as np\n",
    "import numpy.random as npr\n",
    "import matplotlib.pyplot as plt\n",
    "%matplotlib inline\n",
    "import mdtraj\n",
    "plt.rc('font', family='serif')"
   ]
  },
  {
   "cell_type": "code",
   "execution_count": 2,
   "metadata": {
    "collapsed": false
   },
   "outputs": [
    {
     "name": "stdout",
     "output_type": "stream",
     "text": [
      "loading trajectory_1.xtc...\n",
      "loading trajectory_10.xtc...\n",
      "loading trajectory_11.xtc...\n",
      "loading trajectory_12.xtc...\n",
      "loading trajectory_13.xtc...\n",
      "loading trajectory_14.xtc...\n",
      "loading trajectory_15.xtc...\n",
      "loading trajectory_16.xtc...\n",
      "loading trajectory_17.xtc...\n",
      "loading trajectory_18.xtc...\n",
      "loading trajectory_19.xtc...\n",
      "loading trajectory_2.xtc...\n",
      "loading trajectory_20.xtc...\n",
      "loading trajectory_21.xtc...\n",
      "loading trajectory_22.xtc...\n",
      "loading trajectory_23.xtc...\n",
      "loading trajectory_24.xtc...\n",
      "loading trajectory_25.xtc...\n",
      "loading trajectory_26.xtc...\n",
      "loading trajectory_27.xtc...\n",
      "loading trajectory_28.xtc...\n",
      "loading trajectory_3.xtc...\n",
      "loading trajectory_4.xtc...\n",
      "loading trajectory_5.xtc...\n",
      "loading trajectory_6.xtc...\n",
      "loading trajectory_7.xtc...\n",
      "loading trajectory_8.xtc...\n",
      "loading trajectory_9.xtc...\n"
     ]
    }
   ],
   "source": [
    "# fetch example data\n",
    "\n",
    "from msmbuilder.example_datasets import FsPeptide\n",
    "dataset = FsPeptide().get()\n",
    "fs_trajectories = dataset.trajectories\n",
    "fs_t = fs_trajectories[0]"
   ]
  },
  {
   "cell_type": "code",
   "execution_count": 3,
   "metadata": {
    "collapsed": true
   },
   "outputs": [],
   "source": [
    "# 1. internal coordinate basis sets\n",
    "\n",
    "from msmbuilder.featurizer import DihedralFeaturizer\n",
    "\n",
    "basis_sets = dict()\n",
    "\n",
    "dih_model=DihedralFeaturizer()\n",
    "X = dih_model.fit_transform(fs_trajectories)\n",
    "basis_sets['dihedral_phi_psi'] = X\n",
    "\n",
    "dih_model=DihedralFeaturizer(types=['phi', 'psi', 'omega', 'chi1', 'chi2', 'chi3', 'chi4'])\n",
    "X = dih_model.fit_transform(fs_trajectories)\n",
    "basis_sets['dihedral_all'] = X"
   ]
  },
  {
   "cell_type": "code",
   "execution_count": 4,
   "metadata": {
    "collapsed": false
   },
   "outputs": [
    {
     "name": "stdout",
     "output_type": "stream",
     "text": [
      "84\n"
     ]
    }
   ],
   "source": [
    "# 2. RMSD to reg-space refs\n",
    "references = [x[::4000] for x in fs_trajectories]\n",
    "refs = references[0]\n",
    "for ref in references[1:]:\n",
    "    refs = refs + ref\n",
    "\n",
    "\n",
    "# oh, this is already built into MSMBuilder\n",
    "#def compute_rmsds_to_refs(trajectories,refs):\n",
    "#    basis_exps = []\n",
    "#    for traj in trajectories:\n",
    "#        rmsd_to_refs = np.zeros((len(traj),len(refs)))\n",
    "#        for i in range(len(refs)):\n",
    "#            rmsd_to_refs[:,i] = mdtraj.rmsd(traj,refs,i)\n",
    "#        basis_exps.append(rmsd_to_refs)\n",
    "#    return basis_exps\n",
    "    \n",
    "#basis_sets['rmsd_reg'] = compute_rmsds_to_refs(fs_trajectories,refs)\n",
    "\n",
    "from msmbuilder.featurizer import RMSDFeaturizer\n",
    "rmsdf = RMSDFeaturizer(refs)\n",
    "basis_sets['rmsd_reg'] = rmsdf.fit_transform(fs_trajectories)\n",
    "\n",
    "print(len(refs))"
   ]
  },
  {
   "cell_type": "code",
   "execution_count": 5,
   "metadata": {
    "collapsed": false
   },
   "outputs": [
    {
     "data": {
      "text/plain": [
       "MiniBatchKMedoids(batch_size=200, max_iter=5, max_no_improvement=10,\n",
       "         metric='euclidean', n_clusters=50, random_state=None)"
      ]
     },
     "execution_count": 5,
     "metadata": {},
     "output_type": "execute_result"
    }
   ],
   "source": [
    "# 3. RMSD to cluster-center refs\n",
    "\n",
    "# pick cluster centers by k-medoids\n",
    "from msmbuilder.cluster import MiniBatchKMedoids\n",
    "kmed = MiniBatchKMedoids(50,batch_size=200)\n",
    "kmed.fit(X)"
   ]
  },
  {
   "cell_type": "code",
   "execution_count": 59,
   "metadata": {
    "collapsed": false
   },
   "outputs": [
    {
     "name": "stdout",
     "output_type": "stream",
     "text": [
      "50\n"
     ]
    }
   ],
   "source": [
    "# extract examplar configurations\n",
    "clever_refs = []\n",
    "for ind in kmed.cluster_ids_:\n",
    "    clever_refs.append(fs_trajectories[ind[0]][ind[1]])\n",
    "\n",
    "# convert list of length-1 mdtraj Trajectories to a single trajectory\n",
    "# -- currently doing this in the most inefficient way possible, but it's \n",
    "# a tiny list so it doesn't matter\n",
    "clever_ref = clever_refs[0]\n",
    "for i in range(1,len(clever_refs)):\n",
    "    clever_ref = clever_ref + clever_refs[i]\n",
    "clever_refs = clever_ref\n",
    "print(len(clever_refs))"
   ]
  },
  {
   "cell_type": "code",
   "execution_count": 61,
   "metadata": {
    "collapsed": true
   },
   "outputs": [],
   "source": [
    "basis_sets['rmsd_kmed'] = compute_rmsds_to_refs(fs_trajectories,clever_refs)"
   ]
  },
  {
   "cell_type": "code",
   "execution_count": 26,
   "metadata": {
    "collapsed": false
   },
   "outputs": [],
   "source": [
    "# 4. wRMSD to reg-space refs\n",
    "\n",
    "from MDAnalysis.analysis.rms import rmsd as wRMSD\n",
    "\n",
    "# compute weights from atomwise deviations\n",
    "atomwise_deviations = np.load('fs_atomwise_deviations_tau=20.npy')\n",
    "mean = atomwise_deviations.mean(0)\n",
    "weights = np.exp(-mean/0.065)"
   ]
  },
  {
   "cell_type": "code",
   "execution_count": 84,
   "metadata": {
    "collapsed": false
   },
   "outputs": [],
   "source": [
    "def compute_wrmsd_traj(trajectories,refs,weights):\n",
    "    ''' compute wRMSDs from trajectories to a list of references'''\n",
    "    \n",
    "    basis_exps = []\n",
    "    for traj in trajectories:\n",
    "        wrmsd_to_refs = np.zeros((len(traj),len(refs)))\n",
    "        for i in range(len(traj)):\n",
    "            for j in range(len(refs)):\n",
    "                wrmsd_to_refs[i,j] = wRMSD(refs.xyz[j],traj.xyz[i],weights=weights,center='True')\n",
    "        basis_exps.append(wrmsd_to_refs)\n",
    "    return basis_exps\n",
    "\n",
    "weighted_trajs = compute_wrmsd_traj(fs_trajectories,refs,weights)\n",
    "basis_sets['wrmsd_exp'] = weighted_trajs"
   ]
  },
  {
   "cell_type": "code",
   "execution_count": 77,
   "metadata": {
    "collapsed": true
   },
   "outputs": [],
   "source": [
    "np.save('wrmsd_exp.npy',weighted_trajs)\n",
    "#np.save('wrmsd_inv.npy',inv_mean_weighted_trajs)\n",
    "#np.save('wrmsd_mean.npy',mean_weighted_trajs)"
   ]
  },
  {
   "cell_type": "code",
   "execution_count": 8,
   "metadata": {
    "collapsed": false
   },
   "outputs": [
    {
     "data": {
      "text/plain": [
       "(28, 10000, 84)"
      ]
     },
     "execution_count": 8,
     "metadata": {},
     "output_type": "execute_result"
    }
   ],
   "source": [
    "# loading from file\n",
    "weighted_trajs = np.load('wrmsd_exp.npy')\n",
    "weighted_trajs.shape # 28 trajectories, 10k frames / traj, 84 basis fxns"
   ]
  },
  {
   "cell_type": "code",
   "execution_count": 36,
   "metadata": {
    "collapsed": false
   },
   "outputs": [],
   "source": [
    "# grid search over alphas, assuming the same alpha for all \n",
    "\n",
    "alphas = np.logspace(-10,10,base=np.e)\n",
    "\n",
    "for i,alpha in enumerate(alphas):\n",
    "    basis_sets['wrmsd_gauss_{0}'.format(i)] = np.exp(-(weighted_trajs)**2 / (alpha*np.ones(84)))"
   ]
  },
  {
   "cell_type": "code",
   "execution_count": 43,
   "metadata": {
    "collapsed": false
   },
   "outputs": [],
   "source": [
    "rmsd_basis = np.array(basis_sets['rmsd_reg'])"
   ]
  },
  {
   "cell_type": "code",
   "execution_count": 44,
   "metadata": {
    "collapsed": true
   },
   "outputs": [],
   "source": [
    "for i,alpha in enumerate(alphas):\n",
    "    basis_sets['rmsd_gauss_{0}'.format(i)] = np.exp(-(rmsd_basis)**2 / (alpha*np.ones(84)))"
   ]
  },
  {
   "cell_type": "code",
   "execution_count": 37,
   "metadata": {
    "collapsed": false
   },
   "outputs": [
    {
     "data": {
      "text/plain": [
       "0.070435264538866088"
      ]
     },
     "execution_count": 37,
     "metadata": {},
     "output_type": "execute_result"
    }
   ],
   "source": [
    "alphas[18]"
   ]
  },
  {
   "cell_type": "code",
   "execution_count": 161,
   "metadata": {
    "collapsed": false
   },
   "outputs": [],
   "source": [
    "# 5. indicator functions\n",
    "clusters = kmed.transform(X)\n",
    "\n",
    "from sklearn.preprocessing import OneHotEncoder\n",
    "enc = OneHotEncoder(n_values=np.max(np.vstack(clusters))+1,\n",
    "                    sparse=False)\n",
    "cluster_enc = enc.fit_transform(clusters[0].reshape((len(clusters[0]),1)))"
   ]
  },
  {
   "cell_type": "code",
   "execution_count": 163,
   "metadata": {
    "collapsed": false
   },
   "outputs": [
    {
     "name": "stdout",
     "output_type": "stream",
     "text": [
      "MSM contains 1 strongly connected component above weight=1.00. Component 0 selected, with population 100.000000%\n"
     ]
    },
    {
     "data": {
      "text/plain": [
       "9.198693045227742"
      ]
     },
     "execution_count": 163,
     "metadata": {},
     "output_type": "execute_result"
    }
   ],
   "source": [
    "from msmbuilder.msm import MarkovStateModel\n",
    "msm = MarkovStateModel()\n",
    "msm.fit(clusters)\n",
    "msm.score_"
   ]
  },
  {
   "cell_type": "code",
   "execution_count": 165,
   "metadata": {
    "collapsed": false
   },
   "outputs": [
    {
     "data": {
      "text/plain": [
       "<matplotlib.image.AxesImage at 0x157161110>"
      ]
     },
     "execution_count": 165,
     "metadata": {},
     "output_type": "execute_result"
    },
    {
     "data": {
      "image/png": "[encoded data removed]",
      "text/plain": [
       "<matplotlib.figure.Figure at 0x17c131e50>"
      ]
     },
     "metadata": {},
     "output_type": "display_data"
    }
   ],
   "source": [
    "plt.imshow(msm.transmat_,interpolation='none')"
   ]
  },
  {
   "cell_type": "code",
   "execution_count": 26,
   "metadata": {
    "collapsed": false
   },
   "outputs": [],
   "source": [
    "from msmbuilder.decomposition import tICA\n",
    "\n",
    "def score_via_tica(basis_set,m=10,lag_time=100):\n",
    "    ''' Since the optimal matrix of expansion coefficients A is given by\n",
    "    concatenating the generalized eigenvectors of the overlap and time-lagged overlap\n",
    "    matrices, we can directly measure the quality of a candidate basis set for rank-m\n",
    "    transfer operator approximation by performing tICA, then summing the top m eigenvalues.\n",
    "    '''\n",
    "    tica = tICA(lag_time=lag_time)\n",
    "    tica.fit(basis_set)\n",
    "    return np.sum(tica.eigenvalues_[:m])\n",
    "\n",
    "def score_via_gmrq(basis_set,expansion_coeffs=None,m=10,lag_time=100):\n",
    "    \n",
    "    ### WARNING: this is buggy-- this *should* give the same answer as tICA\n",
    "    # if you pass it the same basis_set and don't specify expansion_coeffs\n",
    "    # but the answer's off by ~10% on examples.\n",
    "    # I'm also not handling singular matrices correctly I think.\n",
    "    tau = lag_time\n",
    "    \n",
    "    # compute the overlap and time-lagged overlap matrices\n",
    "    S = basis_set.T.dot(basis_set) / len(basis_set)\n",
    "    C = basis_set[tau:].T.dot(basis_set[:-tau]) / len(basis_set - tau)\n",
    "    \n",
    "    # expansion coefficients\n",
    "    if expansion_coeffs == None:\n",
    "        import scipy.linalg as la\n",
    "        eig_vals,eig_vecs = la.eig(C,S)\n",
    "\n",
    "        # discard imaginary component\n",
    "        eig_vals = np.array(eig_vals,dtype=float)\n",
    "        eig_vecs = np.array(eig_vecs,dtype=float)\n",
    "        \n",
    "        A = eig_vecs[:,:m]\n",
    "        #A = np.diag(np.ones(basis_set.shape[1]))\n",
    "    else:\n",
    "        A = expansion_coeffs\n",
    "    \n",
    "    # compute the GMRQ from these overlap matrices\n",
    "    P = A.T.dot(C).dot(A)\n",
    "    Q = A.T.dot(S).dot(A)\n",
    "    try:\n",
    "        Q_inv = np.linalg.inv(Q)\n",
    "    except:\n",
    "        # it could be singular\n",
    "        Q_inv = np.linalg.pinv(Q)\n",
    "    P_Q_inv = P.dot(Q_inv)\n",
    "    diag = np.sort(np.diag(P_Q_inv))[::-1]\n",
    "    partial_trace = diag[:m]\n",
    "    return P_Q_inv,np.sum(partial_trace)"
   ]
  },
  {
   "cell_type": "code",
   "execution_count": 27,
   "metadata": {
    "collapsed": false
   },
   "outputs": [],
   "source": [
    "score = score_via_tica"
   ]
  },
  {
   "cell_type": "code",
   "execution_count": 156,
   "metadata": {
    "collapsed": true
   },
   "outputs": [],
   "source": [
    "# actually, I might need to make a small modification to GMRQ to accept\n",
    "# direct eigenfunction approximations that "
   ]
  },
  {
   "cell_type": "code",
   "execution_count": 157,
   "metadata": {
    "collapsed": false
   },
   "outputs": [
    {
     "name": "stderr",
     "output_type": "stream",
     "text": [
      "/Users/joshuafass/anaconda/envs/py27/lib/python2.7/site-packages/IPython/kernel/__main__.py:25: ComplexWarning: Casting complex values to real discards the imaginary part\n",
      "/Users/joshuafass/anaconda/envs/py27/lib/python2.7/site-packages/IPython/kernel/__main__.py:26: ComplexWarning: Casting complex values to real discards the imaginary part\n"
     ]
    },
    {
     "data": {
      "text/plain": [
       "((10, 10), 5.4342322949377522)"
      ]
     },
     "execution_count": 157,
     "metadata": {},
     "output_type": "execute_result"
    }
   ],
   "source": [
    "P_Q_inv,gmrq = score_via_gmrq(weighted_trajs[0])\n",
    "P_Q_inv.shape,gmrq"
   ]
  },
  {
   "cell_type": "code",
   "execution_count": 159,
   "metadata": {
    "collapsed": false
   },
   "outputs": [
    {
     "data": {
      "text/plain": [
       "(5.4342322949377522, 6.0719085133573349)"
      ]
     },
     "execution_count": 159,
     "metadata": {},
     "output_type": "execute_result"
    }
   ],
   "source": [
    "# these should be equal: indicates a problem\n",
    "gmrq,score_via_tica([weighted_trajs[0]])"
   ]
  },
  {
   "cell_type": "code",
   "execution_count": null,
   "metadata": {
    "collapsed": true
   },
   "outputs": [],
   "source": []
  },
  {
   "cell_type": "code",
   "execution_count": 45,
   "metadata": {
    "collapsed": false
   },
   "outputs": [],
   "source": [
    "scores = dict()\n",
    "for name in basis_sets:\n",
    "    scores[name] = score(basis_sets[name],m=20,lag_time=100)"
   ]
  },
  {
   "cell_type": "code",
   "execution_count": 46,
   "metadata": {
    "collapsed": false
   },
   "outputs": [
    {
     "data": {
      "text/plain": [
       "[('dihedral_all', 17.84744612314757),\n",
       " ('dihedral_phi_psi', 17.706953927713055),\n",
       " ('rmsd_gauss_19', 16.115931213836159),\n",
       " ('wrmsd_gauss_18', 15.867563082810944),\n",
       " ('rmsd_gauss_20', 15.749269619316632),\n",
       " ('rmsd_gauss_18', 15.713492655475971),\n",
       " ('wrmsd_gauss_17', 15.660209846734993),\n",
       " ('wrmsd_gauss_19', 15.574365762409482),\n",
       " ('rmsd_gauss_21', 15.01726793822754),\n",
       " ('wrmsd_gauss_16', 14.954281225788989),\n",
       " ('wrmsd_gauss_20', 14.92095943065088),\n",
       " ('rmsd_gauss_17', 14.614756841721887),\n",
       " ('wrmsd_gauss_21', 14.24894879943651),\n",
       " ('rmsd_gauss_22', 14.244254350190033),\n",
       " ('wrmsd_gauss_15', 13.857112461769063),\n",
       " ('wrmsd_gauss_22', 13.728515930356821),\n",
       " ('rmsd_gauss_23', 13.586667712331593),\n",
       " ('wrmsd_gauss_23', 13.374535293414604),\n",
       " ('wrmsd_gauss_24', 13.152734462661316),\n",
       " ('rmsd_reg', 13.109391912745712),\n",
       " ('rmsd_gauss_24', 13.099652108436416),\n",
       " ('wrmsd_gauss_25', 13.025641509847539),\n",
       " ('wrmsd_gauss_26', 12.950856083238415),\n",
       " ('wrmsd_gauss_27', 12.905145867822972),\n",
       " ('wrmsd_gauss_28', 12.876489335025948),\n",
       " ('wrmsd_gauss_29', 12.858204818201562),\n",
       " ('wrmsd_gauss_30', 12.846390895034679),\n",
       " ('wrmsd_gauss_31', 12.838689353245645),\n",
       " ('wrmsd_gauss_32', 12.833637156407699),\n",
       " ('wrmsd_gauss_33', 12.830308516604498),\n",
       " ('wrmsd_gauss_34', 12.828108916891862),\n",
       " ('wrmsd_gauss_35', 12.826652464899468),\n",
       " ('wrmsd_gauss_36', 12.82568677144436),\n",
       " ('wrmsd_gauss_37', 12.825045893371374),\n",
       " ('wrmsd_gauss_38', 12.824620301135017),\n",
       " ('wrmsd_gauss_39', 12.824337599200243),\n",
       " ('wrmsd_gauss_49', 12.824152133171681),\n",
       " ('wrmsd_gauss_40', 12.824149612366677),\n",
       " ('wrmsd_gauss_41', 12.824024915895512),\n",
       " ('wrmsd_gauss_42', 12.823941602710157),\n",
       " ('wrmsd_gauss_43', 12.823887699412621),\n",
       " ('wrmsd_gauss_44', 12.823851154905379),\n",
       " ('wrmsd_gauss_46', 12.823828892626274),\n",
       " ('wrmsd_gauss_45', 12.82382556651438),\n",
       " ('wrmsd_gauss_47', 12.823797868369242),\n",
       " ('wrmsd_gauss_48', 12.823754088769627),\n",
       " ('rmsd_gauss_16', 12.798094379445544),\n",
       " ('rmsd_gauss_25', 12.792991333324334),\n",
       " ('rmsd_gauss_26', 12.619589240195745),\n",
       " ('rmsd_gauss_27', 12.520551994850512),\n",
       " ('rmsd_gauss_28', 12.46256078608423),\n",
       " ('rmsd_gauss_29', 12.427753681322686),\n",
       " ('rmsd_gauss_30', 12.406351392827816),\n",
       " ('rmsd_gauss_31', 12.392911581875216),\n",
       " ('rmsd_gauss_32', 12.384329930139463),\n",
       " ('rmsd_gauss_33', 12.378781887020025),\n",
       " ('rmsd_gauss_34', 12.375163101890941),\n",
       " ('rmsd_gauss_35', 12.372788058096763),\n",
       " ('rmsd_gauss_36', 12.371222670872186),\n",
       " ('rmsd_gauss_37', 12.370187955213696),\n",
       " ('rmsd_gauss_38', 12.369502684894375),\n",
       " ('rmsd_gauss_39', 12.369048258553502),\n",
       " ('rmsd_gauss_40', 12.368746658710853),\n",
       " ('rmsd_gauss_41', 12.368546356990471),\n",
       " ('rmsd_gauss_42', 12.36841323144016),\n",
       " ('rmsd_gauss_43', 12.368324305357833),\n",
       " ('rmsd_gauss_44', 12.368266925466413),\n",
       " ('rmsd_gauss_45', 12.36822692214793),\n",
       " ('rmsd_gauss_46', 12.36820651111838),\n",
       " ('rmsd_gauss_47', 12.368185007986288),\n",
       " ('rmsd_gauss_48', 12.368137549600101),\n",
       " ('rmsd_gauss_49', 12.368121596008969),\n",
       " ('wrmsd_gauss_14', 12.278041805120811),\n",
       " ('wrmsd_gauss_13', 10.31614949643561),\n",
       " ('rmsd_gauss_15', 10.036468110198459),\n",
       " ('wrmsd_gauss_12', 7.8218681481739738),\n",
       " ('rmsd_gauss_14', 6.3224299949963516),\n",
       " ('wrmsd_gauss_11', 4.3741124852855071),\n",
       " ('rmsd_gauss_13', 2.4977288632779393),\n",
       " ('wrmsd_gauss_10', 1.0419361784489982),\n",
       " ('rmsd_gauss_12', 0.44728470884490795),\n",
       " ('wrmsd_gauss_9', 0.095996048647767132),\n",
       " ('rmsd_gauss_11', 0.040813561538337088),\n",
       " ('wrmsd_gauss_8', 0.0067606418863852538),\n",
       " ('rmsd_gauss_10', 0.0027530865667021519),\n",
       " ('wrmsd_gauss_7', 0.00027116580216172238),\n",
       " ('rmsd_gauss_9', 9.0310393216398062e-05),\n",
       " ('wrmsd_gauss_6', 2.9127550656960712e-06),\n",
       " ('rmsd_gauss_8', 7.1299398156082122e-07),\n",
       " ('wrmsd_gauss_5', 3.78485909476836e-09),\n",
       " ('rmsd_gauss_7', 5.6003662758379472e-10),\n",
       " ('wrmsd_gauss_4', 1.9452933860967706e-13),\n",
       " ('rmsd_gauss_6', 1.2436808662963838e-14),\n",
       " ('wrmsd_gauss_3', 3.6346798443139045e-19),\n",
       " ('wrmsd_gauss_0', 2.979145339711081e-19),\n",
       " ('rmsd_gauss_2', 2.8034987088828231e-19),\n",
       " ('wrmsd_gauss_2', 2.5185844069609163e-19),\n",
       " ('rmsd_gauss_5', 2.469957136705523e-19),\n",
       " ('wrmsd_gauss_1', 2.4443786114457911e-19),\n",
       " ('rmsd_gauss_3', 2.3551028812407442e-19),\n",
       " ('rmsd_gauss_1', 2.3398837659623333e-19),\n",
       " ('rmsd_gauss_4', 2.1234496472649981e-19),\n",
       " ('rmsd_gauss_0', 1.7465133797865148e-19)]"
      ]
     },
     "execution_count": 46,
     "metadata": {},
     "output_type": "execute_result"
    }
   ],
   "source": [
    "sorted(scores.items(),key=lambda item:-item[1])"
   ]
  },
  {
   "cell_type": "code",
   "execution_count": 89,
   "metadata": {
    "collapsed": false
   },
   "outputs": [
    {
     "data": {
      "text/plain": [
       "[('dihedral_all', 17.84744612314757),\n",
       " ('rmsd', 13.109391916360241),\n",
       " ('dihedral_phi_psi', 17.706953927713055),\n",
       " ('rmsd_kmed', 9.0194490101577163),\n",
       " ('wrmsd_exp', 13.541230898294337),\n",
       " ('rmsd_reg', 13.109391916392024)]"
      ]
     },
     "execution_count": 89,
     "metadata": {},
     "output_type": "execute_result"
    }
   ],
   "source": [
    "# 'archive'\n",
    "scores.items()"
   ]
  }
 ],
 "metadata": {
  "kernelspec": {
   "display_name": "Python 2",
   "language": "python",
   "name": "python2"
  },
  "language_info": {
   "codemirror_mode": {
    "name": "ipython",
    "version": 2
   },
   "file_extension": ".py",
   "mimetype": "text/x-python",
   "name": "python",
   "nbconvert_exporter": "python",
   "pygments_lexer": "ipython2",
   "version": "2.7.10"
  }
 },
 "nbformat": 4,
 "nbformat_minor": 0
}
