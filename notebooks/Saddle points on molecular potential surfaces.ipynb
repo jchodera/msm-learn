{
 "metadata": {
  "name": ""
 },
 "nbformat": 3,
 "nbformat_minor": 0,
 "worksheets": [
  {
   "cells": [
    {
     "cell_type": "code",
     "collapsed": false,
     "input": [
      "from simtk.openmm.app import *\n",
      "from simtk.openmm import *\n",
      "from simtk.unit import *\n",
      "from sys import stdout\n",
      "pdb = PDBFile('input.pdb')\n",
      "forcefield = ForceField('amber99sb.xml', 'tip3p.xml')\n",
      "system = forcefield.createSystem(pdb.topology, nonbondedMethod=PME,\n",
      "nonbondedCutoff=1*nanometer, constraints=HBonds)\n",
      "integrator = LangevinIntegrator(300*kelvin, 1/picosecond,\n",
      "0.002*picoseconds)\n",
      "simulation = Simulation(pdb.topology, system, integrator)\n",
      "simulation.context.setPositions(pdb.positions)"
     ],
     "language": "python",
     "metadata": {},
     "outputs": [],
     "prompt_number": 1
    },
    {
     "cell_type": "code",
     "collapsed": false,
     "input": [
      "class ForceReporter(object):\n",
      "    def __init__(self, file, reportInterval):\n",
      "        self._out = open(file, 'w')\n",
      "        self._reportInterval = reportInterval\n",
      "    def __del__(self):\n",
      "        self._out.close()\n",
      "    \n",
      "    def describeNextReport(self, simulation):\n",
      "        steps = self._reportInterval - simulation.currentStep%self._reportInterval\n",
      "        return (steps, False, False, True, False)\n",
      "        \n",
      "    def report(self, simulation, state):\n",
      "        forces = state.getForces().value_in_unit(kilojoules/mole/nanometer)\n",
      "        for f in forces:\n",
      "            print >>self._out, f[0], f[1], f[2]"
     ],
     "language": "python",
     "metadata": {},
     "outputs": [],
     "prompt_number": 6
    },
    {
     "cell_type": "code",
     "collapsed": false,
     "input": [],
     "language": "python",
     "metadata": {},
     "outputs": []
    },
    {
     "cell_type": "code",
     "collapsed": false,
     "input": [
      "simulation.minimizeEnergy()"
     ],
     "language": "python",
     "metadata": {},
     "outputs": [],
     "prompt_number": "*"
    },
    {
     "cell_type": "code",
     "collapsed": false,
     "input": [],
     "language": "python",
     "metadata": {},
     "outputs": []
    },
    {
     "cell_type": "code",
     "collapsed": false,
     "input": [
      "simulation.minimizeEnergy()\n",
      "simulation.reporters.append(PDBReporter('output.pdb', 1000))\n",
      "simulation.reporters.append(StateDataReporter(stdout, 1000, step=True,\n",
      "potentialEnergy=True, temperature=True))\n",
      "simulation.step(10000)"
     ],
     "language": "python",
     "metadata": {},
     "outputs": []
    }
   ],
   "metadata": {}
  }
 ]
}