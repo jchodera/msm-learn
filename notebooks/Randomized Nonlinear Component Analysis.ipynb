{
 "metadata": {
  "name": "",
  "signature": "sha256:4f7f196596036cba22cb8066546083eff544d68c2bbf55b31a7524200563a566"
 },
 "nbformat": 3,
 "nbformat_minor": 0,
 "worksheets": [
  {
   "cells": [
    {
     "cell_type": "markdown",
     "metadata": {},
     "source": [
      "tICA notes:\n",
      "- Goal: find projections that decorrelate slowly, i.e. Given a markov chain in phase space $\\{ \\vec{x}_t \\in \\Omega\\}$ find a vector $\\vec{v} \\in \\Omega$ such that the autocorrelation of $\\vec{x}_t$ projected onto $\\vec{v}$ is maximized\n",
      "- Formally\n",
      "\n",
      "$$ \\max_{\\vec{v}} \\frac{\\mathbb{E}[(\\vec{v} \\cdot \\delta \\vec{x}_t) (\\vec{v} \\cdot \\delta \\vec{x}_{t+\\tau})]}{\\mathbb{E}[(\\vec{v} \\cdot \\delta \\vec{x}_t)^2} $$\n",
      "\n",
      "Also equivalent to the generalized eigenvalue problem:\n",
      "$$ C^{(\\tau)} \\vec{v} = \\lambda \\Sigma \\vec{v}$$"
     ]
    },
    {
     "cell_type": "code",
     "collapsed": false,
     "input": [
      "import numpy as np\n",
      "import numpy.random as npr\n",
      "import pylab as pl\n",
      "from sklearn.decomposition import PCA\n",
      "from sklearn.cross_decomposition import CCA\n",
      "from scipy import linalg"
     ],
     "language": "python",
     "metadata": {},
     "outputs": [],
     "prompt_number": 6
    },
    {
     "cell_type": "code",
     "collapsed": false,
     "input": [
      "def time_lag_corr_cov(X,tau=1):\n",
      "    mu = (X[:-tau].mean(0) + X[tau:].mean(0)) / 2\n",
      "    X_ = X-mu\n",
      "    M = len(X) - tau\n",
      "    dim = len(X.T)\n",
      "    corr = np.zeros((dim,dim))\n",
      "    cov = np.zeros((dim,dim))\n",
      "    for i in range(M):\n",
      "        corr += np.outer(X_[i],X_[i+tau]) + np.outer(X_[i+tau],X_[i])\n",
      "        cov += np.outer(X_[i],X_[i]) + np.outer(X_[i+tau],X_[i+tau])\n",
      "    return corr / (2.0*M),cov / (2.0*M)"
     ],
     "language": "python",
     "metadata": {},
     "outputs": [],
     "prompt_number": 7
    },
    {
     "cell_type": "code",
     "collapsed": false,
     "input": [
      "def time_lagged_K(kernel_matrix,tau=1):\n",
      "    # to-do: accept either a kernel function or a precomputed kernel matrix\n",
      "    # for now, just accept a precomputed kernel matrix\n",
      "    M = len(kernel_matrix) - tau\n",
      "    K = np.zeros((2*M,2*M))\n",
      "    #for i in range(M):\n",
      "        #for j in range(M):\n",
      "            #K[i,j] = kernel(X[i],X[j])\n",
      "            #K[i,j+M] = kernel(X[i],X[j+tau])\n",
      "            #K[i+M,j] = kernel(X[i+tau],X[j])\n",
      "            #K[i+M,j+M] = kernel(X[i+tau],X[j+tau])\n",
      "    K[:M,:M] = kernel_matrix[:M,:M]\n",
      "    K[:M,M:] = kernel_matrix[:M,tau:]\n",
      "    K[M:,:M] = kernel_matrix[tau:,:M]\n",
      "    K[M:,M:] = kernel_matrix[tau:,tau:]\n",
      "    return K"
     ],
     "language": "python",
     "metadata": {},
     "outputs": [],
     "prompt_number": 8
    },
    {
     "cell_type": "code",
     "collapsed": false,
     "input": [
      "def kpca(kernel_matrix,n_components=2,c=None):\n",
      "    M=len(kernel_matrix)-1\n",
      "    evals,evecs=linalg.eigh(kernel_matrix,eigvals=(M-n_components,M))\n",
      "    order = sorted(range(len(evals)),key=lambda i:-evals[i])\n",
      "    alphas = evecs[:,order]\n",
      "    lambdas = evals[order]\n",
      "    pl.plot(range(1,len(lambdas)+1),lambdas)\n",
      "    \n",
      "    \n",
      "    sqrt_lambdas = np.diag(np.sqrt(lambdas))\n",
      "    if c==None:\n",
      "        c=range(M+1)\n",
      "    \n",
      "    projection = alphas.dot(sqrt_lambdas)\n",
      "    pl.figure()\n",
      "    pl.scatter(projection[:,1],projection[:,2],c=c[:M+1],linewidths=0,alpha=0.5)\n",
      "    pl.figure()\n",
      "    pl.scatter(projection[:,2],projection[:,3],c=c[:M+1],linewidths=0,alpha=0.5)\n",
      "    pl.figure()\n",
      "    pl.scatter(projection[:,1],projection[:,3],c=c[:M+1],linewidths=0,alpha=0.5)\n",
      "    \n",
      "    return lambdas,alphas"
     ],
     "language": "python",
     "metadata": {},
     "outputs": [],
     "prompt_number": 9
    },
    {
     "cell_type": "code",
     "collapsed": false,
     "input": [],
     "language": "python",
     "metadata": {},
     "outputs": []
    },
    {
     "cell_type": "code",
     "collapsed": false,
     "input": [
      "pl.show()"
     ],
     "language": "python",
     "metadata": {},
     "outputs": []
    }
   ],
   "metadata": {}
  }
 ]
}