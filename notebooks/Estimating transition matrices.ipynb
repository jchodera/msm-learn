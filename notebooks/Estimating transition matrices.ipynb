{
 "metadata": {
  "name": "",
  "signature": "sha256:52a0d3309348e3bed631ebbf366d60f7817dd5c7c860b6606e1117a76c423a1c"
 },
 "nbformat": 3,
 "nbformat_minor": 0,
 "worksheets": [
  {
   "cells": [
    {
     "cell_type": "code",
     "collapsed": false,
     "input": [
      "import numpy as np\n",
      "import numpy.random as npr\n",
      "import pylab as pl\n",
      "from scipy import stats\n",
      "import cython\n",
      "\n",
      "%load_ext cython\n",
      "%matplotlib inline"
     ],
     "language": "python",
     "metadata": {},
     "outputs": [],
     "prompt_number": 1
    },
    {
     "cell_type": "code",
     "collapsed": false,
     "input": [
      "# Walker alias method implementation\n",
      "# adapted from https://hips.seas.harvard.edu/blog/2013/03/03/the-alias-method-efficient-sampling-with-many-discrete-outcomes/\n",
      "\n",
      "def alias_setup(probs):\n",
      "    K       = len(probs)\n",
      "    q       = np.zeros(K)\n",
      "    J       = np.zeros(K, dtype=np.int)\n",
      " \n",
      "    # Sort the data into the outcomes with probabilities\n",
      "    # that are larger and smaller than 1/K.\n",
      "    smaller = []\n",
      "    larger  = []\n",
      "    for kk, prob in enumerate(probs):\n",
      "        q[kk] = K*prob\n",
      "        if q[kk] < 1.0:\n",
      "            smaller.append(kk)\n",
      "        else:\n",
      "            larger.append(kk)\n",
      " \n",
      "    # Loop though and create little binary mixtures that\n",
      "    # appropriately allocate the larger outcomes over the\n",
      "    # overall uniform mixture.\n",
      "    while len(smaller) > 0 and len(larger) > 0:\n",
      "        small = smaller.pop()\n",
      "        large = larger.pop()\n",
      " \n",
      "        J[small] = large\n",
      "        q[large] = q[large] - (1.0 - q[small])\n",
      " \n",
      "        if q[large] < 1.0:\n",
      "            smaller.append(large)\n",
      "        else:\n",
      "            larger.append(large)\n",
      " \n",
      "    return (J, q)"
     ],
     "language": "python",
     "metadata": {},
     "outputs": [],
     "prompt_number": 2
    },
    {
     "cell_type": "code",
     "collapsed": false,
     "input": [
      "%%cython\n",
      "def c_alias_draw(J, q, K, rand1, rand2):\n",
      " \n",
      "    # Draw from the overall uniform mixture.\n",
      "    kk = int(rand1*K)\n",
      " \n",
      "    # Draw from the binary mixture, either keeping the\n",
      "    # small one, or choosing the associated larger one.\n",
      "    if rand2 < q[kk]:\n",
      "        return kk\n",
      "    else:\n",
      "        return J[kk]"
     ],
     "language": "python",
     "metadata": {},
     "outputs": [],
     "prompt_number": 28
    },
    {
     "cell_type": "code",
     "collapsed": false,
     "input": [
      "class Alias():\n",
      "    def __init__(self,probs):\n",
      "        self.probs = probs\n",
      "        self.J,self.q = alias_setup(probs)\n",
      "        self.K = len(probs)\n",
      "        self.rvs = stats.\n",
      "    \n",
      "    def draw(self):\n",
      "        return c_alias_draw(self.J,self.q,self.K,rand1=npr.rand(),rand2=npr.rand())\n",
      "    \n",
      "    def __repr__(self):\n",
      "        return \"Alias(\" + str(self.probs / sum(self.probs)) + \")\""
     ],
     "language": "python",
     "metadata": {},
     "outputs": [],
     "prompt_number": 29
    },
    {
     "cell_type": "code",
     "collapsed": false,
     "input": [
      "class MSM():\n",
      "    def __init__(self,T=None,size=None):\n",
      "        if type(T) == type(None):\n",
      "            T = self.gen_stoch_matrix(size)\n",
      "        else:\n",
      "            assert(T.shape[0] == T.shape[1])\n",
      "        self.T = T\n",
      "        self.sampler = np.empty(len(T),dtype=object)\n",
      "        for i in range(len(T)):\n",
      "            self.sampler[i] = Alias(T[i])\n",
      "    \n",
      "    def draw(self,num_samples=1000):\n",
      "        samples = np.zeros(num_samples,dtype=int)\n",
      "        samples[0] = npr.randint(len(self.T))\n",
      "        for i in range(1,num_samples):\n",
      "            samples[i] = self.sampler[samples[i-1]].draw()\n",
      "        return samples\n",
      "    \n",
      "    def gen_stoch_matrix(self,size=5,num_iter=20):\n",
      "        \" Generates a random doubly-stochastic matrix \"\n",
      "        T = npr.rand(size,size)\n",
      "        for i in range(len(T)):\n",
      "                T[i] /= sum(T[i])\n",
      "        \n",
      "        #for _ in range(num_iter):\n",
      "        #    for i in range(len(T)):\n",
      "        #        T[i] /= sum(T[i])\n",
      "        #    for i in range(len(T)):\n",
      "        #        T[:,i] /= sum(T[:,i])\n",
      "        return T\n",
      "    \n",
      "    def gen_double_stoch_matrix(self,size=5,num_iter=20):\n",
      "        \" Generates a random doubly-stochastic matrix \"\n",
      "        T = npr.rand(size,size)\n",
      "        \n",
      "        for _ in range(num_iter):\n",
      "            for i in range(len(T)):\n",
      "                T[i] /= sum(T[i])\n",
      "            for i in range(len(T)):\n",
      "                T[:,i] /= sum(T[:,i])\n",
      "        return T\n",
      "    \n",
      "    def compute_stationary_prob(self):\n",
      "        \" CURRENTLY BROKEN \"\n",
      "        return -np.linalg.eigh(self.T)[1][-1]\n",
      "    \n",
      "    def __repr__(self):\n",
      "        return str(len(self.T)) + \"-state MSM\""
     ],
     "language": "python",
     "metadata": {},
     "outputs": [],
     "prompt_number": 94
    },
    {
     "cell_type": "code",
     "collapsed": false,
     "input": [
      "size = 50\n",
      "m=MSM(size=size)\n",
      "m"
     ],
     "language": "python",
     "metadata": {},
     "outputs": [
      {
       "metadata": {},
       "output_type": "pyout",
       "prompt_number": 33,
       "text": [
        "50-state MSM"
       ]
      }
     ],
     "prompt_number": 33
    },
    {
     "cell_type": "code",
     "collapsed": false,
     "input": [
      "samples = m.draw(num_samples=10000)\n",
      "pl.hist(samples,bins=size,normed=True);"
     ],
     "language": "python",
     "metadata": {},
     "outputs": [
      {
       "metadata": {},
       "output_type": "display_data",
       "png": "[encoded data removed]",
       "text": [
        "<matplotlib.figure.Figure at 0x1109627d0>"
       ]
      }
     ],
     "prompt_number": 34
    },
    {
     "cell_type": "code",
     "collapsed": false,
     "input": [
      "n = 50\n",
      "pl.scatter(range(n),samples[-n:]+npr.rand(n)*0.2-0.1,alpha=0.5)\n",
      "pl.plot(samples[-n:],alpha=0.1)\n",
      "pl.xlabel('Time')\n",
      "pl.ylabel('State')"
     ],
     "language": "python",
     "metadata": {},
     "outputs": [
      {
       "metadata": {},
       "output_type": "pyout",
       "prompt_number": 8,
       "text": [
        "<matplotlib.text.Text at 0x10fdac750>"
       ]
      },
      {
       "metadata": {},
       "output_type": "display_data",
       "png": "[encoded data removed]",
       "text": [
        "<matplotlib.figure.Figure at 0x10fd30f10>"
       ]
      }
     ],
     "prompt_number": 8
    },
    {
     "cell_type": "code",
     "collapsed": false,
     "input": [
      "m.T"
     ],
     "language": "python",
     "metadata": {},
     "outputs": [
      {
       "metadata": {},
       "output_type": "pyout",
       "prompt_number": 165,
       "text": [
        "array([[ 0.06579527,  0.22500948,  0.22847765,  0.29126046,  0.18945715],\n",
        "       [ 0.29213069,  0.11412216,  0.08825712,  0.26801864,  0.23747139],\n",
        "       [ 0.28028382,  0.13166307,  0.26402081,  0.18071704,  0.14331526],\n",
        "       [ 0.29635928,  0.04007357,  0.18683545,  0.28003945,  0.19669226],\n",
        "       [ 0.1712578 ,  0.29857132,  0.16530479,  0.13383697,  0.23102912]])"
       ]
      }
     ],
     "prompt_number": 165
    },
    {
     "cell_type": "code",
     "collapsed": false,
     "input": [
      "m.T"
     ],
     "language": "python",
     "metadata": {},
     "outputs": [
      {
       "metadata": {},
       "output_type": "pyout",
       "prompt_number": 156,
       "text": [
        "array([[  6.09300173e-01,   5.35064121e-02,   9.55452149e-01,\n",
        "          6.38156531e-02,   5.85711541e-01,   4.79035379e-01,\n",
        "          3.06468447e-01,   5.09662441e-01,   3.43994847e-01,\n",
        "          9.31313678e-01],\n",
        "       [  4.76607149e-01,   7.46623433e-01,   9.31175289e-01,\n",
        "          7.00204506e-01,   1.35893979e-01,   2.86944487e-01,\n",
        "          3.67215252e-01,   1.50956516e-02,   4.01244776e-01,\n",
        "          2.19200758e-01],\n",
        "       [  3.24859460e-01,   4.46195639e-01,   5.50952779e-01,\n",
        "          2.09950648e-01,   1.63638529e-01,   7.35155867e-01,\n",
        "          6.99929483e-02,   2.74283423e-01,   2.65954141e-01,\n",
        "          4.65480248e-01],\n",
        "       [  6.08174526e-01,   1.43992115e-01,   3.72393190e-02,\n",
        "          4.06659691e-01,   5.48883361e-01,   2.49035102e-01,\n",
        "          1.28722393e-01,   4.60222721e-02,   7.98983179e-01,\n",
        "          9.08080782e-01],\n",
        "       [  7.82716209e-01,   8.80577670e-01,   2.21033417e-01,\n",
        "          8.74032110e-01,   3.99887346e-01,   3.87627388e-01,\n",
        "          5.45637474e-01,   9.86262223e-01,   4.50504652e-01,\n",
        "          3.90136105e-01],\n",
        "       [  6.84061683e-01,   7.63385129e-01,   6.18015848e-01,\n",
        "          9.22745669e-01,   3.33173653e-01,   2.06099962e-01,\n",
        "          2.29477667e-01,   9.25350949e-01,   8.92460851e-01,\n",
        "          6.66084401e-01],\n",
        "       [  2.40989238e-01,   5.29908945e-01,   9.04216309e-04,\n",
        "          4.76114132e-02,   5.83659089e-01,   6.22385295e-01,\n",
        "          2.32674959e-01,   8.03563193e-01,   9.15353596e-01,\n",
        "          1.04670646e-01],\n",
        "       [  9.16895930e-01,   6.51769088e-01,   7.20133460e-01,\n",
        "          3.05244130e-01,   4.12600271e-01,   2.21839400e-01,\n",
        "          8.71524465e-01,   6.71450706e-01,   3.22481610e-01,\n",
        "          8.74070350e-01],\n",
        "       [  1.29515769e-01,   3.86158564e-01,   2.48030791e-01,\n",
        "          2.31366679e-01,   8.78695544e-01,   2.79007731e-01,\n",
        "          1.75996447e-01,   5.30830477e-01,   8.77455458e-01,\n",
        "          2.31082600e-01],\n",
        "       [  4.34739045e-01,   8.86596860e-02,   6.32646576e-01,\n",
        "          3.43277425e-01,   5.26509546e-01,   4.57769106e-02,\n",
        "          8.76394438e-02,   7.30869286e-01,   1.17684384e-01,\n",
        "          6.21311107e-01]])"
       ]
      }
     ],
     "prompt_number": 156
    },
    {
     "cell_type": "code",
     "collapsed": false,
     "input": [
      "m.sampler"
     ],
     "language": "python",
     "metadata": {},
     "outputs": [
      {
       "metadata": {},
       "output_type": "pyout",
       "prompt_number": 133,
       "text": [
        "array([Alias([ 0.34878554  0.27896958  0.02964633  0.23807262  0.10452593]),\n",
        "       Alias([ 0.14397713  0.29403461  0.33644248  0.07236608  0.15317971]),\n",
        "       Alias([ 0.13049957  0.11436246  0.21722283  0.23618502  0.30173013]),\n",
        "       Alias([ 0.18720485  0.03952384  0.29867679  0.26674322  0.20785131]),\n",
        "       Alias([ 0.18953291  0.27310951  0.11801158  0.18663306  0.23271293])], dtype=object)"
       ]
      }
     ],
     "prompt_number": 133
    },
    {
     "cell_type": "code",
     "collapsed": false,
     "input": [
      "np.linalg.eigh(m.T)#[1][-1]"
     ],
     "language": "python",
     "metadata": {},
     "outputs": [
      {
       "metadata": {},
       "output_type": "pyout",
       "prompt_number": 134,
       "text": [
        "(array([-0.11136979,  0.01597526,  0.1770128 ,  0.32912822,  0.94875263]),\n",
        " array([[-0.04203304,  0.18551268,  0.85618901, -0.02053496, -0.47993433],\n",
        "        [ 0.4042168 ,  0.39508642, -0.30665904, -0.65190594, -0.40186364],\n",
        "        [-0.51358777,  0.51291144, -0.35844475,  0.41623375, -0.4140245 ],\n",
        "        [ 0.60665791, -0.31341516, -0.14986687,  0.54328776, -0.46488218],\n",
        "        [-0.45059492, -0.66946587, -0.14818196, -0.32586015, -0.46972005]]))"
       ]
      }
     ],
     "prompt_number": 134
    },
    {
     "cell_type": "code",
     "collapsed": false,
     "input": [
      "#for i in range(len(m.T)):\n",
      "#    pl.figure()\n",
      "pl.bar(range(len(m.T)),np.linalg.eigh(m.T.T)[1][-1])"
     ],
     "language": "python",
     "metadata": {},
     "outputs": [
      {
       "metadata": {},
       "output_type": "pyout",
       "prompt_number": 16,
       "text": [
        "<Container object of 5 artists>"
       ]
      },
      {
       "metadata": {},
       "output_type": "display_data",
       "png": "[encoded data removed]",
       "text": [
        "<matplotlib.figure.Figure at 0x1106b26d0>"
       ]
      }
     ],
     "prompt_number": 16
    },
    {
     "cell_type": "code",
     "collapsed": false,
     "input": [
      "np.linalg.eigh(m.T.T)[1][-1]"
     ],
     "language": "python",
     "metadata": {},
     "outputs": [
      {
       "metadata": {},
       "output_type": "pyout",
       "prompt_number": 19,
       "text": [
        "array([ 0.70116926,  0.41597399, -0.26345487, -0.22990918, -0.46158488])"
       ]
      }
     ],
     "prompt_number": 19
    },
    {
     "cell_type": "code",
     "collapsed": false,
     "input": [
      "pl.bar(range(len(m.T)),m.compute_stationary_prob())"
     ],
     "language": "python",
     "metadata": {},
     "outputs": [
      {
       "metadata": {},
       "output_type": "pyout",
       "prompt_number": 136,
       "text": [
        "<Container object of 5 artists>"
       ]
      },
      {
       "metadata": {},
       "output_type": "display_data",
       "png": "[encoded data removed]",
       "text": [
        "<matplotlib.figure.Figure at 0x10fed5610>"
       ]
      }
     ],
     "prompt_number": 136
    },
    {
     "cell_type": "code",
     "collapsed": false,
     "input": [
      "samples = m.draw(num_samples=10000)\n",
      "pl.hist(samples,bins=5,normed=True);"
     ],
     "language": "python",
     "metadata": {},
     "outputs": [],
     "prompt_number": 137
    },
    {
     "cell_type": "code",
     "collapsed": false,
     "input": [],
     "language": "python",
     "metadata": {},
     "outputs": [],
     "prompt_number": 138
    },
    {
     "cell_type": "code",
     "collapsed": false,
     "input": [],
     "language": "python",
     "metadata": {},
     "outputs": [],
     "prompt_number": 138
    },
    {
     "cell_type": "code",
     "collapsed": false,
     "input": [
      "m.sampler[0].probs"
     ],
     "language": "python",
     "metadata": {},
     "outputs": [
      {
       "metadata": {},
       "output_type": "pyout",
       "prompt_number": 24,
       "text": [
        "array([ 0.22307062,  0.21244712,  0.14354619,  0.18207363,  0.23886244])"
       ]
      }
     ],
     "prompt_number": 24
    },
    {
     "cell_type": "code",
     "collapsed": false,
     "input": [
      "pl.bar(range(len(m.T)),m.sampler[0].probs)"
     ],
     "language": "python",
     "metadata": {},
     "outputs": [
      {
       "metadata": {},
       "output_type": "pyout",
       "prompt_number": 28,
       "text": [
        "<Container object of 5 artists>"
       ]
      },
      {
       "metadata": {},
       "output_type": "display_data",
       "png": "[encoded data removed]",
       "text": [
        "<matplotlib.figure.Figure at 0x110fcae90>"
       ]
      }
     ],
     "prompt_number": 28
    },
    {
     "cell_type": "code",
     "collapsed": false,
     "input": [
      "h = pl.hist([m.sampler[0].draw() for i in range(100000)],bins=5);"
     ],
     "language": "python",
     "metadata": {},
     "outputs": [
      {
       "metadata": {},
       "output_type": "display_data",
       "png": "[encoded data removed]",
       "text": [
        "<matplotlib.figure.Figure at 0x110cc5250>"
       ]
      }
     ],
     "prompt_number": 29
    },
    {
     "cell_type": "code",
     "collapsed": false,
     "input": [
      "h[0] / sum(h[0])"
     ],
     "language": "python",
     "metadata": {},
     "outputs": [
      {
       "metadata": {},
       "output_type": "pyout",
       "prompt_number": 31,
       "text": [
        "array([ 0.28095,  0.21996,  0.18003,  0.2273 ,  0.09176])"
       ]
      }
     ],
     "prompt_number": 31
    },
    {
     "cell_type": "code",
     "collapsed": false,
     "input": [
      "m.T[0]"
     ],
     "language": "python",
     "metadata": {},
     "outputs": [
      {
       "metadata": {},
       "output_type": "pyout",
       "prompt_number": 32,
       "text": [
        "array([ 0.22307062,  0.21244712,  0.14354619,  0.18207363,  0.23886244])"
       ]
      }
     ],
     "prompt_number": 32
    },
    {
     "cell_type": "code",
     "collapsed": false,
     "input": [
      "a = Alias(np.ones(1000))"
     ],
     "language": "python",
     "metadata": {},
     "outputs": [],
     "prompt_number": 61
    },
    {
     "cell_type": "code",
     "collapsed": false,
     "input": [
      "a_results = [a.draw() for _ in xrange(1000000)]"
     ],
     "language": "python",
     "metadata": {},
     "outputs": [],
     "prompt_number": 62
    },
    {
     "cell_type": "code",
     "collapsed": false,
     "input": [
      "a;"
     ],
     "language": "python",
     "metadata": {},
     "outputs": [],
     "prompt_number": 64
    },
    {
     "cell_type": "code",
     "collapsed": false,
     "input": [
      "pl.hist(a_results,bins=100);"
     ],
     "language": "python",
     "metadata": {},
     "outputs": [
      {
       "metadata": {},
       "output_type": "display_data",
       "png": "[encoded data removed]",
       "text": [
        "<matplotlib.figure.Figure at 0x1117efd90>"
       ]
      }
     ],
     "prompt_number": 65
    },
    {
     "cell_type": "code",
     "collapsed": false,
     "input": [
      "max(a_results)"
     ],
     "language": "python",
     "metadata": {},
     "outputs": [
      {
       "metadata": {},
       "output_type": "pyout",
       "prompt_number": 48,
       "text": [
        "9"
       ]
      }
     ],
     "prompt_number": 48
    },
    {
     "cell_type": "code",
     "collapsed": false,
     "input": [
      "def transition_count_matrix(sequence):\n",
      "    n = len(set(sequence)) # number of states\n",
      "    C = np.zeros((n,n),dtype=int)\n",
      "    for t in range(1,len(sequence)):\n",
      "        i,j = sequence[t-1:t+1]\n",
      "        C[i,j] += 1\n",
      "    return C"
     ],
     "language": "python",
     "metadata": {},
     "outputs": [],
     "prompt_number": 74
    },
    {
     "cell_type": "code",
     "collapsed": false,
     "input": [
      "example_T = np.array([[0.86207, 0.12931, 0.00862],[0.15625, 0.83333, 0.01041],[0.00199, 0.00199, 0.99602]]) # from eq. 5.38 of MSM book"
     ],
     "language": "python",
     "metadata": {},
     "outputs": [],
     "prompt_number": 77
    },
    {
     "cell_type": "code",
     "collapsed": false,
     "input": [
      "m = MSM(example_T)"
     ],
     "language": "python",
     "metadata": {},
     "outputs": [],
     "prompt_number": 95
    },
    {
     "cell_type": "code",
     "collapsed": false,
     "input": [
      "m_samples = m.draw(1000000)"
     ],
     "language": "python",
     "metadata": {},
     "outputs": [],
     "prompt_number": 96
    },
    {
     "cell_type": "code",
     "collapsed": false,
     "input": [
      "C = np.array(transition_count_matrix(m_samples),dtype=float)"
     ],
     "language": "python",
     "metadata": {},
     "outputs": [],
     "prompt_number": 102
    },
    {
     "cell_type": "code",
     "collapsed": false,
     "input": [
      "C.max()"
     ],
     "language": "python",
     "metadata": {},
     "outputs": [
      {
       "metadata": {},
       "output_type": "pyout",
       "prompt_number": 103,
       "text": [
        "700761.0"
       ]
      }
     ],
     "prompt_number": 103
    },
    {
     "cell_type": "code",
     "collapsed": false,
     "input": [
      "C.min()"
     ],
     "language": "python",
     "metadata": {},
     "outputs": [
      {
       "metadata": {},
       "output_type": "pyout",
       "prompt_number": 104,
       "text": [
        "1363.0"
       ]
      }
     ],
     "prompt_number": 104
    },
    {
     "cell_type": "code",
     "collapsed": false,
     "input": [
      "for i in range(len(C)):\n",
      "    C[i]/= sum(C[i])"
     ],
     "language": "python",
     "metadata": {},
     "outputs": [],
     "prompt_number": 105
    },
    {
     "cell_type": "code",
     "collapsed": false,
     "input": [
      "C.max()"
     ],
     "language": "python",
     "metadata": {},
     "outputs": [
      {
       "metadata": {},
       "output_type": "pyout",
       "prompt_number": 106,
       "text": [
        "0.99604431279351402"
       ]
      }
     ],
     "prompt_number": 106
    },
    {
     "cell_type": "code",
     "collapsed": false,
     "input": [
      "C.min()"
     ],
     "language": "python",
     "metadata": {},
     "outputs": [
      {
       "metadata": {},
       "output_type": "pyout",
       "prompt_number": 107,
       "text": [
        "0.0019415985354149848"
       ]
      }
     ],
     "prompt_number": 107
    },
    {
     "cell_type": "code",
     "collapsed": false,
     "input": [
      "C"
     ],
     "language": "python",
     "metadata": {},
     "outputs": [
      {
       "metadata": {},
       "output_type": "pyout",
       "prompt_number": 108,
       "text": [
        "array([[ 0.86204213,  0.12918648,  0.00877139],\n",
        "       [ 0.15544161,  0.83442946,  0.01012893],\n",
        "       [ 0.00201409,  0.0019416 ,  0.99604431]])"
       ]
      }
     ],
     "prompt_number": 108
    },
    {
     "cell_type": "code",
     "collapsed": false,
     "input": [
      "example_T"
     ],
     "language": "python",
     "metadata": {},
     "outputs": [
      {
       "metadata": {},
       "output_type": "pyout",
       "prompt_number": 110,
       "text": [
        "array([[ 0.86207,  0.12931,  0.00862],\n",
        "       [ 0.15625,  0.83333,  0.01041],\n",
        "       [ 0.00199,  0.00199,  0.99602]])"
       ]
      }
     ],
     "prompt_number": 110
    },
    {
     "cell_type": "code",
     "collapsed": false,
     "input": [
      "((C-example_T)**2).sum()"
     ],
     "language": "python",
     "metadata": {},
     "outputs": [
      {
       "metadata": {},
       "output_type": "pyout",
       "prompt_number": 111,
       "text": [
        "1.9837684627936391e-06"
       ]
      }
     ],
     "prompt_number": 111
    },
    {
     "cell_type": "code",
     "collapsed": false,
     "input": [],
     "language": "python",
     "metadata": {},
     "outputs": []
    }
   ],
   "metadata": {}
  }
 ]
}