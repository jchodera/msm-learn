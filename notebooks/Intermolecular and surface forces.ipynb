{
 "metadata": {
  "name": "",
  "signature": "sha256:7aa96176de8579299d446386f6450eec10e0aa223ef9b54b7fea18459a4d6a01"
 },
 "nbformat": 3,
 "nbformat_minor": 0,
 "worksheets": [
  {
   "cells": [
    {
     "cell_type": "code",
     "collapsed": false,
     "input": [
      "import numpy as np\n",
      "from numpy import linalg\n",
      "import numpy.random as npr\n",
      "import pylab as pl\n",
      "%matplotlib inline"
     ],
     "language": "python",
     "metadata": {},
     "outputs": [],
     "prompt_number": 1
    },
    {
     "cell_type": "markdown",
     "metadata": {},
     "source": [
      "Based on \"Intermolecular and surface forces\"  (Israelchvili, 2003)"
     ]
    },
    {
     "cell_type": "markdown",
     "metadata": {},
     "source": [
      "# 1\n",
      "- To account for different attractive/repulsive long/short-range forces, a variety of pseudo-empirical interaction potentials were proposed in the ~19th century\n",
      "- Exponent can't be less than 3 for forces that don't depend on macroscale object size\n",
      "- Mie, 1903: interaction pair potential contained a repulsive and an attractive term:\n",
      "$$ w(r) = -\\frac{A}{r^n} + \\frac{B}{r^m}$$\n",
      "    - Many parameters can account for the same data"
     ]
    },
    {
     "cell_type": "code",
     "collapsed": false,
     "input": [
      "mie = lambda r,A=1,B=2,n=6,m=12: B/(r**m)-A/(r**n)"
     ],
     "language": "python",
     "metadata": {},
     "outputs": [],
     "prompt_number": 2
    },
    {
     "cell_type": "markdown",
     "metadata": {},
     "source": [
      "- Lennard-Jones potential (special case of Mie potential)\n",
      "$$ w(r) = -\\frac{A}{r^6} + \\frac{B}{r^{12}}$$"
     ]
    },
    {
     "cell_type": "code",
     "collapsed": false,
     "input": [
      "LJ = lambda r,A=10,B=1: (B/(r**12))-(A/(r**6))"
     ],
     "language": "python",
     "metadata": {},
     "outputs": [],
     "prompt_number": 16
    },
    {
     "cell_type": "code",
     "collapsed": false,
     "input": [
      "LJ_f = lambda r,A=10,B=1: -12*(B/(r**13))+6*(A/(r**7))"
     ],
     "language": "python",
     "metadata": {},
     "outputs": [],
     "prompt_number": 33
    },
    {
     "cell_type": "code",
     "collapsed": false,
     "input": [
      "x = np.linspace(0.1,0.2,500)\n",
      "A = 1e-7\n",
      "B = 1e-13\n",
      "pl.plot(x,LJ(x,A,B))\n",
      "#pl.plot(x,-LJ_f(x,A,B))"
     ],
     "language": "python",
     "metadata": {},
     "outputs": [
      {
       "metadata": {},
       "output_type": "pyout",
       "prompt_number": 36,
       "text": [
        "[<matplotlib.lines.Line2D at 0x1099c9c10>]"
       ]
      },
      {
       "metadata": {},
       "output_type": "display_data",
       "png": "[encoded data removed]",
       "text": [
        "<matplotlib.figure.Figure at 0x1093c80d0>"
       ]
      }
     ],
     "prompt_number": 36
    },
    {
     "cell_type": "code",
     "collapsed": false,
     "input": [
      "pl.plot(x,-LJ_f(x,A,B))"
     ],
     "language": "python",
     "metadata": {},
     "outputs": [
      {
       "metadata": {},
       "output_type": "pyout",
       "prompt_number": 37,
       "text": [
        "[<matplotlib.lines.Line2D at 0x109c64dd0>]"
       ]
      },
      {
       "metadata": {},
       "output_type": "display_data",
       "png": "[encoded data removed]",
       "text": [
        "<matplotlib.figure.Figure at 0x109385250>"
       ]
      }
     ],
     "prompt_number": 37
    },
    {
     "cell_type": "markdown",
     "metadata": {},
     "source": [
      "- Huge gap between knowing pair potential between any two molecules and understanding how an ensemble of such molecules will behave: no recipe\n",
      "- Hellman-Feynman theorem: once spatial distribution of electron clouds determined by solving Schr\u00f6dinger equation, intermolecular forces may be calculated using electrostatics\n",
      "- Solving Schr\u00f6dinger equation is difficult, so we classify intermolecular interactions into a large number of categories, even though they have the same fundamental origin, e.g.\n",
      "    - Ionic bonds\n",
      "    - Metallic bonds\n",
      "    - van der Waals forces\n",
      "    - hydrophobic interactions\n",
      "    - hydrogen bonding\n",
      "    - solvation forces\n",
      "- Potentially confusing: same interaction may be counted twice, nominally distinct interactions may be coupled"
     ]
    },
    {
     "cell_type": "markdown",
     "metadata": {},
     "source": [
      "- Current goals: understand and control many-body ensembles by manipulating operative forces. Research areas:\n",
      "    - Forces between simple atoms and molecules in gases\n",
      "    - Chemical bonding\n",
      "    - Colloid science\n",
      "    - Liquid structure, surface, and thin films; complex fluids, soft matter, self-assembly, qdots, smart materials, biomimetic structures\n",
      "    - Static (equilibrium) properties\n",
      "    - Dynamic (nonequlibrium) properties"
     ]
    },
    {
     "cell_type": "markdown",
     "metadata": {},
     "source": [
      "- No recipe for deriving nonequilibrium behaviors from pair potentials either"
     ]
    },
    {
     "cell_type": "markdown",
     "metadata": {},
     "source": [
      "- Question: Consider the unverse as composed of particles, stars, galaxies, etc. distributed uniformly randomly within a spherical region of space of average mass density $\\rho$ and radius $R$. Particles interact via inverse square gravitational force-law ($w(r) = - G m_1 m_2 / r$). One particle of mass $m$ is at a finite distance $r$ from the center. What is the force acting on the particle when\n",
      "    - $r \\gg R$\n",
      "    - $r \\ll R$\n",
      "    - $R = \\infty$"
     ]
    },
    {
     "cell_type": "code",
     "collapsed": false,
     "input": [
      "n = 100000\n",
      "R = 1\n",
      "rho = 1\n",
      "r = 0\n",
      "dim = 2\n",
      "points = npr.rand(n,dim)*2*R - R # initially consider a cube instead of a sphere\n",
      "force = lambda r,m1=1,m2=2,G=1: -G*m1*m2/r\n",
      "dist = lambda x1,x2: np.sqrt(sum((x1-x2)**2))\n",
      "p = np.zeros(dim)\n",
      "p[0] = r\n",
      "forces = np.array([force(dist(p,x)) for x in points])"
     ],
     "language": "python",
     "metadata": {},
     "outputs": [],
     "prompt_number": 154
    },
    {
     "cell_type": "code",
     "collapsed": false,
     "input": [
      "dist(p,points[0])"
     ],
     "language": "python",
     "metadata": {},
     "outputs": [
      {
       "metadata": {},
       "output_type": "pyout",
       "prompt_number": 155,
       "text": [
        "0.6754459400232864"
       ]
      }
     ],
     "prompt_number": 155
    },
    {
     "cell_type": "code",
     "collapsed": false,
     "input": [
      "pl.hist(forces,bins=50,log=True);"
     ],
     "language": "python",
     "metadata": {},
     "outputs": [
      {
       "metadata": {},
       "output_type": "display_data",
       "png": "[encoded data removed]",
       "text": [
        "<matplotlib.figure.Figure at 0x10eca88d0>"
       ]
      }
     ],
     "prompt_number": 153
    },
    {
     "cell_type": "code",
     "collapsed": false,
     "input": [
      "force(1)"
     ],
     "language": "python",
     "metadata": {},
     "outputs": [
      {
       "metadata": {},
       "output_type": "pyout",
       "prompt_number": 129,
       "text": [
        "-2"
       ]
      }
     ],
     "prompt_number": 129
    },
    {
     "cell_type": "code",
     "collapsed": false,
     "input": [
      "p[0] = r"
     ],
     "language": "python",
     "metadata": {},
     "outputs": [],
     "prompt_number": 51
    },
    {
     "cell_type": "markdown",
     "metadata": {},
     "source": [
      "# 2 Thermodynamic and statistical aspects of intermolecular forces\n",
      "- Pair potential $w(r)$ related to force between two particles by $F = -dw(r)/dr$\n",
      "    - $w(4)$ often called the free energy or available energy (since the derivative of $w$ with resect to $r$ implies the maximum work that can be done by the potential)\n",
      "- Effects arise in solvated systems that do not arise in free space:\n",
      "    - Solute movement displaces solvent molecules: net force depends on attraction between solute and solvent. If work required to displace solvent exceends free energy gain of moving solutes closer together, results can be very different than in free space\n",
      "    - Solvation / \"structural\" force: e.g. a hydration shell might change effective radius\n",
      "    - Solvation might change other properties of solutes, e.g. charge, dipole moment\n",
      "    - Cavity formation"
     ]
    },
    {
     "cell_type": "markdown",
     "metadata": {},
     "source": [
      "- Self-energy (\"cohesive energy\"), denoted $\\mu^i$ is the sum of a molecule's interactions with all surrounding molecules (including any change in solvent)\n",
      "- Consider a molecule in gas phase, where $w(r)$ is a simple power law of form\n",
      "$$\\begin{array}{rll}\n",
      "w(r) & = -C/r^n & \\text{for $r \\geq \\sigma$}\\\\\n",
      "& = \\infty & \\text{for $ r < \\sigma$}\n",
      "\\end{array}$$\n",
      "where $\\sigma$ is the \"hard-sphere diameter$ of the molecules"
     ]
    },
    {
     "cell_type": "code",
     "collapsed": false,
     "input": [],
     "language": "python",
     "metadata": {},
     "outputs": []
    }
   ],
   "metadata": {}
  }
 ]
}