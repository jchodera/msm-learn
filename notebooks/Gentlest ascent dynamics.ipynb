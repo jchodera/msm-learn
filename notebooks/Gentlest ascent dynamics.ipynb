{
 "metadata": {
  "name": "",
  "signature": "sha256:39f5d729207710797db2c2bd3f29b3806b251cbcb372fef7597c4ab5f4d58087"
 },
 "nbformat": 3,
 "nbformat_minor": 0,
 "worksheets": [
  {
   "cells": [
    {
     "cell_type": "markdown",
     "metadata": {},
     "source": [
      "*Definition:* \"The gentlest ascent dynamics [(Weinan and Zhou, 2011)](http://stacks.iop.org/no/24/1831)\n",
      "\n",
      "*Application:* \"Atomistic simulations of rare events using gentlest ascent dynamics\" ([Samanta and Weinan, 2011](http://arxiv.org/pdf/1108.1941v1.pdf))"
     ]
    },
    {
     "cell_type": "markdown",
     "metadata": {},
     "source": [
      "*Background:*\n",
      "- Transition states correspond to saddle points on the potential energy surface\n",
      "- We can characterize critical points (minima, maxima, saddle points) by computing properties of the matrix of second-order partial derivatives (the \"Hessian\" matrix) at each critical point\n",
      "    - Eigenvalues of the Hessian tell us whether the surface is concave up, concave down, or a mixture of both\n",
      "    - *Index* of saddlepoint: the fraction of negative eigenvalues of the hessian:\n",
      "        - All negative: concave \"down\"\n",
      "        - All positive: concave \"up\"\n",
      "        - Mixed: inconsistent concavity"
     ]
    },
    {
     "cell_type": "markdown",
     "metadata": {},
     "source": [
      "*Notes on Weinan and Zhou, 2011*\n",
      "- *Steepest descent dynamics:* Given an energy function $V$ on $\\newcommand{\\reals}{\\mathbb{R}} \\reals^n$, steepest descent dynamics are:\n",
      "$$ \\dot{ \\newcommand{\\x}{\\mathbf{x}} \\newcommand{\\v}{\\mathbf{v}} \\x} = - \\nabla V (\\x)$$\n",
      "    - If $\\x(\\cdot)$ is a solution, then $V(\\x(t))$ is a decreasing function of $t$\n",
      "    - Stable fixed points: local minima of $V$\n",
      "    - Basins of attraction (aka potential wells of $V$) are separated by \"separatrices\" on which dynamics converges to saddle points\n",
      "- *Goal:*\n",
      "    - Opposite: climb out of a basin of attraction\n",
      "- *Strategy:*\n",
      "    - Na\u00efve suggestion: flip sign (from $- \\nabla V (\\x)$ to $ \\nabla V (\\x)$)\n",
      "        - Outcome: find local maxima\n",
      "    - We need a dynamics that converges to index-1 saddle points of $V$, of interest to noise-induced transition between metastable states:\n",
      "    $$ \\begin{align}\n",
      "    \\dot{\\x} & = -\\nabla V(\\x) + 2 \\frac{(\\nabla V, \\v)}{(\\v,\\v)} \\v\\\\\n",
      "    \\dot{\\v} & = -\\nabla^2 V (\\x) \\v + \\frac{(\\v,\\nabla^2 V \\v)}{(\\v,\\v)} \\v\\\\\n",
      "    \\end{align}$$"
     ]
    },
    {
     "cell_type": "markdown",
     "metadata": {},
     "source": [
      "*Notes on Samanta and Weinan 2011*\n",
      "\n",
      "- Complex system dynamics frequently involve rare transition events between metastable states"
     ]
    },
    {
     "cell_type": "markdown",
     "metadata": {},
     "source": [
      "*Next steps and generalization:*\n",
      "- Can we automatically construct dynamical systems that have the desired properties? (e.g. of hopping out of basins of attraction: create a number of test potentials and see how far a walker gets on each one)\n",
      "- What is a good set of design criteria for metadynamics systems?"
     ]
    },
    {
     "cell_type": "markdown",
     "metadata": {},
     "source": [
      "*Implementation*\n",
      "\n",
      "(Based on MATLAB implementation: http://web.math.princeton.edu/string/gad/)"
     ]
    },
    {
     "cell_type": "code",
     "collapsed": false,
     "input": [
      "import numpy as np\n",
      "import numpy.random as npr\n",
      "import pylab as pl\n",
      "%matplotlib inline"
     ],
     "language": "python",
     "metadata": {},
     "outputs": [],
     "prompt_number": 55
    },
    {
     "cell_type": "code",
     "collapsed": false,
     "input": [
      "dt = 0.01\n",
      "T = 100\n",
      "ndim=2\n",
      "\n",
      "X = np.zeros((T,ndim))\n",
      "X[0] = [0.45,-0.45]\n",
      "direction = -np.array([0.87,0.07])\n",
      "normalize = lambda vec : vec / np.sqrt(sum(vec**2))\n",
      "direction = normalize(direction)\n",
      "V = np.zeros((T,ndim))"
     ],
     "language": "python",
     "metadata": {},
     "outputs": [],
     "prompt_number": 56
    },
    {
     "cell_type": "code",
     "collapsed": false,
     "input": [
      "from numpy import pi, sin, cos"
     ],
     "language": "python",
     "metadata": {},
     "outputs": [],
     "prompt_number": 57
    },
    {
     "cell_type": "code",
     "collapsed": false,
     "input": [
      "def force(x):\n",
      "    return np.array((-pi*cos(pi*x[0])*sin(pi*x[1]),\n",
      "                     -pi*sin(pi*x[0])*cos(pi*x[1])))"
     ],
     "language": "python",
     "metadata": {},
     "outputs": [],
     "prompt_number": 58
    },
    {
     "cell_type": "code",
     "collapsed": false,
     "input": [
      "force(X[0])"
     ],
     "language": "python",
     "metadata": {},
     "outputs": [
      {
       "metadata": {},
       "output_type": "pyout",
       "prompt_number": 59,
       "text": [
        "array([ 0.48540276, -0.48540276])"
       ]
      }
     ],
     "prompt_number": 59
    },
    {
     "cell_type": "code",
     "collapsed": false,
     "input": [
      "def hessian(x):\n",
      "    return pi**2 * np.array([[-sin(pi*x[0])*sin(pi*x[1]),\n",
      "                              cos(pi*x[0])*cos(pi*x[1])],\n",
      "                             [cos(pi*x[0])*cos(pi*x[1]),\n",
      "                              -sin(pi*x[0])*sin(pi*x[1])]])"
     ],
     "language": "python",
     "metadata": {},
     "outputs": [],
     "prompt_number": 60
    },
    {
     "cell_type": "code",
     "collapsed": false,
     "input": [
      "hessian(X[0])"
     ],
     "language": "python",
     "metadata": {},
     "outputs": [
      {
       "metadata": {},
       "output_type": "pyout",
       "prompt_number": 61,
       "text": [
        "array([[ 9.62807799,  0.24152641],\n",
        "       [ 0.24152641,  9.62807799]])"
       ]
      }
     ],
     "prompt_number": 61
    },
    {
     "cell_type": "code",
     "collapsed": false,
     "input": [
      "for b in range(10):\n",
      "    #direction = npr.randn(2)\n",
      "    #direction = normalize(direction)\n",
      "    for i in range(T-1):\n",
      "        F = force(X[i])# + npr.randn(ndim)*0.01\n",
      "        H = hessian(X[i]).T# + npr.randn(ndim,ndim)*0.01\n",
      "        c1 = direction.dot(F)\n",
      "        X[i+1] = X[i] + F*dt - 2*dt*c1.dot(direction)\n",
      "        direction = normalize(direction - dt*H.dot(direction))\n",
      "    pl.plot(X[:,0],X[:,1])"
     ],
     "language": "python",
     "metadata": {},
     "outputs": [
      {
       "metadata": {},
       "output_type": "display_data",
       "png": "[encoded data removed]",
       "text": [
        "<matplotlib.figure.Figure at 0x1095e8110>"
       ]
      }
     ],
     "prompt_number": 68
    },
    {
     "cell_type": "code",
     "collapsed": false,
     "input": [
      "c1"
     ],
     "language": "python",
     "metadata": {},
     "outputs": [
      {
       "metadata": {},
       "output_type": "pyout",
       "prompt_number": 69,
       "text": [
        "array([ -6.38299509e-14,   6.38299509e-14])"
       ]
      }
     ],
     "prompt_number": 69
    },
    {
     "cell_type": "code",
     "collapsed": false,
     "input": [
      "direction"
     ],
     "language": "python",
     "metadata": {},
     "outputs": [
      {
       "metadata": {},
       "output_type": "pyout",
       "prompt_number": 70,
       "text": [
        "array([[-0.70710678,  0.70710678],\n",
        "       [ 0.70710678, -0.70710678]])"
       ]
      }
     ],
     "prompt_number": 70
    },
    {
     "cell_type": "code",
     "collapsed": false,
     "input": [
      "normalize(direction)"
     ],
     "language": "python",
     "metadata": {},
     "outputs": [
      {
       "metadata": {},
       "output_type": "pyout",
       "prompt_number": 41,
       "text": [
        "array([ 0.5741445 ,  0.81875399])"
       ]
      }
     ],
     "prompt_number": 41
    },
    {
     "cell_type": "markdown",
     "metadata": {},
     "source": [
      "*MD-GAD*"
     ]
    },
    {
     "cell_type": "code",
     "collapsed": false,
     "input": [],
     "language": "python",
     "metadata": {},
     "outputs": []
    }
   ],
   "metadata": {}
  }
 ]
}