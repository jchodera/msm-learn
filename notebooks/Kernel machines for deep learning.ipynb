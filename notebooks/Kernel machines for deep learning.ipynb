{
 "metadata": {
  "name": ""
 },
 "nbformat": 3,
 "nbformat_minor": 0,
 "worksheets": [
  {
   "cells": [
    {
     "cell_type": "code",
     "collapsed": false,
     "input": [
      "import numpy as np\n",
      "import numpy.random as npr\n",
      "import pylab as pl\n",
      "%matplotlib inline"
     ],
     "language": "python",
     "metadata": {},
     "outputs": [],
     "prompt_number": 1
    },
    {
     "cell_type": "code",
     "collapsed": false,
     "input": [
      "# arc-cosine kernel\n",
      "\n",
      "def arc_cosine_kernel(x,y,n=1):\n",
      "    #norm = lambda x,p=2:np.sum(x**p)**(1.0/p)\n",
      "    #x_norm = norm(x)\n",
      "    #y_norm = norm(y)\n",
      "    x_norm = np.sqrt(np.sum(x**2))\n",
      "    y_norm = np.sqrt(np.sum(y**2))\n",
      "    theta = np.arccos(x.dot(y) / (x_norm*y_norm)\n",
      "    xn = x_norm**n\n",
      "    yn = y_norm**n\n",
      "    Jn = (-1)**n * np.sin(theta)**(2n+1)\n",
      "    Jn*= ()**n\n",
      "    Jn*=(np.pi-theta)\n",
      "    return (1 / np.pi) * xn * yn * Jn"
     ],
     "language": "python",
     "metadata": {},
     "outputs": []
    },
    {
     "cell_type": "code",
     "collapsed": false,
     "input": [],
     "language": "python",
     "metadata": {},
     "outputs": []
    }
   ],
   "metadata": {}
  }
 ]
}