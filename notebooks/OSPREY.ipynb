{
 "metadata": {
  "name": "",
  "signature": "sha256:460280e1aabf7bff77f7d8e6c42488c708493d8834c6ae93afcb71db5377256f"
 },
 "nbformat": 3,
 "nbformat_minor": 0,
 "worksheets": [
  {
   "cells": [
    {
     "cell_type": "markdown",
     "metadata": {},
     "source": [
      "Compiling dependencies to understand paper in PNAS: \"Predicting resistance mutations with protein design algorithms\"\n",
      "- DEE / A*\n",
      "- K*\n",
      "- SCMF"
     ]
    },
    {
     "cell_type": "code",
     "collapsed": false,
     "input": [],
     "language": "python",
     "metadata": {},
     "outputs": []
    }
   ],
   "metadata": {}
  }
 ]
}