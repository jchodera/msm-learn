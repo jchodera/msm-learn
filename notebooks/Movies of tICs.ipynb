{
 "cells": [
  {
   "cell_type": "code",
   "execution_count": 1,
   "metadata": {
    "collapsed": false
   },
   "outputs": [],
   "source": [
    "import numpy as np\n",
    "import numpy.random as npr\n",
    "import matplotlib.pyplot as plt\n",
    "%matplotlib inline"
   ]
  },
  {
   "cell_type": "code",
   "execution_count": 2,
   "metadata": {
    "collapsed": false
   },
   "outputs": [
    {
     "name": "stdout",
     "output_type": "stream",
     "text": [
      "loading trajectory_1.xtc...\n",
      "loading trajectory_10.xtc...\n",
      "loading trajectory_11.xtc...\n",
      "loading trajectory_12.xtc...\n",
      "loading trajectory_13.xtc...\n",
      "loading trajectory_14.xtc...\n",
      "loading trajectory_15.xtc...\n",
      "loading trajectory_16.xtc...\n",
      "loading trajectory_17.xtc...\n",
      "loading trajectory_18.xtc...\n",
      "loading trajectory_19.xtc...\n",
      "loading trajectory_2.xtc...\n",
      "loading trajectory_20.xtc...\n",
      "loading trajectory_21.xtc...\n",
      "loading trajectory_22.xtc...\n",
      "loading trajectory_23.xtc...\n",
      "loading trajectory_24.xtc...\n",
      "loading trajectory_25.xtc...\n",
      "loading trajectory_26.xtc...\n",
      "loading trajectory_27.xtc...\n",
      "loading trajectory_28.xtc...\n",
      "loading trajectory_3.xtc...\n",
      "loading trajectory_4.xtc...\n",
      "loading trajectory_5.xtc...\n",
      "loading trajectory_6.xtc...\n",
      "loading trajectory_7.xtc...\n",
      "loading trajectory_8.xtc...\n",
      "loading trajectory_9.xtc...\n"
     ]
    }
   ],
   "source": [
    "from msmbuilder.example_datasets import FsPeptide, MetEnkephalin\n",
    "from msmbuilder.featurizer import DihedralFeaturizer\n",
    "\n",
    "fs = FsPeptide().get().trajectories\n",
    "n_atoms = fs[0].n_atoms\n",
    "dih_model = DihedralFeaturizer(['phi', 'psi', 'omega', 'chi1', 'chi2', 'chi3', 'chi4'])\n",
    "fs_dih_feat = dih_model.transform(fs)"
   ]
  },
  {
   "cell_type": "code",
   "execution_count": 3,
   "metadata": {
    "collapsed": false
   },
   "outputs": [
    {
     "name": "stderr",
     "output_type": "stream",
     "text": [
      "/Users/joshuafass/anaconda/envs/py27/lib/python2.7/site-packages/pyEMMA-2.0.1-py2.7-macosx-10.5-x86_64.egg/pyemma/coordinates/util/stat.py:31: DeprecationWarning: Call to deprecated function hist. Called from pyemma.coordinates.util.stat line 31. Please use pyemma.coordinates.histogram()\n",
      "  def hist(transform, dimensions, nbins):\n"
     ]
    }
   ],
   "source": [
    "import pyemma\n",
    "tica = pyemma.coordinates.tica(fs_dih_feat,lag=100,dim=10)"
   ]
  },
  {
   "cell_type": "code",
   "execution_count": 4,
   "metadata": {
    "collapsed": false
   },
   "outputs": [
    {
     "data": {
      "text/plain": [
       "(0.61325799955361537, 78)"
      ]
     },
     "execution_count": 4,
     "metadata": {},
     "output_type": "execute_result"
    }
   ],
   "source": [
    "np.max(tica.feature_TIC_correlation[:,0]),np.argmax(tica.feature_TIC_correlation[:,0])"
   ]
  },
  {
   "cell_type": "code",
   "execution_count": 5,
   "metadata": {
    "collapsed": false
   },
   "outputs": [
    {
     "data": {
      "text/plain": [
       "(280000, 10)"
      ]
     },
     "execution_count": 5,
     "metadata": {},
     "output_type": "execute_result"
    }
   ],
   "source": [
    "Y = np.vstack(tica.transform(fs_dih_feat))\n",
    "Y.shape"
   ]
  },
  {
   "cell_type": "code",
   "execution_count": 6,
   "metadata": {
    "collapsed": false
   },
   "outputs": [
    {
     "data": {
      "text/plain": [
       "[<matplotlib.lines.Line2D at 0x12eab46d0>]"
      ]
     },
     "execution_count": 6,
     "metadata": {},
     "output_type": "execute_result"
    },
    {
     "data": {
      "image/png": "[encoded data removed]",
      "text/plain": [
       "<matplotlib.figure.Figure at 0x14f8a17d0>"
      ]
     },
     "metadata": {},
     "output_type": "display_data"
    }
   ],
   "source": [
    "plt.plot(sorted(Y[:,0]))"
   ]
  },
  {
   "cell_type": "code",
   "execution_count": 7,
   "metadata": {
    "collapsed": false
   },
   "outputs": [
    {
     "data": {
      "text/plain": [
       "[<matplotlib.lines.Line2D at 0x12f3083d0>]"
      ]
     },
     "execution_count": 7,
     "metadata": {},
     "output_type": "execute_result"
    },
    {
     "data": {
      "image/png": "[encoded data removed]",
      "text/plain": [
       "<matplotlib.figure.Figure at 0x12f58c210>"
      ]
     },
     "metadata": {},
     "output_type": "display_data"
    }
   ],
   "source": [
    "plt.plot(sorted(Y[:,0])[::1000])"
   ]
  },
  {
   "cell_type": "code",
   "execution_count": 8,
   "metadata": {
    "collapsed": false
   },
   "outputs": [],
   "source": [
    "ind = sorted(range(len(Y)),key=lambda i:Y[i,0])"
   ]
  },
  {
   "cell_type": "code",
   "execution_count": 9,
   "metadata": {
    "collapsed": false
   },
   "outputs": [
    {
     "data": {
      "text/plain": [
       "[<matplotlib.lines.Line2D at 0x145e60c10>]"
      ]
     },
     "execution_count": 9,
     "metadata": {},
     "output_type": "execute_result"
    },
    {
     "data": {
      "image/png": "[encoded data removed]",
      "text/plain": [
       "<matplotlib.figure.Figure at 0x14f887d10>"
      ]
     },
     "metadata": {},
     "output_type": "display_data"
    },
    {
     "data": {
      "image/png": "[encoded data removed]",
      "text/plain": [
       "<matplotlib.figure.Figure at 0x12f4f0f50>"
      ]
     },
     "metadata": {},
     "output_type": "display_data"
    }
   ],
   "source": [
    "plt.plot(Y[ind,0][::100])\n",
    "plt.figure()\n",
    "plt.plot(Y[ind,1][::100])"
   ]
  },
  {
   "cell_type": "code",
   "execution_count": 10,
   "metadata": {
    "collapsed": true
   },
   "outputs": [],
   "source": [
    "import mdtraj"
   ]
  },
  {
   "cell_type": "code",
   "execution_count": 11,
   "metadata": {
    "collapsed": false
   },
   "outputs": [],
   "source": [
    "traj = fs[0]"
   ]
  },
  {
   "cell_type": "code",
   "execution_count": 12,
   "metadata": {
    "collapsed": true
   },
   "outputs": [],
   "source": [
    "for f in fs[1:]:\n",
    "    traj = traj+f"
   ]
  },
  {
   "cell_type": "code",
   "execution_count": 13,
   "metadata": {
    "collapsed": false
   },
   "outputs": [],
   "source": [
    "frames = traj[ind[::1000]]\n",
    "frames = frames.superpose(frames,0)"
   ]
  },
  {
   "cell_type": "code",
   "execution_count": 14,
   "metadata": {
    "collapsed": true
   },
   "outputs": [],
   "source": [
    "frames.save_pdb('fs_tic1_movie.pdb')"
   ]
  }
 ],
 "metadata": {
  "kernelspec": {
   "display_name": "Python 2",
   "language": "python",
   "name": "python2"
  },
  "language_info": {
   "codemirror_mode": {
    "name": "ipython",
    "version": 2
   },
   "file_extension": ".py",
   "mimetype": "text/x-python",
   "name": "python",
   "nbconvert_exporter": "python",
   "pygments_lexer": "ipython2",
   "version": "2.7.10"
  }
 },
 "nbformat": 4,
 "nbformat_minor": 0
}
