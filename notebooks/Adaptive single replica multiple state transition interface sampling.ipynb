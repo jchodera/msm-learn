{
 "metadata": {
  "name": "",
  "signature": "sha256:2cd50aae4502b7844068ef7acefd066406067d6f7046f305738d59a56f2f0d6e"
 },
 "nbformat": 3,
 "nbformat_minor": 0,
 "worksheets": [
  {
   "cells": [
    {
     "cell_type": "markdown",
     "metadata": {},
     "source": [
      "Notes on \"Adaptive single replica multiple state transition interface sampling\" (Du and Bolhuis, 2013)\n",
      "\n",
      "- http://scitation.aip.org/content/aip/journal/jcp/139/4/10.1063/1.4813777"
     ]
    },
    {
     "cell_type": "markdown",
     "metadata": {},
     "source": [
      "### Abstract / Introduction\n",
      "- Goal: sample rare transitions between a set of metastable states\n",
      "- Strategy: two-ended methods, e.g. transition path sampling (TPS), nudged elastic band, action minimization, string method\n",
      "- Tactic: TPS: collect an ensemble of dynamically unbiased paths between two specified endpoints\n",
      "- Challenges in path sampling:\n",
      "    - Dependence on initial path $\\to$ solved by Replica Exchange Transition Interface Sampling (RETIS)\n",
      "        - Drawback: requires a large number of simultaneous replicas\n",
      "    - Metastable intermediates require inefficiently long paths $\\to$ Multi State TPS/TIS (MSTPS/MSTIS)\n",
      "        - Drawback: many interfaces must be treated simultaneously, and pathways have different lengths, rendering parallel implementation inefficient\n",
      "- Proposed solution:\n",
      "    - Use a single replica to sample all interfaces using MSTIS framework:\n",
      "        - Initial path in an initial interface\n",
      "        - Monte Carlo swapping move:\n",
      "            - Proposal: switch to neighboring replica\n",
      "            - Acceptance: If path fulfills criteria for new interface\n",
      "        - Monte Carlo shooting move:\n",
      "            - Proposal: create new paths\n",
      "            - Proposal bias: Wang-Landau approach $\\to$ use density of paths (DOP) at each interface, bias distribution from stable states to other basins of attraction\n",
      "                - Notes: Wang-Landau converges slowly, use only to build up the DOP, then use fixed bias"
     ]
    },
    {
     "cell_type": "markdown",
     "metadata": {},
     "source": [
      "### Outline:\n",
      "- Section II:\n",
      "    - Review of MSTIS\n",
      "    - introduce single-replica algorithms\n",
      "        - One based Wang-Landau\n",
      "        - Fixed bias\n",
      "    - Adaptive sampling\n",
      "- Section III:\n",
      "    - applications to model systems:\n",
      "        - 2D potential, LJ cluster isomerization, isomerization of alanine dipeptide in explicit solvent\n",
      "- Section IV:\n",
      "    - conclusion"
     ]
    },
    {
     "cell_type": "markdown",
     "metadata": {},
     "source": [
      "### II. Theoretical background"
     ]
    },
    {
     "cell_type": "markdown",
     "metadata": {},
     "source": [
      "#### A. Multiple State Transition Interface Sampling (MSTIS)\n",
      "- Discretize a dynamical trajectory $\\newcommand{\\x}{\\mathbf{x}} \\x^L \\equiv \\{ \\x_0, \\x_1, \\dots, \\x_L\\}$ where consecutive phase points $\\x = \\{\\mathbf{r}^N, \\mathbf{r}^N \\}$\n",
      "    - Coordinates: $\\mathbf{r}$\n",
      "    - Momentum: $\\mathbf{p}$\n",
      "    - $N$ particles\n",
      "    - Timestep: $\\Delta T$\n",
      "    - Total time duration $\\mathcal{T} = L \\Delta t$\n",
      "- Probability of an unbiased trajectory $\\x^L$:\n",
      "    $$ \\pi [ \\x^L ] = \\rho(\\x_0) \\prod_{i=0}^{L-1} \\rho (\\x_i \\to \\x_{i+1}) $$\n",
      "    - $\\rho(\\x)$: steady-state distribution\n",
      "    - $\\rho(\\x \\to \\mathbf{y})$: Markov transition probability in one timestep\n",
      "    - Normalize using a \"partition-function\"-like factor:\n",
      "        $$ Z \\equiv \\int \\mathcal{D} \\x^L \\pi [ \\x^ L ]$$\n",
      "        (integrated over all possible paths of all lengths)\n",
      "        \n",
      "        to yield normalized path probability\n",
      "        $$ \\mathcal{P}[\\x^L] = \\frac{\\pi [\\x^L]}{Z}$$\n",
      "- Consider a set of $M$ states $\\mathbf{S} = \\{0,1,\\dots,I,\\dots,M \\}$, where each state $I$ is defined as $\\{ \\x : \\lambda_I (\\x) < \\lambda_{0 I} \\} $ where:\n",
      "    - $\\lambda(\\x)$ is a function of the phase point $\\x$\n",
      "        - frequently acts as a metric: defines the distance of a point $\\x$ to a reference point characterizing the stable state\n",
      "    - $\\lambda_{0 I}$ defines the boundary of $I$\n",
      "- Transition Interface Sampling (TIS)\n",
      "    - For each state $I$, introduce $m_I + 1$ non-intersecting hypersurfaces defined by $\\{ x : \\lambda(\\x) = \\lambda_{i I} \\}$\n",
      "    ($\\lambda_{0I} \\equiv$ the boundary of state $I$, $\\lambda_{m I } \\equiv$ \"outermost\" interface)\n",
      "    - TIS path ensemble for interface $i$ of state $I$ contains paths that:\n",
      "        - start in $I$,\n",
      "        - end in any state $\\in \\mathbf{S}$, and\n",
      "        - cross interface $\\lambda_i$\n",
      "    - TIS path probabilities\n",
      "        - Define region of phase space beyond interface $i$ by $\\Lambda_{i I}^+ \\equiv \\{ \\x : \\lambda(\\x) > \\lambda_{i I} \\}$\n",
      "        - TIS path probability for state $I$ is\n",
      "            $$ \\mathcal{P}_{I \\Lambda_{i I}} [\\x^L ] = \\frac{\\tilde{h}_i^I[\\x^L] \\pi[\\x^L]}{Z_{I \\Lambda_{i I}}}$$\n",
      "            where $\\tilde{h}_i^I[\\x^L] \\pi[\\x^L]$ is an indicator function for paths that begin in $I$, end in any stable state in $\\mathbf{S}$ and cross the interface $\\lambda_i$\n",
      "    - Multiple state path ensemble: all trajectories from all states $I \\in \\mathbf{S}$ that cross the outermost interface of $I$\n",
      "    $$ \\mathcal{P}_\\text{MSTIS} [\\x^L] = \\sum_I^M \\frac{\\tilde{h}_i^I[\\x^L] \\pi[\\x^L] \\pi [\\x^L]}{Z}$$\n",
      "    - Shooting algorithm:\n",
      "        - Proposal: c.f. \"A novel path sampling method for the calculation of rate constants\" ()"
     ]
    },
    {
     "cell_type": "markdown",
     "metadata": {},
     "source": [
      "#### B. Single replica MSTIS"
     ]
    },
    {
     "cell_type": "markdown",
     "metadata": {},
     "source": [
      "### Appendix: Wang-Landau algorithm\n",
      "[to-do]"
     ]
    },
    {
     "cell_type": "markdown",
     "metadata": {},
     "source": [
      "### Appendix: Weighted-Histogram Analysis Method (WHAM)\n",
      "[to-do]"
     ]
    },
    {
     "cell_type": "code",
     "collapsed": false,
     "input": [],
     "language": "python",
     "metadata": {},
     "outputs": []
    }
   ],
   "metadata": {}
  }
 ]
}