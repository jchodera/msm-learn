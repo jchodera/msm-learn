{
 "metadata": {
  "name": "",
  "signature": "sha256:5f4b465bedf1d5c56334e1409969bd6db729016c8dbff4bf798bb777fba93490"
 },
 "nbformat": 3,
 "nbformat_minor": 0,
 "worksheets": [
  {
   "cells": [
    {
     "cell_type": "code",
     "collapsed": false,
     "input": [
      "import msmbuilder"
     ],
     "language": "python",
     "metadata": {},
     "outputs": [],
     "prompt_number": 1
    },
    {
     "cell_type": "markdown",
     "metadata": {},
     "source": [
      "Connections to surface reconstruction:\n",
      "- A problem that arises frequently in graphics is to estimate curves or surfaces given point clouds (e.g. in 3D scanning)\n",
      "- Crust algorithm:\n",
      "    - Let $S$ be the set of sample points\n",
      "    - Compute the Voronoi diagram $\\text{Vor}(S)$ and let $V$ be its set of Voronoi vertices.\n",
      "    - Compute the Delaunay triangulation $\\text{Del}(S \n",
      "    \\cup V)$.\n",
      "    - The curve $P$ is composed of the edges of $\\text{Del}(S \n",
      "    \\cup V)$ with endpoints in $S$.\n",
      "- Smooth curve shortening:\n",
      "    $$ \\frac{\\partial C}{\\partial t} = \\frac{\\partial^2 C}{\\partial s}$$\n",
      "    where $C(s,t)$ defines a *geometric flow* a curve at time $t$ parametrized by arclength $s$ (generalized from $C(s) = (x(s),y(s))$ to multiple time points)\n",
      "- *Midpoint transformation:* a discrete curve defined by the points $(v_1,\\dots,v_n)$ can be aggregated to remove noise by replacing vertices $v_i$ and $v_{i+1}$ with their average (i.e. the midpoint of the segment $v_iv_{i+1}$)\n",
      "$$ \\frac{\\partial v_i}{\\partial t} = \\frac{\\partial^2 v_i}{\\partial x^2}$$\n",
      "\n",
      "\n",
      "*Is anything here applicable to the string method?*\n",
      "- Analogy between motion planning and minimum-energy path finding"
     ]
    },
    {
     "cell_type": "markdown",
     "metadata": {},
     "source": [
      "Connection to motion planning:\n",
      "- Protein conformations are elements of a configuration space $\\mathcal{C}$, the set of all possible configurations of its atoms (a.k.a. state space, moduli space)\n",
      "- In motion planning, we want to find a path through configuration space from one point to another given some constraints (e.g. avoid obstacles, or we might associate a cost $L(c)$ with each intermediate configuration $c$ and want to minimize $\\sum_c L(c)$ (e.g. free energy barriers)\n",
      "- *Cell decomposition* - partition configuration space into a finite number of *cells* and find paths between cells\n",
      "- *Probabilistic roadmap* algorithms for the protein folding problem, *sampling-based motion planning* - randomly generate samples, query if they are in $\\mathcal{C}$, connect local points into a graph structure"
     ]
    },
    {
     "cell_type": "markdown",
     "metadata": {},
     "source": [
      "*Coarse-graining / enhanced sampling notes:*\n",
      "- See wiki page on rare event sampling: http://en.wikipedia.org/wiki/Rare_Event_Sampling\n",
      "    - Stochastic Process Rare Event Sampling: http://scitation.aip.org/content/aip/journal/jcp/133/24/10.1063/1.3525099\n",
      "- String method: given the locations of two metastable states, find the minimum energy path (MEP) between them\n",
      "- Transition-path sampling\n",
      "- Transition-interface sampling\n",
      "- Umbrella sampling: add a bias potential to \"flatten\" large energy barriers. Set the bias to be a function of some order parameter\n",
      "- Replica exchange (parallel tempering) http://en.wikipedia.org/wiki/Parallel_tempering (two temperatures in parallel)\n",
      "    $$ p_{i \\to j} = \\min \\left\\{1, \\frac{\\exp \\left( - \\frac{E_j}{kT_i} \\frac{E_i}{kT_j} \\right) }{\\exp \\left( - \\frac{E_i}{kT_i} \\frac{E_j}{kT_j} \\right) } \\right\\} $$\n",
      "- Metadynamics\n",
      "- CATCH UP ON THESE TOPICS: http://www.mi.fu-berlin.de/w/CompMolBio/MolecularModellingSimulation\n",
      "- Spectral rate theory for two-state kinetics\n",
      "- Weighted histogram\n",
      "- Multistate Bennett Acceptance Ratio\n",
      "\n",
      "For my sanity, I need to make an \"MCMC Zoo\" similar to Scott Aaronson's \"Complexity Zoo\""
     ]
    },
    {
     "cell_type": "markdown",
     "metadata": {},
     "source": [
      "*Goose-chase notes:*\n",
      "- Any useful connections to work of Stephan Ermon? (using SAT-solvers as oracles in algorithms to estimate the partition-function) -- probably not, continuous vs. discrete space. Actually, there's a step in the projected Markov models paper that takes the product over a large number of distinct paths\n",
      "- Any useful connections to work of Keenan Crane? (learning surfaces from point clouds)\n",
      "- Useful connections to work of Byron Boots?\n",
      "    - Certainly: Reduced Rank Hidden Markov Models (compare with \"Projected and hidden Markov models for calculating kinetics and metastable states of complex molecules\")\n",
      "    - Possibly: Hilbert-Space Embeddings of HMMs http://machinelearning.wustl.edu/mlpapers/paper_files/icml2010_SongSGS10.pdf\n",
      "        - Consider collaborations with Gunnar R\u00e4tsch re: kernel methods\n",
      "- Lagrange multipliers: http://en.wikipedia.org/wiki/Lagrange_multiplier\n",
      "- A geometrical approach to computing free-energy\n",
      "landscapes from short-ranged potentials http://www.pnas.org/content/110/1/E5.full.pdf\n",
      "- Comparing a simple theoretical model for protein\n",
      "folding with all-atom molecular dynamics simulations http://www.pnas.org/content/110/44/17880.full.pdf+html\n",
      "- Nonparametric modal regression?\n",
      "- Probabilistic numerics blog: http://www.probabilistic-numerics.org/literature/index.html#ABC\n",
      "- Glasgow Inference Group: http://www.dcs.gla.ac.uk/inference/people.cfm"
     ]
    },
    {
     "cell_type": "markdown",
     "metadata": {},
     "source": [
      "*MSM-learning notes*\n",
      "- Nonparametric estimation of a a Markov kernel using kernel density estimation:\n",
      "    - http://en.wikipedia.org/wiki/Markov_kernel\n",
      "    - http://www.sciencedirect.com/science/article/pii/S0165176509002560\n",
      "        - Oops, not actually relevant\n",
      "- Simultaneous learning of state-decompositions and transition-matrices?\n",
      "- How would you sample over transition operators?\n",
      "    - Simultaneously learn a low-dimensional representation and a transition operator that reproduces the observed dynamics?\n",
      "- \"Efficient Bayesian estimation of Markov model transition matrices with given stationary distribution\"\n",
      "    - Before reading: what I might do differently:\n",
      "        - Incorporate geometric information about states\n",
      "            - Direct pairwise RMSD -- likely noisy, but a good baseline\n",
      "            - Cost of min-cost non-direct path between states -- estimating a \"geodesic\" in discretized conformation space. Smaller distances are more reliable\n",
      "     - Efficient inference about Markov processes: http://projecteuclid.org/euclid.aoms/1177707039\n",
      "         - Contains information on properties of stochastic matrices\n",
      "     - READ CHAPTER 5 OF THE MSMs BOOK: contains 5 algorithms for Bayesian sampling of transition matrices (containing efficient Markov kernels for transition matrices that are reversible), plus some test problems\n",
      "     - Variational Bayes?\n",
      "         - http://www.gatsby.ucl.ac.uk/vbayes/\n",
      "         - \n",
      "- Stochastic neighbor compression: http://jmlr.org/proceedings/papers/v32/kusner14.pdf\n",
      "    - Huge improvement in speed and accuracy over KNN (useful for state decomposition?)\n",
      "- \n",
      "- Nonlinear metric learning: http://www1.cse.wustl.edu/~kilian/papers/chilmnn.pdf\n",
      "    - Also useful for state decomposition? Learn a better predictor of kinetic distance than geometry. Also compare with Robert McGibbon's work on this\n",
      "-"
     ]
    },
    {
     "cell_type": "markdown",
     "metadata": {},
     "source": [
      "### String Method"
     ]
    },
    {
     "cell_type": "markdown",
     "metadata": {},
     "source": [
      "*String method for the study of rare events* (Weinan, Ren, and Vanden-Eijnden, 2002, *Phys. Rev. B*)\n",
      "\n",
      "- plus two follow-up papers\n",
      "- plus *Science* paper on melting"
     ]
    },
    {
     "cell_type": "markdown",
     "metadata": {},
     "source": [
      "### Project proposal: Reduced-rank projected Markov models\n",
      "- Problem: discrete state decomposition\n",
      "- Drawing on three papers:\n",
      "    - "
     ]
    },
    {
     "cell_type": "markdown",
     "metadata": {},
     "source": [
      "### Project proposal: Information-Geometric Sampling Methods for Transition Matrices\n",
      "- When the number of states is large, posterior inference becomes intractable\n",
      "\n",
      "#### State of the Art\n",
      "- Taken from Chapter 5 of *Intro to MSMs*"
     ]
    },
    {
     "cell_type": "markdown",
     "metadata": {},
     "source": [
      "- "
     ]
    },
    {
     "cell_type": "code",
     "collapsed": false,
     "input": [],
     "language": "python",
     "metadata": {},
     "outputs": []
    }
   ],
   "metadata": {}
  }
 ]
}