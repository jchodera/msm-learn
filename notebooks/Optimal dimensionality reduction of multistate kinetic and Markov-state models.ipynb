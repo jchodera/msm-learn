{
 "metadata": {
  "name": "",
  "signature": "sha256:3f9f920a7f477298928ce1138d9c7a585f9da412a5fbf40b45ca2a12528e876a"
 },
 "nbformat": 3,
 "nbformat_minor": 0,
 "worksheets": [
  {
   "cells": [
    {
     "cell_type": "markdown",
     "metadata": {},
     "source": [
      "Based on: Optimal Dimensionality Reduction of Multistate Kinetic and Markov-State\n",
      "Models\n",
      "\n",
      "(Hummer and Szabo, 2014, JAPC B) \n",
      "http://pubs.acs.org/doi/pdfplus/10.1021/jp508375q"
     ]
    },
    {
     "cell_type": "code",
     "collapsed": false,
     "input": [
      "import numpy as np\n",
      "import numpy.random as npr\n",
      "import pylab as pl\n",
      "%matplotlib inline"
     ],
     "language": "python",
     "metadata": {},
     "outputs": [],
     "prompt_number": 2
    },
    {
     "cell_type": "markdown",
     "metadata": {},
     "source": [
      "### Abstract\n",
      "*Goal:* model reduction: optimally describe the dynamics of aggregated supersates formed by combining microstates\n",
      "\n",
      "*Tactic:* match the time-dependent occupancy-number correlation functions of the superstates in full and aggregated systems\n",
      "\n",
      "*Alternate tactic:* projection operator formalism"
     ]
    },
    {
     "cell_type": "markdown",
     "metadata": {},
     "source": [
      "### Introduction\n",
      "- Consider a high-dimensional dynamical system partitioned into two regions ($1$ and $2$), described by a two-state kinetic system (state space $\\Omega=\\{ 1,2 \\}$, transition matrix $T$ contains transition rate to $2$ from $1$ $\\equiv$ $R_{21}$, and reverse $\\equiv$ $R_{12}$)\n",
      "- How should we choose the rate constants $T$?"
     ]
    },
    {
     "cell_type": "markdown",
     "metadata": {},
     "source": [
      "Toy example: biased random walk on a bimodal energy landscape"
     ]
    },
    {
     "cell_type": "code",
     "collapsed": false,
     "input": [
      "def bimodal_dist(x,dist=1.8):\n",
      "    comp1 = np.exp((-sum((x+dist*0.5)**2)))\n",
      "    comp2 = np.exp((-sum((x-dist*0.5)**2)))\n",
      "    return comp1 + comp2\n",
      "\n",
      "def metropolis_hastings(density,n_samples=100,step_size=0.1,ndim=2):\n",
      "    \"\"\" generates samples given a density function which maps from R^ndim\n",
      "    to R using the defined step_size.\n",
      "    returns (samples, acceptance ratio)\"\"\"\n",
      "    x0 = npr.randn(ndim)\n",
      "    d0 = density(x0)\n",
      "    samples = np.zeros((n_samples,ndim))\n",
      "    acceptances = 0\n",
      "    for i in range(n_samples):\n",
      "        x1 = x0 + npr.randn(ndim)*step_size\n",
      "        d1 = density(x1)\n",
      "        if npr.rand() <= (d1/d0):\n",
      "            samples[i] = x1\n",
      "            x0 = x1\n",
      "            d0 = d1\n",
      "            acceptances+=1\n",
      "        else:\n",
      "            samples[i] = x0\n",
      "    \n",
      "    return samples,1.0*acceptances/n_samples"
     ],
     "language": "python",
     "metadata": {},
     "outputs": [],
     "prompt_number": 22
    },
    {
     "cell_type": "code",
     "collapsed": false,
     "input": [
      "step_size = np.sqrt(0.1)\n",
      "samples, ar = metropolis_hastings(bimodal_dist,100000,step_size)\n",
      "print(\"Acceptance ratio: {0:.4}\".format(ar))\n",
      "hist = pl.hist2d(samples[:,0],samples[:,1],bins=100);"
     ],
     "language": "python",
     "metadata": {},
     "outputs": [
      {
       "output_type": "stream",
       "stream": "stdout",
       "text": [
        "Acceptance ratio: 0.8046\n"
       ]
      },
      {
       "metadata": {},
       "output_type": "display_data",
       "png": "[encoded data removed]",
       "text": [
        "<matplotlib.figure.Figure at 0x108c86e10>"
       ]
      }
     ],
     "prompt_number": 23
    },
    {
     "cell_type": "code",
     "collapsed": false,
     "input": [
      "def state_decomp(x):\n",
      "    return x[:,1] - x[:,0] < 0"
     ],
     "language": "python",
     "metadata": {},
     "outputs": [],
     "prompt_number": 34
    },
    {
     "cell_type": "code",
     "collapsed": false,
     "input": [
      "discrete_states = np.array(state_decomp(samples),dtype=int)\n",
      "1.0*sum(discrete_states)/len(samples)"
     ],
     "language": "python",
     "metadata": {},
     "outputs": [
      {
       "metadata": {},
       "output_type": "pyout",
       "prompt_number": 36,
       "text": [
        "0.49453"
       ]
      }
     ],
     "prompt_number": 36
    },
    {
     "cell_type": "code",
     "collapsed": false,
     "input": [
      "pl.plot(discrete_states[20000:20000+100])"
     ],
     "language": "python",
     "metadata": {},
     "outputs": [
      {
       "metadata": {},
       "output_type": "pyout",
       "prompt_number": 38,
       "text": [
        "[<matplotlib.lines.Line2D at 0x108c9a5d0>]"
       ]
      },
      {
       "metadata": {},
       "output_type": "display_data",
       "png": "[encoded data removed]",
       "text": [
        "<matplotlib.figure.Figure at 0x108c86450>"
       ]
      }
     ],
     "prompt_number": 38
    },
    {
     "cell_type": "code",
     "collapsed": false,
     "input": [
      "def transition_count_matrix(sequence):\n",
      "    n = len(set(sequence)) # number of states\n",
      "    C = np.zeros((n,n),dtype=int)\n",
      "    for t in range(1,len(sequence)):\n",
      "        i,j = sequence[t-1:t+1]\n",
      "        C[i,j] += 1\n",
      "    return C\n",
      "\n",
      "def row_normalize(matrix):\n",
      "    for i in xrange(len(matrix)):\n",
      "        matrix[i] /= sum(matrix[i])\n",
      "    return matrix\n",
      "\n",
      "def trans_mat(sequence):\n",
      "    return row_normalize(transition_count_matrix(sequence))"
     ],
     "language": "python",
     "metadata": {},
     "outputs": [],
     "prompt_number": 105
    },
    {
     "cell_type": "code",
     "collapsed": false,
     "input": [
      "discrete_states"
     ],
     "language": "python",
     "metadata": {},
     "outputs": [
      {
       "metadata": {},
       "output_type": "pyout",
       "prompt_number": 108,
       "text": [
        "array([1, 1, 1, ..., 0, 0, 0])"
       ]
      }
     ],
     "prompt_number": 108
    },
    {
     "cell_type": "code",
     "collapsed": false,
     "input": [
      "T = trans_mat(discrete_states)"
     ],
     "language": "python",
     "metadata": {},
     "outputs": [],
     "prompt_number": 109
    },
    {
     "cell_type": "code",
     "collapsed": false,
     "input": [
      "T[0] = T[0] / sum(T[0])\n",
      "T[1] = T[1] / sum(T[1])"
     ],
     "language": "python",
     "metadata": {},
     "outputs": [],
     "prompt_number": 99
    },
    {
     "cell_type": "code",
     "collapsed": false,
     "input": [
      "np.sum(T,axis=1)"
     ],
     "language": "python",
     "metadata": {},
     "outputs": [
      {
       "metadata": {},
       "output_type": "pyout",
       "prompt_number": 93,
       "text": [
        "array([ 1.,  1.])"
       ]
      }
     ],
     "prompt_number": 93
    },
    {
     "cell_type": "code",
     "collapsed": false,
     "input": [
      "T = T / np.sum(T,axis=1)"
     ],
     "language": "python",
     "metadata": {},
     "outputs": [],
     "prompt_number": 94
    },
    {
     "cell_type": "code",
     "collapsed": false,
     "input": [
      "counts"
     ],
     "language": "python",
     "metadata": {},
     "outputs": [
      {
       "metadata": {},
       "output_type": "pyout",
       "prompt_number": 102,
       "text": [
        "array([[ 44713.,   5833.],\n",
        "       [  5834.,  43619.]])"
       ]
      }
     ],
     "prompt_number": 102
    },
    {
     "cell_type": "code",
     "collapsed": false,
     "input": [
      "np.sum(T,axis=1)"
     ],
     "language": "python",
     "metadata": {},
     "outputs": []
    },
    {
     "cell_type": "code",
     "collapsed": false,
     "input": [
      "sum(T[0])"
     ],
     "language": "python",
     "metadata": {},
     "outputs": [
      {
       "metadata": {},
       "output_type": "pyout",
       "prompt_number": 68,
       "text": [
        "1.0025505433110127"
       ]
      }
     ],
     "prompt_number": 68
    },
    {
     "cell_type": "code",
     "collapsed": false,
     "input": [
      "sum(T)"
     ],
     "language": "python",
     "metadata": {},
     "outputs": [
      {
       "metadata": {},
       "output_type": "pyout",
       "prompt_number": 58,
       "text": [
        "array([ 1.,  1.])"
       ]
      }
     ],
     "prompt_number": 58
    },
    {
     "cell_type": "code",
     "collapsed": false,
     "input": [
      "T[0]"
     ],
     "language": "python",
     "metadata": {},
     "outputs": [
      {
       "metadata": {},
       "output_type": "pyout",
       "prompt_number": 59,
       "text": [
        "array([ 0.88458267,  0.11795276])"
       ]
      }
     ],
     "prompt_number": 59
    },
    {
     "cell_type": "code",
     "collapsed": false,
     "input": [
      "T[:,0]"
     ],
     "language": "python",
     "metadata": {},
     "outputs": [
      {
       "metadata": {},
       "output_type": "pyout",
       "prompt_number": 60,
       "text": [
        "array([ 0.88458267,  0.11541733])"
       ]
      }
     ],
     "prompt_number": 60
    },
    {
     "cell_type": "code",
     "collapsed": false,
     "input": [],
     "language": "python",
     "metadata": {},
     "outputs": []
    }
   ],
   "metadata": {}
  }
 ]
}