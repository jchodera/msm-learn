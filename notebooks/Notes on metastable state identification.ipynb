{
 "metadata": {
  "name": "",
  "signature": "sha256:659fae4faa943c516c5a33e827a8e831c715e72acc8976d91aa18fd5466ce0e8"
 },
 "nbformat": 3,
 "nbformat_minor": 0,
 "worksheets": [
  {
   "cells": [
    {
     "cell_type": "markdown",
     "metadata": {},
     "source": [
      "*MSTIS*\n",
      "\"Adaptive single replica multiple state transition interface sampling\" (Du and Bolhuis, 2013)\n",
      "\n",
      "- http://scitation.aip.org/content/aip/journal/jcp/139/4/10.1063/1.4813777"
     ]
    },
    {
     "cell_type": "markdown",
     "metadata": {},
     "source": [
      "*Hierarchical uncoupling-coupling Monte Carlo*\n",
      "\n",
      "[Fischer, Sch\u00fctte, Deuflhard, Cordes, 2000](http://link.springer.com/chapter/10.1007%2F978-3-642-56080-4_10)\n",
      "- Use perturbed dynamics (e.g. high-temperature dynamics) to identify weakly metastable states\n",
      "- Explicitly decouple these states\n",
      "- Repeat at lower temperature until converged"
     ]
    },
    {
     "cell_type": "markdown",
     "metadata": {},
     "source": [
      "*Grid-free hierarchical conformational dynamics*\n",
      "\n",
      "see PhD thesis \"Statistical error estimation and grid-free hierarchical refinement in conformational dynamics\" - [Susanna R\u00f6blitz (ne\u00e9 Kube), 2008](http://www.diss.fu-berlin.de/diss/receive/FUDISS_thesis_000000008079)"
     ]
    },
    {
     "cell_type": "markdown",
     "metadata": {},
     "source": [
      "*Metadynamics*\n",
      "\n",
      "Bias dynamics away from regions of dense historical sampling via a kernel density estimator trained on all visited states:\n",
      "\n",
      "http://people.sissa.it/~laio/Research/Res_metadynamics.php"
     ]
    },
    {
     "cell_type": "code",
     "collapsed": false,
     "input": [],
     "language": "python",
     "metadata": {},
     "outputs": []
    }
   ],
   "metadata": {}
  }
 ]
}