{
 "cells": [
  {
   "cell_type": "code",
   "execution_count": 1,
   "metadata": {
    "collapsed": true
   },
   "outputs": [],
   "source": [
    "# load and process example data\n",
    "\n",
    "from msmbuilder.example_datasets import MetEnkephalin\n",
    "trajs = MetEnkephalin().get().trajectories\n",
    "from msmbuilder.featurizer import DihedralFeaturizer\n",
    "dih_model = DihedralFeaturizer(types=['phi', 'psi', 'omega', 'chi1', 'chi2', 'chi3', 'chi4'])\n",
    "X = dih_model.fit_transform(trajs)\n",
    "from msmbuilder.decomposition import tICA\n",
    "tica = tICA(lag_time=10,kinetic_mapping=True)\n",
    "Y = tica.fit_transform(X)\n",
    "from msmbuilder.cluster import MiniBatchKMedoids"
   ]
  },
  {
   "cell_type": "code",
   "execution_count": 2,
   "metadata": {
    "collapsed": false
   },
   "outputs": [],
   "source": [
    "# look at effects of batch_size on time to convergence\n",
    "\n",
    "n_clusters=100\n",
    "batch_sizes=[10,50,75,100,125,150]\n",
    "\n",
    "from time import time\n",
    "times = []\n",
    "\n",
    "for batch_size in batch_sizes:\n",
    "    t0 = time()\n",
    "    kmeds = MiniBatchKMedoids(n_clusters=n_clusters, max_iter=100, batch_size=batch_size)\n",
    "    dtrajs = kmeds.fit_transform(Y)\n",
    "    t1 = time()\n",
    "    \n",
    "    times.append(t1-t0)"
   ]
  },
  {
   "cell_type": "code",
   "execution_count": 3,
   "metadata": {
    "collapsed": false
   },
   "outputs": [
    {
     "data": {
      "text/plain": [
       "<matplotlib.text.Text at 0x12f44a8d0>"
      ]
     },
     "execution_count": 3,
     "metadata": {},
     "output_type": "execute_result"
    },
    {
     "data": {
      "image/png": "[encoded data removed]",
      "text/plain": [
       "<matplotlib.figure.Figure at 0x127493e10>"
      ]
     },
     "metadata": {},
     "output_type": "display_data"
    }
   ],
   "source": [
    "# plot results\n",
    "\n",
    "import matplotlib.pyplot as plt\n",
    "%matplotlib inline\n",
    "plt.plot(batch_sizes,times) # lines\n",
    "plt.plot(batch_sizes,times,'.') # dots\n",
    "plt.vlines(n_clusters,0.8*min(times),1.1*max(times)) # vertical line\n",
    "\n",
    "plt.xlabel('batch_size')\n",
    "plt.ylabel('Time to convergence (s)')\n",
    "plt.title('')"
   ]
  },
  {
   "cell_type": "code",
   "execution_count": 4,
   "metadata": {
    "collapsed": false
   },
   "outputs": [
    {
     "data": {
      "text/plain": [
       "'3.4.0'"
      ]
     },
     "execution_count": 4,
     "metadata": {},
     "output_type": "execute_result"
    }
   ],
   "source": [
    "from msmbuilder import version\n",
    "version.full_version"
   ]
  }
 ],
 "metadata": {
  "kernelspec": {
   "display_name": "Python 2",
   "language": "python",
   "name": "python2"
  },
  "language_info": {
   "codemirror_mode": {
    "name": "ipython",
    "version": 2
   },
   "file_extension": ".py",
   "mimetype": "text/x-python",
   "name": "python",
   "nbconvert_exporter": "python",
   "pygments_lexer": "ipython2",
   "version": "2.7.11"
  }
 },
 "nbformat": 4,
 "nbformat_minor": 0
}
