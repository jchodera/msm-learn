{
 "metadata": {
  "name": "",
  "signature": "sha256:6b9f47a143a013a732828ecae9921847b51554be7a1ee727ce530b59ee0f60fd"
 },
 "nbformat": 3,
 "nbformat_minor": 0,
 "worksheets": [
  {
   "cells": [
    {
     "cell_type": "code",
     "collapsed": false,
     "input": [],
     "language": "python",
     "metadata": {},
     "outputs": []
    }
   ],
   "metadata": {}
  }
 ]
}