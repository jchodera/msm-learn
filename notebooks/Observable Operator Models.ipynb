{
 "metadata": {
  "name": "",
  "signature": "sha256:5c3054bcc68db7eed791dd6ceadc47653444284524e0500f7a7ad5cd95610e6b"
 },
 "nbformat": 3,
 "nbformat_minor": 0,
 "worksheets": [
  {
   "cells": [
    {
     "cell_type": "markdown",
     "metadata": {},
     "source": [
      "Notes on (Jaeger, 2000) - http://minds.jacobs-university.de/sites/default/files/uploads/papers/oom_neco00.pdf"
     ]
    },
    {
     "cell_type": "code",
     "collapsed": false,
     "input": [
      "import numpy as np\n",
      "import pylab as pl\n",
      "%matplotlib inline"
     ],
     "language": "python",
     "metadata": {},
     "outputs": [],
     "prompt_number": 1
    },
    {
     "cell_type": "markdown",
     "metadata": {},
     "source": [
      "### Abstract\n",
      "- HMMs can model a sub-class of linearly dependent processes (LDPs) -- this article characterizes LDPs using OOMs (learning algorithm has time complexity $O(N + nm^3)$ where $N$ is the length of the training set, $n$ is the number of distinguishable observations, and $m$ is the dimensionality of the model's state space"
     ]
    },
    {
     "cell_type": "markdown",
     "metadata": {},
     "source": [
      "### Introduction\n",
      "- LDPs introduced to decide when two HMMs are equivalent\n",
      "- See (Ito, 1992)"
     ]
    },
    {
     "cell_type": "markdown",
     "metadata": {},
     "source": [
      "- *Linearly dependent processes*"
     ]
    },
    {
     "cell_type": "markdown",
     "metadata": {},
     "source": [
      "### References:\n",
      "- OOM tutorial slides (Jaeger, 2010?) http://minds.jacobs-university.de/sites/default/files/uploads/presentations/OOMTutorial.pdf\n",
      "    - Another tutorial slide deck: http://fias.uni-frankfurt.de/fileadmin/fias/common/PDF/Colloquium/OOMsFIAS_Jan2010.pdf"
     ]
    },
    {
     "cell_type": "markdown",
     "metadata": {},
     "source": [
      "### A. Notes on slide deck\n",
      "- http://minds.jacobs-university.de/sites/default/files/uploads/presentations/OOMTutorial.pdf"
     ]
    },
    {
     "cell_type": "markdown",
     "metadata": {},
     "source": [
      "- Notation: \n",
      "    - Let $(X_n)_{n=0,1,2,\\dots}$ be a discrete-time stochastic process\n",
      "    - For $P(X_0 = a_0,\\dots,X_N = a_N)$, write $P(a_0 \\dots a_N)$ or $P(\\bar{a})$\n",
      "    - For $P(X_{N+1} = b_1,\\dots,\\dots,X_{N+M} = b_M \\mid X_0 = a_0, \\dots, X_N a_N)$, write $P(b_{N+1} \\dots b_{N+M} \\mid a_0 \\dots a_N)$ or $P(\\bar{v} \\mid \\bar{a})$"
     ]
    },
    {
     "cell_type": "markdown",
     "metadata": {},
     "source": [
      "- From HMMs to OOMs\n",
      "    - In an HMM, we have a set of hidden states $S$, e.g. $S = \\{ s_1,s_2 \\}$, and a set of observable events $O$, e.g. $O = \\{ a,b \\}$\n",
      "    - The transition rates between hidden states are represented by a transition matrix $M$\n",
      "    $$ \\begin{array}{cc}\n",
      "    M = \\left[ \\begin{array}{cc} 0.0 & 1.0 \\\\ 0.5 & 0.5 \\end{array} \\right] &\n",
      "    M^T = \\left[ \\begin{array}{cc} 0.0 & 0.5 \\\\ 1.0 & 0.5 \\end{array} \\right] \\end{array}$$\n",
      "    - Observation probabilities are given by diagonal observation matrices $O_a$ and $O_b$\n",
      "    $$ \\begin{array}{cc}\n",
      "    O_a = \\left[ \\begin{array}{cc} 0.5 & 0.0 \\\\ 0.0 & 1.0 \\end{array} \\right] &\n",
      "    O_b = \\left[ \\begin{array}{cc} 0.5 & 0.0 \\\\ 0.0 & 0.0 \\end{array} \\right] \\end{array}$$"
     ]
    },
    {
     "cell_type": "markdown",
     "metadata": {},
     "source": [
      "[skipping ahead a little]\n",
      "- HMM vs. OMM:\n",
      "    - An HMM is a structure $(\\newcommand{\\reals}{\\mathbb{R}} \\reals^m, \\{ T_a, T_b\\}, w_-$\n",
      "- Definition: an OOM is a structure \n",
      "- Interpretable OOMs\n",
      "    - Definition:\n",
      "        - Let $O$ be a finite set of observables $k \\geq 1$. A $k$-event is a nonempty subset of $O^k$\n",
      "        - Let $m \\geq 1$. \n",
      "- Learning OOMs from data:\n",
      "    - In an interpretable OOM,\n",
      "        $$\\begin{align} w_0 & = (P(A_1),\\dots,P(A_m)) \\\\\n",
      "        \\tau_a w_0 & = (P(a A_1),\\dots,P( a A_m)) \\\\\n",
      "        \\tau_a \\tau_b w_0 & = (P(b a A_1),\\dots,P(b a A_m)) \\\\\n",
      "        & \\dots\n",
      "        \\end{align}$$\n",
      "    - $w_0, \\tau_a, \\tau_a \\tau_b w_0, \\dots$ can be estimated from data by counting frequencies\n",
      "        - Can obtain $\\tau_a$ from argument-value pairs\n",
      "        $$ \\begin{align} w_0 & \\to \\tau_a w_0\\\\\n",
      "        \\tau_b w_0 & \\to \\tau_a \\tau_b w_0\\\\\n",
      "        & \\dots \\end{align} $$"
     ]
    },
    {
     "cell_type": "code",
     "collapsed": false,
     "input": [],
     "language": "python",
     "metadata": {},
     "outputs": []
    }
   ],
   "metadata": {}
  }
 ]
}