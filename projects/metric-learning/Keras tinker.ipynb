{
 "cells": [
  {
   "cell_type": "code",
   "execution_count": 54,
   "metadata": {
    "collapsed": false
   },
   "outputs": [
    {
     "data": {
      "text/plain": [
       "(1797, 20)"
      ]
     },
     "execution_count": 54,
     "metadata": {},
     "output_type": "execute_result"
    }
   ],
   "source": [
    "from sklearn.datasets import load_digits\n",
    "X,y = load_digits().data,load_digits().target\n",
    "from sklearn.decomposition import PCA\n",
    "X = PCA(20).fit_transform(X)\n",
    "X.shape"
   ]
  },
  {
   "cell_type": "code",
   "execution_count": 55,
   "metadata": {
    "collapsed": true
   },
   "outputs": [],
   "source": [
    "X_train,X_test = X[:1000],X[1000:]\n",
    "y_train,y_test = Y[:1000],Y[1000:]"
   ]
  },
  {
   "cell_type": "code",
   "execution_count": 56,
   "metadata": {
    "collapsed": false
   },
   "outputs": [
    {
     "data": {
      "text/plain": [
       "10"
      ]
     },
     "execution_count": 56,
     "metadata": {},
     "output_type": "execute_result"
    }
   ],
   "source": [
    "len(set(y_test))"
   ]
  },
  {
   "cell_type": "code",
   "execution_count": 57,
   "metadata": {
    "collapsed": false
   },
   "outputs": [
    {
     "name": "stdout",
     "output_type": "stream",
     "text": [
      "Epoch 0\n"
     ]
    },
    {
     "ename": "ValueError",
     "evalue": "Input dimension mis-match. (input[0].shape[1] = 10, input[1].shape[1] = 1)\nApply node that caused the error: Elemwise{sub,no_inplace}(SoftmaxWithBias.0, <TensorType(float32, matrix)>)\nInputs types: [TensorType(float32, matrix), TensorType(float32, matrix)]\nInputs shapes: [(16, 10), (16, 1)]\nInputs strides: [(40, 4), (4, 4)]\nInputs values: ['not shown', 'not shown']\n\nBacktrace when the node is created:\n  File \"build/bdist.macosx-10.5-x86_64/egg/keras/objectives.py\", line 10, in mean_squared_error\n    return T.sqr(y_pred - y_true).mean()\n\nHINT: Use the Theano flag 'exception_verbosity=high' for a debugprint and storage map footprint of this apply node.",
     "output_type": "error",
     "traceback": [
      "\u001b[0;31m---------------------------------------------------------------------------\u001b[0m",
      "\u001b[0;31mValueError\u001b[0m                                Traceback (most recent call last)",
      "\u001b[0;32m<ipython-input-57-90f0d4674041>\u001b[0m in \u001b[0;36m<module>\u001b[0;34m()\u001b[0m\n\u001b[1;32m     13\u001b[0m \u001b[0mmodel\u001b[0m\u001b[0;34m.\u001b[0m\u001b[0mcompile\u001b[0m\u001b[0;34m(\u001b[0m\u001b[0mloss\u001b[0m\u001b[0;34m=\u001b[0m\u001b[0;34m'mean_squared_error'\u001b[0m\u001b[0;34m,\u001b[0m \u001b[0moptimizer\u001b[0m\u001b[0;34m=\u001b[0m\u001b[0msgd\u001b[0m\u001b[0;34m)\u001b[0m\u001b[0;34m\u001b[0m\u001b[0m\n\u001b[1;32m     14\u001b[0m \u001b[0;34m\u001b[0m\u001b[0m\n\u001b[0;32m---> 15\u001b[0;31m \u001b[0mmodel\u001b[0m\u001b[0;34m.\u001b[0m\u001b[0mfit\u001b[0m\u001b[0;34m(\u001b[0m\u001b[0mX_train\u001b[0m\u001b[0;34m,\u001b[0m \u001b[0my_train\u001b[0m\u001b[0;34m,\u001b[0m \u001b[0mnb_epoch\u001b[0m\u001b[0;34m=\u001b[0m\u001b[0;36m20\u001b[0m\u001b[0;34m,\u001b[0m \u001b[0mbatch_size\u001b[0m\u001b[0;34m=\u001b[0m\u001b[0;36m16\u001b[0m\u001b[0;34m)\u001b[0m\u001b[0;34m\u001b[0m\u001b[0m\n\u001b[0m\u001b[1;32m     16\u001b[0m \u001b[0mscore\u001b[0m \u001b[0;34m=\u001b[0m \u001b[0mmodel\u001b[0m\u001b[0;34m.\u001b[0m\u001b[0mevaluate\u001b[0m\u001b[0;34m(\u001b[0m\u001b[0mX_test\u001b[0m\u001b[0;34m,\u001b[0m \u001b[0my_test\u001b[0m\u001b[0;34m,\u001b[0m \u001b[0mbatch_size\u001b[0m\u001b[0;34m=\u001b[0m\u001b[0;36m16\u001b[0m\u001b[0;34m)\u001b[0m\u001b[0;34m\u001b[0m\u001b[0m\n",
      "\u001b[0;32m/Users/joshuafass/anaconda/envs/py27/lib/python2.7/site-packages/Keras-0.0.1-py2.7.egg/keras/models.pyc\u001b[0m in \u001b[0;36mfit\u001b[0;34m(self, X, y, batch_size, nb_epoch, verbose, validation_split, validation_data, shuffle, show_accuracy)\u001b[0m\n\u001b[1;32m    250\u001b[0m                     \u001b[0mav_acc\u001b[0m \u001b[0;34m+=\u001b[0m \u001b[0macc\u001b[0m \u001b[0;34m*\u001b[0m \u001b[0mlen\u001b[0m\u001b[0;34m(\u001b[0m\u001b[0mbatch_ids\u001b[0m\u001b[0;34m)\u001b[0m\u001b[0;34m\u001b[0m\u001b[0m\n\u001b[1;32m    251\u001b[0m                 \u001b[0;32melse\u001b[0m\u001b[0;34m:\u001b[0m\u001b[0;34m\u001b[0m\u001b[0m\n\u001b[0;32m--> 252\u001b[0;31m                     \u001b[0mloss\u001b[0m \u001b[0;34m=\u001b[0m \u001b[0mself\u001b[0m\u001b[0;34m.\u001b[0m\u001b[0m_train\u001b[0m\u001b[0;34m(\u001b[0m\u001b[0;34m*\u001b[0m\u001b[0mins\u001b[0m\u001b[0;34m)\u001b[0m\u001b[0;34m\u001b[0m\u001b[0m\n\u001b[0m\u001b[1;32m    253\u001b[0m                     \u001b[0mlog_values\u001b[0m \u001b[0;34m=\u001b[0m \u001b[0;34m[\u001b[0m\u001b[0;34m(\u001b[0m\u001b[0;34m'loss'\u001b[0m\u001b[0;34m,\u001b[0m \u001b[0mloss\u001b[0m\u001b[0;34m)\u001b[0m\u001b[0;34m]\u001b[0m\u001b[0;34m\u001b[0m\u001b[0m\n\u001b[1;32m    254\u001b[0m                     \u001b[0mav_loss\u001b[0m \u001b[0;34m+=\u001b[0m \u001b[0mloss\u001b[0m \u001b[0;34m*\u001b[0m \u001b[0mlen\u001b[0m\u001b[0;34m(\u001b[0m\u001b[0mbatch_ids\u001b[0m\u001b[0;34m)\u001b[0m\u001b[0;34m\u001b[0m\u001b[0m\n",
      "\u001b[0;32m/Users/joshuafass/anaconda/envs/py27/lib/python2.7/site-packages/theano/compile/function_module.pyc\u001b[0m in \u001b[0;36m__call__\u001b[0;34m(self, *args, **kwargs)\u001b[0m\n\u001b[1;32m    604\u001b[0m                         \u001b[0mself\u001b[0m\u001b[0;34m.\u001b[0m\u001b[0mfn\u001b[0m\u001b[0;34m.\u001b[0m\u001b[0mnodes\u001b[0m\u001b[0;34m[\u001b[0m\u001b[0mself\u001b[0m\u001b[0;34m.\u001b[0m\u001b[0mfn\u001b[0m\u001b[0;34m.\u001b[0m\u001b[0mposition_of_error\u001b[0m\u001b[0;34m]\u001b[0m\u001b[0;34m,\u001b[0m\u001b[0;34m\u001b[0m\u001b[0m\n\u001b[1;32m    605\u001b[0m                         \u001b[0mself\u001b[0m\u001b[0;34m.\u001b[0m\u001b[0mfn\u001b[0m\u001b[0;34m.\u001b[0m\u001b[0mthunks\u001b[0m\u001b[0;34m[\u001b[0m\u001b[0mself\u001b[0m\u001b[0;34m.\u001b[0m\u001b[0mfn\u001b[0m\u001b[0;34m.\u001b[0m\u001b[0mposition_of_error\u001b[0m\u001b[0;34m]\u001b[0m\u001b[0;34m,\u001b[0m\u001b[0;34m\u001b[0m\u001b[0m\n\u001b[0;32m--> 606\u001b[0;31m                         storage_map=self.fn.storage_map)\n\u001b[0m\u001b[1;32m    607\u001b[0m                 \u001b[0;32melse\u001b[0m\u001b[0;34m:\u001b[0m\u001b[0;34m\u001b[0m\u001b[0m\n\u001b[1;32m    608\u001b[0m                     \u001b[0;31m# For the c linker We don't have access from\u001b[0m\u001b[0;34m\u001b[0m\u001b[0;34m\u001b[0m\u001b[0m\n",
      "\u001b[0;32m/Users/joshuafass/anaconda/envs/py27/lib/python2.7/site-packages/theano/compile/function_module.pyc\u001b[0m in \u001b[0;36m__call__\u001b[0;34m(self, *args, **kwargs)\u001b[0m\n\u001b[1;32m    593\u001b[0m         \u001b[0mt0_fn\u001b[0m \u001b[0;34m=\u001b[0m \u001b[0mtime\u001b[0m\u001b[0;34m.\u001b[0m\u001b[0mtime\u001b[0m\u001b[0;34m(\u001b[0m\u001b[0;34m)\u001b[0m\u001b[0;34m\u001b[0m\u001b[0m\n\u001b[1;32m    594\u001b[0m         \u001b[0;32mtry\u001b[0m\u001b[0;34m:\u001b[0m\u001b[0;34m\u001b[0m\u001b[0m\n\u001b[0;32m--> 595\u001b[0;31m             \u001b[0moutputs\u001b[0m \u001b[0;34m=\u001b[0m \u001b[0mself\u001b[0m\u001b[0;34m.\u001b[0m\u001b[0mfn\u001b[0m\u001b[0;34m(\u001b[0m\u001b[0;34m)\u001b[0m\u001b[0;34m\u001b[0m\u001b[0m\n\u001b[0m\u001b[1;32m    596\u001b[0m         \u001b[0;32mexcept\u001b[0m \u001b[0mException\u001b[0m\u001b[0;34m:\u001b[0m\u001b[0;34m\u001b[0m\u001b[0m\n\u001b[1;32m    597\u001b[0m             \u001b[0;32mif\u001b[0m \u001b[0mhasattr\u001b[0m\u001b[0;34m(\u001b[0m\u001b[0mself\u001b[0m\u001b[0;34m.\u001b[0m\u001b[0mfn\u001b[0m\u001b[0;34m,\u001b[0m \u001b[0;34m'position_of_error'\u001b[0m\u001b[0;34m)\u001b[0m\u001b[0;34m:\u001b[0m\u001b[0;34m\u001b[0m\u001b[0m\n",
      "\u001b[0;31mValueError\u001b[0m: Input dimension mis-match. (input[0].shape[1] = 10, input[1].shape[1] = 1)\nApply node that caused the error: Elemwise{sub,no_inplace}(SoftmaxWithBias.0, <TensorType(float32, matrix)>)\nInputs types: [TensorType(float32, matrix), TensorType(float32, matrix)]\nInputs shapes: [(16, 10), (16, 1)]\nInputs strides: [(40, 4), (4, 4)]\nInputs values: ['not shown', 'not shown']\n\nBacktrace when the node is created:\n  File \"build/bdist.macosx-10.5-x86_64/egg/keras/objectives.py\", line 10, in mean_squared_error\n    return T.sqr(y_pred - y_true).mean()\n\nHINT: Use the Theano flag 'exception_verbosity=high' for a debugprint and storage map footprint of this apply node."
     ]
    }
   ],
   "source": [
    "from keras.models import Sequential\n",
    "from keras.layers.core import Dense, Dropout, Activation\n",
    "from keras.optimizers import SGD\n",
    "\n",
    "model = Sequential()\n",
    "model.add(Dense(20, 64, init='uniform',activation='tanh'))\n",
    "model.add(Dropout(0.5))\n",
    "model.add(Dense(64, 64, init='uniform',activation='tanh'))\n",
    "model.add(Dropout(0.5))\n",
    "model.add(Dense(64, 10, init='uniform',activation='softmax'))\n",
    "\n",
    "sgd = SGD(lr=0.1, decay=1e-6, momentum=0.9, nesterov=True)\n",
    "model.compile(loss='mean_squared_error', optimizer=sgd)\n",
    "\n",
    "model.fit(X_train, y_train, nb_epoch=20, batch_size=16)\n",
    "score = model.evaluate(X_test, y_test, batch_size=16)"
   ]
  },
  {
   "cell_type": "code",
   "execution_count": 58,
   "metadata": {
    "collapsed": false
   },
   "outputs": [
    {
     "data": {
      "text/plain": [
       "(1797, 20)"
      ]
     },
     "execution_count": 58,
     "metadata": {},
     "output_type": "execute_result"
    }
   ],
   "source": [
    "X.shape"
   ]
  },
  {
   "cell_type": "code",
   "execution_count": 59,
   "metadata": {
    "collapsed": false
   },
   "outputs": [
    {
     "name": "stdout",
     "output_type": "stream",
     "text": [
      "60000 train samples\n",
      "10000 test samples\n",
      "Train on 60000 samples, validate on 10000 samples\n",
      "Epoch 0\n",
      "2s - loss: 0.4002 - acc.: 0.8834 - val. loss: 0.1680 - val. acc.: 0.9499\n",
      "Epoch 1\n",
      "2s - loss: 0.1756 - acc.: 0.9474 - val. loss: 0.1189 - val. acc.: 0.9653\n",
      "Epoch 2\n",
      "2s - loss: 0.1322 - acc.: 0.9602 - val. loss: 0.0984 - val. acc.: 0.9701\n",
      "Epoch 3\n",
      "2s - loss: 0.1095 - acc.: 0.9675 - val. loss: 0.0817 - val. acc.: 0.9749\n",
      "Epoch 4\n",
      "2s - loss: 0.0960 - acc.: 0.9711 - val. loss: 0.0795 - val. acc.: 0.9758\n",
      "Epoch 5\n",
      "2s - loss: 0.0844 - acc.: 0.9737 - val. loss: 0.0863 - val. acc.: 0.9766\n",
      "Epoch 6\n",
      "2s - loss: 0.0775 - acc.: 0.9764 - val. loss: 0.0747 - val. acc.: 0.9789\n",
      "Epoch 7\n",
      "2s - loss: 0.0746 - acc.: 0.9769 - val. loss: 0.0721 - val. acc.: 0.9780\n",
      "Epoch 8\n",
      "2s - loss: 0.0669 - acc.: 0.9792 - val. loss: 0.0721 - val. acc.: 0.9817\n",
      "Epoch 9\n",
      "2s - loss: 0.0627 - acc.: 0.9805 - val. loss: 0.0697 - val. acc.: 0.9806\n",
      "Epoch 10\n",
      "2s - loss: 0.0602 - acc.: 0.9816 - val. loss: 0.0740 - val. acc.: 0.9795\n",
      "Epoch 11\n",
      "2s - loss: 0.0578 - acc.: 0.9815 - val. loss: 0.0811 - val. acc.: 0.9788\n",
      "Epoch 12\n",
      "2s - loss: 0.0563 - acc.: 0.9832 - val. loss: 0.0739 - val. acc.: 0.9800\n",
      "Epoch 13\n",
      "2s - loss: 0.0520 - acc.: 0.9844 - val. loss: 0.0795 - val. acc.: 0.9799\n",
      "Epoch 14\n",
      "2s - loss: 0.0493 - acc.: 0.9845 - val. loss: 0.0699 - val. acc.: 0.9825\n",
      "Epoch 15\n",
      "2s - loss: 0.0483 - acc.: 0.9851 - val. loss: 0.0760 - val. acc.: 0.9820\n",
      "Epoch 16\n",
      "3s - loss: 0.0472 - acc.: 0.9853 - val. loss: 0.0775 - val. acc.: 0.9809\n",
      "Epoch 17\n",
      "2s - loss: 0.0457 - acc.: 0.9859 - val. loss: 0.0742 - val. acc.: 0.9800\n",
      "Epoch 18\n",
      "2s - loss: 0.0421 - acc.: 0.9871 - val. loss: 0.0781 - val. acc.: 0.9825\n",
      "Epoch 19\n",
      "2s - loss: 0.0424 - acc.: 0.9866 - val. loss: 0.0759 - val. acc.: 0.9823\n",
      "Test score: 0.0750831614406\n",
      "Test accuracy: 0.982496044304\n"
     ]
    }
   ],
   "source": [
    "# stolen from: https://github.com/fchollet/keras/blob/master/examples/mnist_nn.py\n",
    "\n",
    "from __future__ import absolute_import\n",
    "from __future__ import print_function\n",
    "from keras.datasets import mnist\n",
    "from keras.models import Sequential\n",
    "from keras.layers.core import Dense, Dropout, Activation\n",
    "from keras.regularizers import l2, l1\n",
    "from keras.constraints import maxnorm\n",
    "from keras.optimizers import SGD, Adam, RMSprop\n",
    "from keras.utils import np_utils\n",
    "import numpy as np\n",
    "\n",
    "'''\n",
    "    Train a simple deep NN on the MNIST dataset.\n",
    "'''\n",
    "\n",
    "batch_size = 64\n",
    "nb_classes = 10\n",
    "nb_epoch = 20\n",
    "\n",
    "np.random.seed(1337) # for reproducibility\n",
    "\n",
    "# the data, shuffled and split between tran and test sets\n",
    "(X_train, y_train), (X_test, y_test) = mnist.load_data()\n",
    "\n",
    "X_train=X_train.reshape(60000,784)\n",
    "X_test=X_test.reshape(10000,784)\n",
    "X_train = X_train.astype(\"float32\")\n",
    "X_test = X_test.astype(\"float32\")\n",
    "X_train /= 255\n",
    "X_test /= 255\n",
    "print(X_train.shape[0], 'train samples')\n",
    "print(X_test.shape[0], 'test samples')\n",
    "\n",
    "# convert class vectors to binary class matrices\n",
    "Y_train = np_utils.to_categorical(y_train, nb_classes)\n",
    "Y_test = np_utils.to_categorical(y_test, nb_classes)\n",
    "\n",
    "model = Sequential()\n",
    "model.add(Dense(784, 128))\n",
    "model.add(Activation('relu'))\n",
    "model.add(Dropout(0.2))\n",
    "model.add(Dense(128, 128))\n",
    "model.add(Activation('relu'))\n",
    "model.add(Dropout(0.2))\n",
    "model.add(Dense(128, 10))\n",
    "model.add(Activation('softmax'))\n",
    "\n",
    "rms = RMSprop()\n",
    "model.compile(loss='categorical_crossentropy', optimizer=rms)\n",
    "\n",
    "model.fit(X_train, Y_train, batch_size=batch_size, nb_epoch=nb_epoch, show_accuracy=True, verbose=2, validation_data=(X_test, Y_test))\n",
    "score = model.evaluate(X_test, Y_test, show_accuracy=True, verbose=0)\n",
    "print('Test score:', score[0])\n",
    "print('Test accuracy:', score[1])"
   ]
  },
  {
   "cell_type": "code",
   "execution_count": 26,
   "metadata": {
    "collapsed": false
   },
   "outputs": [
    {
     "name": "stdout",
     "output_type": "stream",
     "text": [
      "Train on 60000 samples, validate on 10000 samples\n",
      "Epoch 0\n",
      "5s - loss: 0.0758 - acc.: 0.0088 - val. loss: 0.0676 - val. acc.: 0.0143\n",
      "Epoch 1\n",
      "5s - loss: 0.0672 - acc.: 0.0104 - val. loss: 0.0657 - val. acc.: 0.0130\n",
      "Epoch 2\n",
      "5s - loss: 0.0656 - acc.: 0.0114 - val. loss: 0.0637 - val. acc.: 0.0126\n",
      "Epoch 3\n",
      "5s - loss: 0.0644 - acc.: 0.0115 - val. loss: 0.0625 - val. acc.: 0.0105\n",
      "Epoch 4\n",
      "5s - loss: 0.0638 - acc.: 0.0123 - val. loss: 0.0621 - val. acc.: 0.0124\n",
      "Epoch 5\n",
      "5s - loss: 0.0636 - acc.: 0.0123 - val. loss: 0.0620 - val. acc.: 0.0132\n",
      "Epoch 6\n",
      "5s - loss: 0.0634 - acc.: 0.0129 - val. loss: 0.0618 - val. acc.: 0.0134\n",
      "Epoch 7\n",
      "5s - loss: 0.0633 - acc.: 0.0122 - val. loss: 0.0618 - val. acc.: 0.0134\n",
      "Epoch 8\n",
      "5s - loss: 0.0633 - acc.: 0.0130 - val. loss: 0.0618 - val. acc.: 0.0133\n",
      "Epoch 9\n",
      "5s - loss: 0.0632 - acc.: 0.0134 - val. loss: 0.0616 - val. acc.: 0.0136\n",
      "Epoch 10\n",
      "5s - loss: 0.0631 - acc.: 0.0132 - val. loss: 0.0616 - val. acc.: 0.0139\n",
      "Epoch 11\n",
      "5s - loss: 0.0629 - acc.: 0.0135 - val. loss: 0.0615 - val. acc.: 0.0138\n",
      "Epoch 12\n",
      "5s - loss: 0.0628 - acc.: 0.0129 - val. loss: 0.0612 - val. acc.: 0.0137\n",
      "Epoch 13\n",
      "5s - loss: 0.0622 - acc.: 0.0136 - val. loss: 0.0605 - val. acc.: 0.0141\n",
      "Epoch 14\n",
      "5s - loss: 0.0612 - acc.: 0.0125 - val. loss: 0.0603 - val. acc.: 0.0139\n",
      "Epoch 15\n",
      "5s - loss: 0.0608 - acc.: 0.0119 - val. loss: 0.0600 - val. acc.: 0.0133\n",
      "Epoch 16\n",
      "5s - loss: 0.0606 - acc.: 0.0107 - val. loss: 0.0599 - val. acc.: 0.0136\n",
      "Epoch 17\n",
      "5s - loss: 0.0605 - acc.: 0.0103 - val. loss: 0.0598 - val. acc.: 0.0126\n",
      "Epoch 18\n",
      "5s - loss: 0.0604 - acc.: 0.0096 - val. loss: 0.0595 - val. acc.: 0.0131\n",
      "Epoch 19\n",
      "5s - loss: 0.0602 - acc.: 0.0096 - val. loss: 0.0594 - val. acc.: 0.0095\n",
      "Test score: 0.0594051815569\n",
      "Test accuracy: 0.00939477848101\n"
     ]
    }
   ],
   "source": [
    "# let's make an autoencoder\n",
    "\n",
    "model = Sequential()\n",
    "model.add(Dense(784, 128,activation='relu'))\n",
    "model.add(Dropout(0.2))\n",
    "model.add(Dense(128, 128,activation='relu'))\n",
    "model.add(Dropout(0.2))\n",
    "model.add(Dense(128, 2,activation='relu'))\n",
    "model.add(Dropout(0.2))\n",
    "model.add(Dense(2, 128,activation='relu'))\n",
    "model.add(Dropout(0.2))\n",
    "model.add(Dense(128, 128,activation='relu'))\n",
    "model.add(Dropout(0.2))\n",
    "model.add(Dense(128, 784,activation='relu'))\n",
    "\n",
    "rms = RMSprop()\n",
    "model.compile(loss='mse', optimizer=rms)\n",
    "\n",
    "model.fit(X_train, X_train, batch_size=batch_size, nb_epoch=nb_epoch, show_accuracy=True, verbose=2, validation_data=(X_test, X_test))\n",
    "score = model.evaluate(X_test, X_test, show_accuracy=True, verbose=0)\n",
    "print('Test score:', score[0])\n",
    "print('Test accuracy:', score[1])"
   ]
  },
  {
   "cell_type": "code",
   "execution_count": 23,
   "metadata": {
    "collapsed": false
   },
   "outputs": [
    {
     "data": {
      "text/plain": [
       "(60000, 784)"
      ]
     },
     "execution_count": 23,
     "metadata": {},
     "output_type": "execute_result"
    }
   ],
   "source": [
    "X_train.shape"
   ]
  },
  {
   "cell_type": "code",
   "execution_count": 25,
   "metadata": {
    "collapsed": false
   },
   "outputs": [
    {
     "name": "stdout",
     "output_type": "stream",
     "text": [
      "60000/60000 [==============================] - 1s     \n"
     ]
    },
    {
     "data": {
      "text/plain": [
       "(60000, 784)"
      ]
     },
     "execution_count": 25,
     "metadata": {},
     "output_type": "execute_result"
    }
   ],
   "source": [
    "model.predict(X_train).shape"
   ]
  },
  {
   "cell_type": "code",
   "execution_count": 33,
   "metadata": {
    "collapsed": false
   },
   "outputs": [
    {
     "data": {
      "text/plain": [
       "[array([[ 0.0181485 ,  0.02609826, -0.00305522, ..., -0.00780296,\n",
       "          0.02137184,  0.01811046],\n",
       "        [ 0.02537466, -0.04157665,  0.02020432, ...,  0.04484425,\n",
       "         -0.00866545,  0.01702437],\n",
       "        [ 0.02393472,  0.02866936, -0.00472653, ...,  0.01880961,\n",
       "          0.00587549,  0.02051604],\n",
       "        ..., \n",
       "        [-0.00808461,  0.0281772 , -0.03982936, ...,  0.03785738,\n",
       "         -0.00189981,  0.03640595],\n",
       "        [-0.01715138,  0.00567307,  0.04657373, ...,  0.03418556,\n",
       "         -0.01153133, -0.02722255],\n",
       "        [ 0.00566882,  0.01680367, -0.01889592, ...,  0.00166049,\n",
       "          0.03052141,  0.03853069]], dtype=float32),\n",
       " array([-0.07241112,  0.0069766 ,  0.00392984,  0.03992437, -0.08026286,\n",
       "         0.00296543, -0.07084998,  0.01232044,  0.01584496, -0.00962455,\n",
       "         0.01415984,  0.0069422 , -0.00905515, -0.00570969, -0.00244865,\n",
       "         0.01633407, -0.08068327,  0.00753555, -0.09376856, -0.10046797,\n",
       "        -0.03396196, -0.08234026,  0.04115795,  0.01795877, -0.09049919,\n",
       "         0.01218412, -0.10286569,  0.01023567,  0.00714153,  0.00988461,\n",
       "         0.01545758, -0.00127244,  0.02261891, -0.00272064, -0.00262476,\n",
       "        -0.05834663,  0.02771454, -0.070443  ,  0.00443574,  0.01952106,\n",
       "        -0.0881573 , -0.02852612,  0.01938807,  0.00097267, -0.00574786,\n",
       "        -0.02628584,  0.01840769, -0.00464533,  0.00096442,  0.00893583,\n",
       "        -0.07917481,  0.00031921, -0.04541691, -0.10835235,  0.01179633,\n",
       "         0.02184967, -0.00065211, -0.06013202,  0.01292379, -0.01975267,\n",
       "        -0.07254777, -0.05152095, -0.0006332 , -0.03258261, -0.00475059,\n",
       "        -0.03976971,  0.0241556 ,  0.00127159, -0.0028063 ,  0.00952145,\n",
       "        -0.11381801, -0.01757858, -0.00192061, -0.06682976, -0.02527649,\n",
       "         0.02709396, -0.00260095,  0.02078892, -0.00320256, -0.09860161,\n",
       "        -0.04386458, -0.05868203,  0.04485738, -0.00871583, -0.00411345,\n",
       "        -0.00262248,  0.01885691,  0.01184752, -0.11377472, -0.09902745,\n",
       "        -0.07182229,  0.0523348 , -0.00273854,  0.05448765, -0.13177966,\n",
       "        -0.07278015,  0.00576413, -0.04813857, -0.04759918,  0.01292087,\n",
       "        -0.06375396,  0.00475342,  0.01710393, -0.0836885 ,  0.0032417 ,\n",
       "        -0.04271514,  0.01347142,  0.0010778 ,  0.00189263, -0.00393991,\n",
       "        -0.02015704,  0.00881423,  0.02087088,  0.02345028,  0.01245924,\n",
       "        -0.00791272, -0.00290048,  0.03114179, -0.0795873 ,  0.0049227 ,\n",
       "         0.00685469, -0.00741858,  0.00324824, -0.07507141,  0.05788776,\n",
       "         0.0055315 , -0.00337293, -0.11769459], dtype=float32),\n",
       " array([[ 0.07986602, -0.08522494,  0.05265382, ..., -0.01025603,\n",
       "         -0.00613539, -0.01853022],\n",
       "        [ 0.01370056,  0.07116223, -0.02965094, ...,  0.0482785 ,\n",
       "         -0.03991069, -0.0084573 ],\n",
       "        [ 0.06689017, -0.02908228, -0.00272555, ..., -0.05713871,\n",
       "          0.02182861,  0.04557681],\n",
       "        ..., \n",
       "        [-0.00482133, -0.0644448 , -0.00851347, ..., -0.0460988 ,\n",
       "          0.09085574, -0.07308838],\n",
       "        [-0.08493724, -0.02241907,  0.04241071, ...,  0.04382087,\n",
       "         -0.07029235, -0.027528  ],\n",
       "        [ 0.01755759,  0.07159813, -0.0234807 , ..., -0.04688525,\n",
       "          0.03097397, -0.06093774]], dtype=float32)]"
      ]
     },
     "execution_count": 33,
     "metadata": {},
     "output_type": "execute_result"
    }
   ],
   "source": [
    "model.get_weights()[:3]"
   ]
  },
  {
   "cell_type": "code",
   "execution_count": 36,
   "metadata": {
    "collapsed": true
   },
   "outputs": [],
   "source": [
    "import copy\n",
    "model_layers_archive = copy.copy(model.layers)"
   ]
  },
  {
   "cell_type": "code",
   "execution_count": 37,
   "metadata": {
    "collapsed": false
   },
   "outputs": [
    {
     "data": {
      "text/plain": [
       "[<keras.layers.core.Dense at 0x11013f890>,\n",
       " <keras.layers.core.Dropout at 0x10e41add0>,\n",
       " <keras.layers.core.Dense at 0x10e4ba310>,\n",
       " <keras.layers.core.Dropout at 0x10d038590>,\n",
       " <keras.layers.core.Dense at 0x1104ba490>,\n",
       " <keras.layers.core.Dropout at 0x11093aa10>]"
      ]
     },
     "execution_count": 37,
     "metadata": {},
     "output_type": "execute_result"
    }
   ],
   "source": [
    "model.layers = model_layers_archive[:6]\n",
    "model.layers"
   ]
  },
  {
   "cell_type": "code",
   "execution_count": 39,
   "metadata": {
    "collapsed": false
   },
   "outputs": [
    {
     "name": "stdout",
     "output_type": "stream",
     "text": [
      "60000/60000 [==============================] - 5s     \n"
     ]
    },
    {
     "data": {
      "text/plain": [
       "(60000, 784)"
      ]
     },
     "execution_count": 39,
     "metadata": {},
     "output_type": "execute_result"
    }
   ],
   "source": [
    "model.predict(X_train).shape"
   ]
  },
  {
   "cell_type": "code",
   "execution_count": 47,
   "metadata": {
    "collapsed": false
   },
   "outputs": [],
   "source": [
    "m = Sequential()\n",
    "for l in model_layers_archive[:5]:\n",
    "    m.add(l)"
   ]
  },
  {
   "cell_type": "code",
   "execution_count": 53,
   "metadata": {
    "collapsed": false
   },
   "outputs": [
    {
     "data": {
      "text/plain": [
       "Elemwise{true_div,no_inplace}.0"
      ]
     },
     "execution_count": 53,
     "metadata": {},
     "output_type": "execute_result"
    }
   ],
   "source": [
    "l = model_layers_archive[0]\n",
    "l.get_output(X_train)"
   ]
  },
  {
   "cell_type": "code",
   "execution_count": 48,
   "metadata": {
    "collapsed": false
   },
   "outputs": [
    {
     "ename": "DisconnectedInputError",
     "evalue": "grad method was asked to compute the gradient with respect to a variable that is not part of the computational graph of the cost, or is used only by a non-differentiable operator: <TensorType(float32, matrix)>",
     "output_type": "error",
     "traceback": [
      "\u001b[0;31m---------------------------------------------------------------------------\u001b[0m",
      "\u001b[0;31mDisconnectedInputError\u001b[0m                    Traceback (most recent call last)",
      "\u001b[0;32m<ipython-input-48-199376e9c9ce>\u001b[0m in \u001b[0;36m<module>\u001b[0;34m()\u001b[0m\n\u001b[0;32m----> 1\u001b[0;31m \u001b[0mmodel\u001b[0m\u001b[0;34m.\u001b[0m\u001b[0mcompile\u001b[0m\u001b[0;34m(\u001b[0m\u001b[0mloss\u001b[0m\u001b[0;34m=\u001b[0m\u001b[0;34m'mse'\u001b[0m\u001b[0;34m,\u001b[0m \u001b[0moptimizer\u001b[0m\u001b[0;34m=\u001b[0m\u001b[0mrms\u001b[0m\u001b[0;34m)\u001b[0m\u001b[0;34m\u001b[0m\u001b[0m\n\u001b[0m",
      "\u001b[0;32m/Users/joshuafass/anaconda/envs/py27/lib/python2.7/site-packages/Keras-0.0.1-py2.7.egg/keras/models.pyc\u001b[0m in \u001b[0;36mcompile\u001b[0;34m(self, optimizer, loss, class_mode, theano_mode)\u001b[0m\n\u001b[1;32m     92\u001b[0m         \u001b[0mself\u001b[0m\u001b[0;34m.\u001b[0m\u001b[0mclass_mode\u001b[0m \u001b[0;34m=\u001b[0m \u001b[0mclass_mode\u001b[0m\u001b[0;34m\u001b[0m\u001b[0m\n\u001b[1;32m     93\u001b[0m \u001b[0;34m\u001b[0m\u001b[0m\n\u001b[0;32m---> 94\u001b[0;31m         \u001b[0mupdates\u001b[0m \u001b[0;34m=\u001b[0m \u001b[0mself\u001b[0m\u001b[0;34m.\u001b[0m\u001b[0moptimizer\u001b[0m\u001b[0;34m.\u001b[0m\u001b[0mget_updates\u001b[0m\u001b[0;34m(\u001b[0m\u001b[0mself\u001b[0m\u001b[0;34m.\u001b[0m\u001b[0mparams\u001b[0m\u001b[0;34m,\u001b[0m \u001b[0mself\u001b[0m\u001b[0;34m.\u001b[0m\u001b[0mregularizers\u001b[0m\u001b[0;34m,\u001b[0m \u001b[0mself\u001b[0m\u001b[0;34m.\u001b[0m\u001b[0mconstraints\u001b[0m\u001b[0;34m,\u001b[0m \u001b[0mtrain_loss\u001b[0m\u001b[0;34m)\u001b[0m\u001b[0;34m\u001b[0m\u001b[0m\n\u001b[0m\u001b[1;32m     95\u001b[0m \u001b[0;34m\u001b[0m\u001b[0m\n\u001b[1;32m     96\u001b[0m         \u001b[0;32mif\u001b[0m \u001b[0mtype\u001b[0m\u001b[0;34m(\u001b[0m\u001b[0mself\u001b[0m\u001b[0;34m.\u001b[0m\u001b[0mX_train\u001b[0m\u001b[0;34m)\u001b[0m \u001b[0;34m==\u001b[0m \u001b[0mlist\u001b[0m\u001b[0;34m:\u001b[0m\u001b[0;34m\u001b[0m\u001b[0m\n",
      "\u001b[0;32m/Users/joshuafass/anaconda/envs/py27/lib/python2.7/site-packages/Keras-0.0.1-py2.7.egg/keras/optimizers.pyc\u001b[0m in \u001b[0;36mget_updates\u001b[0;34m(self, params, regularizers, constraints, cost)\u001b[0m\n\u001b[1;32m     68\u001b[0m \u001b[0;34m\u001b[0m\u001b[0m\n\u001b[1;32m     69\u001b[0m     \u001b[0;32mdef\u001b[0m \u001b[0mget_updates\u001b[0m\u001b[0;34m(\u001b[0m\u001b[0mself\u001b[0m\u001b[0;34m,\u001b[0m \u001b[0mparams\u001b[0m\u001b[0;34m,\u001b[0m \u001b[0mregularizers\u001b[0m\u001b[0;34m,\u001b[0m \u001b[0mconstraints\u001b[0m\u001b[0;34m,\u001b[0m \u001b[0mcost\u001b[0m\u001b[0;34m)\u001b[0m\u001b[0;34m:\u001b[0m\u001b[0;34m\u001b[0m\u001b[0m\n\u001b[0;32m---> 70\u001b[0;31m         \u001b[0mgrads\u001b[0m \u001b[0;34m=\u001b[0m \u001b[0mself\u001b[0m\u001b[0;34m.\u001b[0m\u001b[0mget_gradients\u001b[0m\u001b[0;34m(\u001b[0m\u001b[0mcost\u001b[0m\u001b[0;34m,\u001b[0m \u001b[0mparams\u001b[0m\u001b[0;34m,\u001b[0m \u001b[0mregularizers\u001b[0m\u001b[0;34m)\u001b[0m\u001b[0;34m\u001b[0m\u001b[0m\n\u001b[0m\u001b[1;32m     71\u001b[0m         \u001b[0maccumulators\u001b[0m \u001b[0;34m=\u001b[0m \u001b[0;34m[\u001b[0m\u001b[0mshared_zeros\u001b[0m\u001b[0;34m(\u001b[0m\u001b[0mp\u001b[0m\u001b[0;34m.\u001b[0m\u001b[0mget_value\u001b[0m\u001b[0;34m(\u001b[0m\u001b[0;34m)\u001b[0m\u001b[0;34m.\u001b[0m\u001b[0mshape\u001b[0m\u001b[0;34m)\u001b[0m \u001b[0;32mfor\u001b[0m \u001b[0mp\u001b[0m \u001b[0;32min\u001b[0m \u001b[0mparams\u001b[0m\u001b[0;34m]\u001b[0m\u001b[0;34m\u001b[0m\u001b[0m\n\u001b[1;32m     72\u001b[0m         \u001b[0mupdates\u001b[0m \u001b[0;34m=\u001b[0m \u001b[0;34m[\u001b[0m\u001b[0;34m]\u001b[0m\u001b[0;34m\u001b[0m\u001b[0m\n",
      "\u001b[0;32m/Users/joshuafass/anaconda/envs/py27/lib/python2.7/site-packages/Keras-0.0.1-py2.7.egg/keras/optimizers.pyc\u001b[0m in \u001b[0;36mget_gradients\u001b[0;34m(self, cost, params, regularizers)\u001b[0m\n\u001b[1;32m     21\u001b[0m \u001b[0;34m\u001b[0m\u001b[0m\n\u001b[1;32m     22\u001b[0m     \u001b[0;32mdef\u001b[0m \u001b[0mget_gradients\u001b[0m\u001b[0;34m(\u001b[0m\u001b[0mself\u001b[0m\u001b[0;34m,\u001b[0m \u001b[0mcost\u001b[0m\u001b[0;34m,\u001b[0m \u001b[0mparams\u001b[0m\u001b[0;34m,\u001b[0m \u001b[0mregularizers\u001b[0m\u001b[0;34m)\u001b[0m\u001b[0;34m:\u001b[0m\u001b[0;34m\u001b[0m\u001b[0m\n\u001b[0;32m---> 23\u001b[0;31m         \u001b[0mgrads\u001b[0m \u001b[0;34m=\u001b[0m \u001b[0mT\u001b[0m\u001b[0;34m.\u001b[0m\u001b[0mgrad\u001b[0m\u001b[0;34m(\u001b[0m\u001b[0mcost\u001b[0m\u001b[0;34m,\u001b[0m \u001b[0mparams\u001b[0m\u001b[0;34m)\u001b[0m\u001b[0;34m\u001b[0m\u001b[0m\n\u001b[0m\u001b[1;32m     24\u001b[0m \u001b[0;34m\u001b[0m\u001b[0m\n\u001b[1;32m     25\u001b[0m         \u001b[0;32mif\u001b[0m \u001b[0mhasattr\u001b[0m\u001b[0;34m(\u001b[0m\u001b[0mself\u001b[0m\u001b[0;34m,\u001b[0m \u001b[0;34m'clipnorm'\u001b[0m\u001b[0;34m)\u001b[0m \u001b[0;32mand\u001b[0m \u001b[0mself\u001b[0m\u001b[0;34m.\u001b[0m\u001b[0mclipnorm\u001b[0m \u001b[0;34m>\u001b[0m \u001b[0;36m0\u001b[0m\u001b[0;34m:\u001b[0m\u001b[0;34m\u001b[0m\u001b[0m\n",
      "\u001b[0;32m/Users/joshuafass/anaconda/envs/py27/lib/python2.7/site-packages/theano/gradient.pyc\u001b[0m in \u001b[0;36mgrad\u001b[0;34m(cost, wrt, consider_constant, disconnected_inputs, add_names, known_grads, return_disconnected)\u001b[0m\n\u001b[1;32m    527\u001b[0m         \u001b[0;32mif\u001b[0m \u001b[0melem\u001b[0m \u001b[0;32mnot\u001b[0m \u001b[0;32min\u001b[0m \u001b[0mvar_to_app_to_idx\u001b[0m \u001b[0;32mand\u001b[0m \u001b[0melem\u001b[0m \u001b[0;32mis\u001b[0m \u001b[0;32mnot\u001b[0m \u001b[0mcost\u001b[0m\u001b[0;31m \u001b[0m\u001b[0;31m\\\u001b[0m\u001b[0;34m\u001b[0m\u001b[0m\n\u001b[1;32m    528\u001b[0m                 \u001b[0;32mand\u001b[0m \u001b[0melem\u001b[0m \u001b[0;32mnot\u001b[0m \u001b[0;32min\u001b[0m \u001b[0mgrad_dict\u001b[0m\u001b[0;34m:\u001b[0m\u001b[0;34m\u001b[0m\u001b[0m\n\u001b[0;32m--> 529\u001b[0;31m             \u001b[0mhandle_disconnected\u001b[0m\u001b[0;34m(\u001b[0m\u001b[0melem\u001b[0m\u001b[0;34m)\u001b[0m\u001b[0;34m\u001b[0m\u001b[0m\n\u001b[0m\u001b[1;32m    530\u001b[0m             \u001b[0mgrad_dict\u001b[0m\u001b[0;34m[\u001b[0m\u001b[0melem\u001b[0m\u001b[0;34m]\u001b[0m \u001b[0;34m=\u001b[0m \u001b[0mdisconnected_type\u001b[0m\u001b[0;34m(\u001b[0m\u001b[0;34m)\u001b[0m\u001b[0;34m\u001b[0m\u001b[0m\n\u001b[1;32m    531\u001b[0m \u001b[0;34m\u001b[0m\u001b[0m\n",
      "\u001b[0;32m/Users/joshuafass/anaconda/envs/py27/lib/python2.7/site-packages/theano/gradient.pyc\u001b[0m in \u001b[0;36mhandle_disconnected\u001b[0;34m(var)\u001b[0m\n\u001b[1;32m    514\u001b[0m                 \u001b[0mwarnings\u001b[0m\u001b[0;34m.\u001b[0m\u001b[0mwarn\u001b[0m\u001b[0;34m(\u001b[0m\u001b[0mmessage\u001b[0m\u001b[0;34m,\u001b[0m \u001b[0mstacklevel\u001b[0m\u001b[0;34m=\u001b[0m\u001b[0;36m2\u001b[0m\u001b[0;34m)\u001b[0m\u001b[0;34m\u001b[0m\u001b[0m\n\u001b[1;32m    515\u001b[0m             \u001b[0;32melif\u001b[0m \u001b[0mdisconnected_inputs\u001b[0m \u001b[0;34m==\u001b[0m \u001b[0;34m'raise'\u001b[0m\u001b[0;34m:\u001b[0m\u001b[0;34m\u001b[0m\u001b[0m\n\u001b[0;32m--> 516\u001b[0;31m                 \u001b[0;32mraise\u001b[0m \u001b[0mDisconnectedInputError\u001b[0m\u001b[0;34m(\u001b[0m\u001b[0mmessage\u001b[0m\u001b[0;34m)\u001b[0m\u001b[0;34m\u001b[0m\u001b[0m\n\u001b[0m\u001b[1;32m    517\u001b[0m             \u001b[0;32melse\u001b[0m\u001b[0;34m:\u001b[0m\u001b[0;34m\u001b[0m\u001b[0m\n\u001b[1;32m    518\u001b[0m                 raise ValueError(\"Invalid value for keyword \"\n",
      "\u001b[0;31mDisconnectedInputError\u001b[0m: grad method was asked to compute the gradient with respect to a variable that is not part of the computational graph of the cost, or is used only by a non-differentiable operator: <TensorType(float32, matrix)>"
     ]
    }
   ],
   "source": [
    "model.compile(loss='mse', optimizer=rms)"
   ]
  },
  {
   "cell_type": "code",
   "execution_count": 45,
   "metadata": {
    "collapsed": false
   },
   "outputs": [
    {
     "ename": "AttributeError",
     "evalue": "'Sequential' object has no attribute '_predict'",
     "output_type": "error",
     "traceback": [
      "\u001b[0;31m---------------------------------------------------------------------------\u001b[0m",
      "\u001b[0;31mAttributeError\u001b[0m                            Traceback (most recent call last)",
      "\u001b[0;32m<ipython-input-45-e3addf166985>\u001b[0m in \u001b[0;36m<module>\u001b[0;34m()\u001b[0m\n\u001b[0;32m----> 1\u001b[0;31m \u001b[0mm\u001b[0m\u001b[0;34m.\u001b[0m\u001b[0mpredict\u001b[0m\u001b[0;34m(\u001b[0m\u001b[0mX_train\u001b[0m\u001b[0;34m)\u001b[0m\u001b[0;34m\u001b[0m\u001b[0m\n\u001b[0m",
      "\u001b[0;32m/Users/joshuafass/anaconda/envs/py27/lib/python2.7/site-packages/Keras-0.0.1-py2.7.egg/keras/models.pyc\u001b[0m in \u001b[0;36mpredict\u001b[0;34m(self, X, batch_size, verbose)\u001b[0m\n\u001b[1;32m    284\u001b[0m         \u001b[0;32mfor\u001b[0m \u001b[0mbatch_index\u001b[0m\u001b[0;34m,\u001b[0m \u001b[0;34m(\u001b[0m\u001b[0mbatch_start\u001b[0m\u001b[0;34m,\u001b[0m \u001b[0mbatch_end\u001b[0m\u001b[0;34m)\u001b[0m \u001b[0;32min\u001b[0m \u001b[0menumerate\u001b[0m\u001b[0;34m(\u001b[0m\u001b[0mbatches\u001b[0m\u001b[0;34m)\u001b[0m\u001b[0;34m:\u001b[0m\u001b[0;34m\u001b[0m\u001b[0m\n\u001b[1;32m    285\u001b[0m             \u001b[0mX_batch\u001b[0m \u001b[0;34m=\u001b[0m \u001b[0mslice_X\u001b[0m\u001b[0;34m(\u001b[0m\u001b[0mX\u001b[0m\u001b[0;34m,\u001b[0m \u001b[0mbatch_start\u001b[0m\u001b[0;34m,\u001b[0m \u001b[0mbatch_end\u001b[0m\u001b[0;34m)\u001b[0m\u001b[0;34m\u001b[0m\u001b[0m\n\u001b[0;32m--> 286\u001b[0;31m             \u001b[0mbatch_preds\u001b[0m \u001b[0;34m=\u001b[0m \u001b[0mself\u001b[0m\u001b[0;34m.\u001b[0m\u001b[0m_predict\u001b[0m\u001b[0;34m(\u001b[0m\u001b[0;34m*\u001b[0m\u001b[0mX_batch\u001b[0m\u001b[0;34m)\u001b[0m\u001b[0;34m\u001b[0m\u001b[0m\n\u001b[0m\u001b[1;32m    287\u001b[0m \u001b[0;34m\u001b[0m\u001b[0m\n\u001b[1;32m    288\u001b[0m             \u001b[0;32mif\u001b[0m \u001b[0mbatch_index\u001b[0m \u001b[0;34m==\u001b[0m \u001b[0;36m0\u001b[0m\u001b[0;34m:\u001b[0m\u001b[0;34m\u001b[0m\u001b[0m\n",
      "\u001b[0;31mAttributeError\u001b[0m: 'Sequential' object has no attribute '_predict'"
     ]
    }
   ],
   "source": [
    "m.predict(X_train)"
   ]
  },
  {
   "cell_type": "code",
   "execution_count": null,
   "metadata": {
    "collapsed": true
   },
   "outputs": [],
   "source": [
    "# let's do "
   ]
  }
 ],
 "metadata": {
  "kernelspec": {
   "display_name": "Python 2",
   "language": "python",
   "name": "python2"
  },
  "language_info": {
   "codemirror_mode": {
    "name": "ipython",
    "version": 2
   },
   "file_extension": ".py",
   "mimetype": "text/x-python",
   "name": "python",
   "nbconvert_exporter": "python",
   "pygments_lexer": "ipython2",
   "version": "2.7.9"
  }
 },
 "nbformat": 4,
 "nbformat_minor": 0
}
